{
 "cells": [
  {
   "cell_type": "code",
   "execution_count": 1,
   "id": "21899938",
   "metadata": {},
   "outputs": [],
   "source": [
    "import ast\n",
    "from pathlib import Path\n",
    "\n",
    "import numpy as np\n",
    "import pandas as pd\n",
    "import matplotlib.pyplot as plt\n",
    "\n",
    "pd.set_option(\"display.max_columns\", 120)\n",
    "pd.set_option(\"display.width\", 140)"
   ]
  },
  {
   "cell_type": "code",
   "execution_count": null,
   "id": "271c3495",
   "metadata": {},
   "outputs": [
    {
     "data": {
      "text/plain": [
       "((45476, 3),\n",
       "                                                 cast                                               crew     id\n",
       " 0  [{'cast_id': 14, 'character': 'Woody (voice)',...  [{'credit_id': '52fe4284c3a36847f8024f49', 'de...    862\n",
       " 1  [{'cast_id': 1, 'character': 'Alan Parrish', '...  [{'credit_id': '52fe44bfc3a36847f80a7cd1', 'de...   8844\n",
       " 2  [{'cast_id': 2, 'character': 'Max Goldman', 'c...  [{'credit_id': '52fe466a9251416c75077a89', 'de...  15602\n",
       " 3  [{'cast_id': 1, 'character': \"Savannah 'Vannah...  [{'credit_id': '52fe44779251416c91011acb', 'de...  31357\n",
       " 4  [{'cast_id': 1, 'character': 'George Banks', '...  [{'credit_id': '52fe44959251416c75039ed7', 'de...  11862)"
      ]
     },
     "execution_count": 2,
     "metadata": {},
     "output_type": "execute_result"
    }
   ],
   "source": [
    "CSV_PATH = Path(\"../data/credits.csv\")\n",
    "\n",
    "df = pd.read_csv(CSV_PATH, low_memory=False)\n",
    "df.shape, df.head()"
   ]
  },
  {
   "cell_type": "code",
   "execution_count": 3,
   "id": "628004c6",
   "metadata": {},
   "outputs": [
    {
     "name": "stdout",
     "output_type": "stream",
     "text": [
      "Shape: (45476, 3)\n",
      "\n",
      "Dtypes:\n"
     ]
    },
    {
     "data": {
      "text/html": [
       "<div>\n",
       "<style scoped>\n",
       "    .dataframe tbody tr th:only-of-type {\n",
       "        vertical-align: middle;\n",
       "    }\n",
       "\n",
       "    .dataframe tbody tr th {\n",
       "        vertical-align: top;\n",
       "    }\n",
       "\n",
       "    .dataframe thead th {\n",
       "        text-align: right;\n",
       "    }\n",
       "</style>\n",
       "<table border=\"1\" class=\"dataframe\">\n",
       "  <thead>\n",
       "    <tr style=\"text-align: right;\">\n",
       "      <th></th>\n",
       "      <th>dtype</th>\n",
       "    </tr>\n",
       "  </thead>\n",
       "  <tbody>\n",
       "    <tr>\n",
       "      <th>cast</th>\n",
       "      <td>object</td>\n",
       "    </tr>\n",
       "    <tr>\n",
       "      <th>crew</th>\n",
       "      <td>object</td>\n",
       "    </tr>\n",
       "    <tr>\n",
       "      <th>id</th>\n",
       "      <td>int64</td>\n",
       "    </tr>\n",
       "  </tbody>\n",
       "</table>\n",
       "</div>"
      ],
      "text/plain": [
       "       dtype\n",
       "cast  object\n",
       "crew  object\n",
       "id     int64"
      ]
     },
     "metadata": {},
     "output_type": "display_data"
    },
    {
     "name": "stdout",
     "output_type": "stream",
     "text": [
      "\n",
      "Missing values:\n"
     ]
    },
    {
     "data": {
      "text/html": [
       "<div>\n",
       "<style scoped>\n",
       "    .dataframe tbody tr th:only-of-type {\n",
       "        vertical-align: middle;\n",
       "    }\n",
       "\n",
       "    .dataframe tbody tr th {\n",
       "        vertical-align: top;\n",
       "    }\n",
       "\n",
       "    .dataframe thead th {\n",
       "        text-align: right;\n",
       "    }\n",
       "</style>\n",
       "<table border=\"1\" class=\"dataframe\">\n",
       "  <thead>\n",
       "    <tr style=\"text-align: right;\">\n",
       "      <th></th>\n",
       "      <th>missing</th>\n",
       "      <th>missing_%</th>\n",
       "    </tr>\n",
       "  </thead>\n",
       "  <tbody>\n",
       "    <tr>\n",
       "      <th>cast</th>\n",
       "      <td>0</td>\n",
       "      <td>0.0</td>\n",
       "    </tr>\n",
       "    <tr>\n",
       "      <th>crew</th>\n",
       "      <td>0</td>\n",
       "      <td>0.0</td>\n",
       "    </tr>\n",
       "    <tr>\n",
       "      <th>id</th>\n",
       "      <td>0</td>\n",
       "      <td>0.0</td>\n",
       "    </tr>\n",
       "  </tbody>\n",
       "</table>\n",
       "</div>"
      ],
      "text/plain": [
       "      missing  missing_%\n",
       "cast        0        0.0\n",
       "crew        0        0.0\n",
       "id          0        0.0"
      ]
     },
     "metadata": {},
     "output_type": "display_data"
    },
    {
     "name": "stdout",
     "output_type": "stream",
     "text": [
      "\n",
      "Zero counts in numeric columns:\n"
     ]
    },
    {
     "data": {
      "text/html": [
       "<div>\n",
       "<style scoped>\n",
       "    .dataframe tbody tr th:only-of-type {\n",
       "        vertical-align: middle;\n",
       "    }\n",
       "\n",
       "    .dataframe tbody tr th {\n",
       "        vertical-align: top;\n",
       "    }\n",
       "\n",
       "    .dataframe thead th {\n",
       "        text-align: right;\n",
       "    }\n",
       "</style>\n",
       "<table border=\"1\" class=\"dataframe\">\n",
       "  <thead>\n",
       "    <tr style=\"text-align: right;\">\n",
       "      <th></th>\n",
       "      <th>zero_count</th>\n",
       "    </tr>\n",
       "  </thead>\n",
       "  <tbody>\n",
       "    <tr>\n",
       "      <th>id</th>\n",
       "      <td>0</td>\n",
       "    </tr>\n",
       "  </tbody>\n",
       "</table>\n",
       "</div>"
      ],
      "text/plain": [
       "    zero_count\n",
       "id           0"
      ]
     },
     "metadata": {},
     "output_type": "display_data"
    },
    {
     "name": "stdout",
     "output_type": "stream",
     "text": [
      "\n",
      "Empty JSON structure checks:\n"
     ]
    },
    {
     "data": {
      "text/html": [
       "<div>\n",
       "<style scoped>\n",
       "    .dataframe tbody tr th:only-of-type {\n",
       "        vertical-align: middle;\n",
       "    }\n",
       "\n",
       "    .dataframe tbody tr th {\n",
       "        vertical-align: top;\n",
       "    }\n",
       "\n",
       "    .dataframe thead th {\n",
       "        text-align: right;\n",
       "    }\n",
       "</style>\n",
       "<table border=\"1\" class=\"dataframe\">\n",
       "  <thead>\n",
       "    <tr style=\"text-align: right;\">\n",
       "      <th></th>\n",
       "      <th>column</th>\n",
       "      <th>null_or_blank</th>\n",
       "      <th>empty_after_parse</th>\n",
       "      <th>total_missing_%</th>\n",
       "    </tr>\n",
       "  </thead>\n",
       "  <tbody>\n",
       "    <tr>\n",
       "      <th>0</th>\n",
       "      <td>cast</td>\n",
       "      <td>0</td>\n",
       "      <td>2418</td>\n",
       "      <td>5.32</td>\n",
       "    </tr>\n",
       "    <tr>\n",
       "      <th>1</th>\n",
       "      <td>crew</td>\n",
       "      <td>0</td>\n",
       "      <td>771</td>\n",
       "      <td>1.70</td>\n",
       "    </tr>\n",
       "  </tbody>\n",
       "</table>\n",
       "</div>"
      ],
      "text/plain": [
       "  column  null_or_blank  empty_after_parse  total_missing_%\n",
       "0   cast              0               2418             5.32\n",
       "1   crew              0                771             1.70"
      ]
     },
     "metadata": {},
     "output_type": "display_data"
    }
   ],
   "source": [
    "print(\"Shape:\", df.shape)\n",
    "\n",
    "print(\"\\nDtypes:\")\n",
    "display(df.dtypes.to_frame(\"dtype\"))\n",
    "\n",
    "# --- Regular missing values ---\n",
    "print(\"\\nMissing values:\")\n",
    "na = df.isna().sum().rename(\"missing\")\n",
    "display(pd.concat([na, (na/len(df)*100).rename(\"missing_%\").round(2)], axis=1)\n",
    "        .sort_values(\"missing_%\", ascending=False))\n",
    "\n",
    "# --- Zero counts in numeric columns ---\n",
    "print(\"\\nZero counts in numeric columns:\")\n",
    "num_cols = df.select_dtypes(include=[np.number]).columns.tolist()\n",
    "if num_cols:\n",
    "    z = pd.Series({c: int((df[c] == 0).sum()) for c in num_cols}, name=\"zero_count\")\n",
    "    display(z.sort_values(ascending=False).to_frame())\n",
    "else:\n",
    "    print(\"No numeric columns.\")\n",
    "\n",
    "# --- Additional: check for empty JSON-like structures (cast/crew) ---\n",
    "def safe_parse(x):\n",
    "    \"\"\"Safely parse JSON-like strings into Python objects; return [] if empty/invalid.\"\"\"\n",
    "    if pd.isna(x) or not isinstance(x, str) or not x.strip():\n",
    "        return []\n",
    "    try:\n",
    "        return ast.literal_eval(x)\n",
    "    except Exception:\n",
    "        return []\n",
    "\n",
    "json_cols = [c for c in ['cast', 'crew'] if c in df.columns]\n",
    "if json_cols:\n",
    "    print(\"\\nEmpty JSON structure checks:\")\n",
    "    results = []\n",
    "    for col in json_cols:\n",
    "        df[f'{col}_parsed'] = df[col].apply(safe_parse)\n",
    "        null_count = df[col].isna().sum()\n",
    "        blank_count = (df[col].astype(str).str.strip() == '').sum()\n",
    "        empty_after_parse = (df[f'{col}_parsed'].apply(len) == 0).sum()\n",
    "        total = len(df)\n",
    "        results.append({\n",
    "            'column': col,\n",
    "            'null_or_blank': int(null_count + blank_count),\n",
    "            'empty_after_parse': int(empty_after_parse),\n",
    "            'total_missing_%': round((null_count + blank_count + empty_after_parse) / total * 100, 2)\n",
    "        })\n",
    "    display(pd.DataFrame(results))\n"
   ]
  },
  {
   "cell_type": "code",
   "execution_count": 5,
   "id": "ec879553",
   "metadata": {},
   "outputs": [
    {
     "name": "stdout",
     "output_type": "stream",
     "text": [
      "Unique values per column (robust to list/dict values):\n"
     ]
    },
    {
     "data": {
      "text/html": [
       "<div>\n",
       "<style scoped>\n",
       "    .dataframe tbody tr th:only-of-type {\n",
       "        vertical-align: middle;\n",
       "    }\n",
       "\n",
       "    .dataframe tbody tr th {\n",
       "        vertical-align: top;\n",
       "    }\n",
       "\n",
       "    .dataframe thead th {\n",
       "        text-align: right;\n",
       "    }\n",
       "</style>\n",
       "<table border=\"1\" class=\"dataframe\">\n",
       "  <thead>\n",
       "    <tr style=\"text-align: right;\">\n",
       "      <th></th>\n",
       "      <th>n_unique</th>\n",
       "    </tr>\n",
       "  </thead>\n",
       "  <tbody>\n",
       "    <tr>\n",
       "      <th>id</th>\n",
       "      <td>45432</td>\n",
       "    </tr>\n",
       "    <tr>\n",
       "      <th>crew_parsed</th>\n",
       "      <td>44669</td>\n",
       "    </tr>\n",
       "    <tr>\n",
       "      <th>crew</th>\n",
       "      <td>44669</td>\n",
       "    </tr>\n",
       "    <tr>\n",
       "      <th>cast</th>\n",
       "      <td>43019</td>\n",
       "    </tr>\n",
       "    <tr>\n",
       "      <th>cast_parsed</th>\n",
       "      <td>43019</td>\n",
       "    </tr>\n",
       "  </tbody>\n",
       "</table>\n",
       "</div>"
      ],
      "text/plain": [
       "             n_unique\n",
       "id              45432\n",
       "crew_parsed     44669\n",
       "crew            44669\n",
       "cast            43019\n",
       "cast_parsed     43019"
      ]
     },
     "metadata": {},
     "output_type": "display_data"
    },
    {
     "name": "stdout",
     "output_type": "stream",
     "text": [
      "\n",
      "Duplicate rows (entire row identical): 37\n",
      "Duplicate IDs: 44\n",
      "Duplicate cast entries: 2457\n",
      "Duplicate crew entries: 807\n"
     ]
    }
   ],
   "source": [
    "import json\n",
    "import numpy as np\n",
    "import pandas as pd\n",
    "\n",
    "def make_hashable(x):\n",
    "    \"\"\"Turn lists/dicts/sets/ndarrays into hashable forms for nunique/duplicated.\"\"\"\n",
    "    if isinstance(x, (list, dict, set)):\n",
    "        return json.dumps(x, sort_keys=True)  # stable string\n",
    "    if isinstance(x, np.ndarray):\n",
    "        return tuple(x.tolist())\n",
    "    return x\n",
    "\n",
    "print(\"Unique values per column (robust to list/dict values):\")\n",
    "unique_counts = {}\n",
    "for col in df.columns:\n",
    "    s = df[col]\n",
    "    if s.dtype == 'object':\n",
    "        s_h = s.map(make_hashable)\n",
    "        unique_counts[col] = s_h.nunique(dropna=False)\n",
    "    else:\n",
    "        unique_counts[col] = s.nunique(dropna=False)\n",
    "\n",
    "uc = pd.Series(unique_counts, name=\"n_unique\").sort_values(ascending=False).to_frame()\n",
    "display(uc)\n",
    "\n",
    "# --- Check for fully duplicated rows (convert unhashables first on a copy) ---\n",
    "df_for_dups = df.copy()\n",
    "for col in df_for_dups.select_dtypes(include=['object']).columns:\n",
    "    df_for_dups[col] = df_for_dups[col].map(make_hashable)\n",
    "\n",
    "dup_rows = int(df_for_dups.duplicated().sum())\n",
    "print(f\"\\nDuplicate rows (entire row identical): {dup_rows}\")\n",
    "\n",
    "# --- Check duplicates for specific important columns (id, cast, crew) ---\n",
    "if 'id' in df.columns:\n",
    "    dup_ids = int(df['id'].duplicated().sum())\n",
    "    print(f\"Duplicate IDs: {dup_ids}\")\n",
    "\n",
    "if 'cast' in df.columns:\n",
    "    dup_cast = int(df['cast'].map(make_hashable).duplicated().sum())\n",
    "    print(f\"Duplicate cast entries: {dup_cast}\")\n",
    "\n",
    "if 'crew' in df.columns:\n",
    "    dup_crew = int(df['crew'].map(make_hashable).duplicated().sum())\n",
    "    print(f\"Duplicate crew entries: {dup_crew}\")\n",
    "\n",
    "# --- Optional: check duplicates on any chosen key ---\n",
    "KEY = None  # e.g., 'id'\n",
    "if KEY and KEY in df.columns:\n",
    "    print(f\"Duplicate {KEY}: {int(df[KEY].duplicated().sum())}\")"
   ]
  },
  {
   "cell_type": "code",
   "execution_count": null,
   "id": "50d621f1",
   "metadata": {},
   "outputs": [],
   "source": []
  }
 ],
 "metadata": {
  "kernelspec": {
   "display_name": "databaseenv",
   "language": "python",
   "name": "python3"
  },
  "language_info": {
   "codemirror_mode": {
    "name": "ipython",
    "version": 3
   },
   "file_extension": ".py",
   "mimetype": "text/x-python",
   "name": "python",
   "nbconvert_exporter": "python",
   "pygments_lexer": "ipython3",
   "version": "3.12.11"
  }
 },
 "nbformat": 4,
 "nbformat_minor": 5
}
