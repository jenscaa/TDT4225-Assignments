{
 "cells": [
  {
   "cell_type": "code",
   "execution_count": 1,
   "id": "379e3014",
   "metadata": {},
   "outputs": [],
   "source": [
    "import pandas as pd\n",
    "import numpy as np"
   ]
  },
  {
   "cell_type": "code",
   "execution_count": 2,
   "id": "b23bb110",
   "metadata": {},
   "outputs": [
    {
     "name": "stdout",
     "output_type": "stream",
     "text": [
      "<class 'pandas.core.frame.DataFrame'>\n",
      "RangeIndex: 9125 entries, 0 to 9124\n",
      "Data columns (total 3 columns):\n",
      " #   Column   Non-Null Count  Dtype  \n",
      "---  ------   --------------  -----  \n",
      " 0   movieId  9125 non-null   int64  \n",
      " 1   imdbId   9125 non-null   int64  \n",
      " 2   tmdbId   9112 non-null   float64\n",
      "dtypes: float64(1), int64(2)\n",
      "memory usage: 214.0 KB\n"
     ]
    }
   ],
   "source": [
    "links_small = pd.read_csv('../data/links_small.csv')\n",
    "links_small.info()"
   ]
  },
  {
   "cell_type": "code",
   "execution_count": 3,
   "id": "48ff1c95",
   "metadata": {},
   "outputs": [
    {
     "name": "stdout",
     "output_type": "stream",
     "text": [
      "<class 'pandas.core.frame.DataFrame'>\n",
      "RangeIndex: 45843 entries, 0 to 45842\n",
      "Data columns (total 3 columns):\n",
      " #   Column   Non-Null Count  Dtype  \n",
      "---  ------   --------------  -----  \n",
      " 0   movieId  45843 non-null  int64  \n",
      " 1   imdbId   45843 non-null  int64  \n",
      " 2   tmdbId   45624 non-null  float64\n",
      "dtypes: float64(1), int64(2)\n",
      "memory usage: 1.0 MB\n"
     ]
    }
   ],
   "source": [
    "links = pd.read_csv('../data/links.csv')\n",
    "links.info()"
   ]
  },
  {
   "cell_type": "code",
   "execution_count": 4,
   "id": "1af7c206",
   "metadata": {},
   "outputs": [
    {
     "name": "stdout",
     "output_type": "stream",
     "text": [
      "Only in small (count 7): [137608.0, 191903.0, 205300.0, 314040.0, 374454.0, 410612.0, 410803.0] ...\n",
      "Only in full  (count 36489): [3.0, 17.0, 27.0, 30.0, 91.0, 92.0, 102.0, 124.0, 127.0, 133.0, 159.0, 160.0, 166.0, 171.0, 183.0, 206.0, 211.0, 224.0, 225.0, 237.0] ...\n"
     ]
    }
   ],
   "source": [
    "\n",
    "# unique ID sets\n",
    "# small_idx = pd.Index(links_small['movieId'].dropna().unique())\n",
    "# full_idx  = pd.Index(links['movieId'].dropna().unique())\n",
    "\n",
    "small_idx = pd.Index(links_small['imdbId'].dropna().unique())\n",
    "full_idx  = pd.Index(links['imdbId'].dropna().unique())\n",
    "\n",
    "small_idx = pd.Index(links_small['tmdbId'].dropna().unique())\n",
    "full_idx  = pd.Index(links['tmdbId'].dropna().unique())\n",
    "\n",
    "# IDs in small but not in full\n",
    "only_in_small = small_idx.difference(full_idx)\n",
    "# IDs in full but not in small\n",
    "only_in_full  = full_idx.difference(small_idx)\n",
    "\n",
    "print(f\"Only in small (count {len(only_in_small)}):\", only_in_small.to_list()[:20], \"...\")\n",
    "print(f\"Only in full  (count {len(only_in_full)}):\",  only_in_full.to_list()[:20],  \"...\")\n",
    "\n",
    "# If you want NumPy arrays instead:\n",
    "missing_from_full  = np.setdiff1d(small_idx.values, full_idx.values)\n",
    "missing_from_small = np.setdiff1d(full_idx.values, small_idx.values)\n",
    "\n",
    "\n"
   ]
  },
  {
   "cell_type": "code",
   "execution_count": 7,
   "id": "900d9dee",
   "metadata": {},
   "outputs": [
    {
     "name": "stdout",
     "output_type": "stream",
     "text": [
      "Diagnostics: {'movieId_only_in_small': 10, 'movieId_only_in_full': 36728, 'imdb_only_in_small': 8, 'imdb_only_in_full': 36726, 'tmdb_only_in_small': 7, 'tmdb_only_in_full': 36489}\n",
      "Final rows: 45853\n",
      "Conflicts (rows where small vs full disagree on imdb/tmdb): 0\n",
      "Empty DataFrame\n",
      "Columns: [movieId, imdbId_full, imdbId_small, tmdbId_full, tmdbId_small]\n",
      "Index: []\n",
      "<class 'pandas.core.frame.DataFrame'>\n",
      "RangeIndex: 45853 entries, 0 to 45852\n",
      "Data columns (total 4 columns):\n",
      " #   Column   Non-Null Count  Dtype  \n",
      "---  ------   --------------  -----  \n",
      " 0   movieId  45853 non-null  int64  \n",
      " 1   imdbId   45853 non-null  int64  \n",
      " 2   tmdbId   45631 non-null  float64\n",
      " 3   source   45853 non-null  object \n",
      "dtypes: float64(1), int64(2), object(1)\n",
      "memory usage: 1.4+ MB\n"
     ]
    }
   ],
   "source": [
    "\n",
    "\n",
    "def _normalize_links(df: pd.DataFrame) -> pd.DataFrame:\n",
    "    df = df.copy()\n",
    "    # keep only the id columns that exist\n",
    "    keep = [c for c in ['movieId', 'imdbId', 'tmdbId'] if c in df.columns]\n",
    "    df = df[keep]\n",
    "\n",
    "    # to numeric, allow NA; use pandas nullable Int64 (keeps NaN)\n",
    "    for c in keep:\n",
    "        df[c] = pd.to_numeric(df[c], errors='coerce').astype('Int64')\n",
    "\n",
    "    # drop exact duplicate rows\n",
    "    df = df.drop_duplicates()\n",
    "    return df\n",
    "\n",
    "def merge_links(links: pd.DataFrame, links_small: pd.DataFrame):\n",
    "    full  = _normalize_links(links)\n",
    "    small = _normalize_links(links_small)\n",
    "\n",
    "    # quick uniqueness diagnostics\n",
    "    diag = {\n",
    "        'movieId_only_in_small': len(pd.Index(small['movieId'].dropna().unique()).difference(pd.Index(full['movieId'].dropna().unique()))),\n",
    "        'movieId_only_in_full' : len(pd.Index(full['movieId'].dropna().unique()).difference(pd.Index(small['movieId'].dropna().unique()))),\n",
    "        'imdb_only_in_small'   : len(pd.Index(small['imdbId'].dropna().unique()).difference(pd.Index(full['imdbId'].dropna().unique()))),\n",
    "        'imdb_only_in_full'    : len(pd.Index(full['imdbId'].dropna().unique()).difference(pd.Index(small['imdbId'].dropna().unique()))),\n",
    "        'tmdb_only_in_small'   : len(pd.Index(small['tmdbId'].dropna().unique()).difference(pd.Index(full['tmdbId'].dropna().unique()))),\n",
    "        'tmdb_only_in_full'    : len(pd.Index(full['tmdbId'].dropna().unique()).difference(pd.Index(small['tmdbId'].dropna().unique()))),\n",
    "    }\n",
    "\n",
    "    merged = full.merge(\n",
    "        small, how='outer', on='movieId', suffixes=('_full', '_small'), indicator=True\n",
    "    )\n",
    "\n",
    "    # conflicts (both present and different)\n",
    "    for col in ['imdbId', 'tmdbId']:\n",
    "        merged[f'{col}_conflict'] = (\n",
    "            merged[f'{col}_full'].notna() &\n",
    "            merged[f'{col}_small'].notna() &\n",
    "            (merged[f'{col}_full'] != merged[f'{col}_small'])\n",
    "        )\n",
    "\n",
    "    # resolved columns: prefer FULL, else take SMALL\n",
    "    merged['imdbId_resolved'] = merged['imdbId_full'].combine_first(merged['imdbId_small'])\n",
    "    merged['tmdbId_resolved'] = merged['tmdbId_full'].combine_first(merged['tmdbId_small'])\n",
    "\n",
    "    # provenance & final shape\n",
    "    merged['source'] = merged['_merge'].map({'left_only':'full', 'right_only':'small', 'both':'both'})\n",
    "    conflicts = merged[(merged['imdbId_conflict']) | (merged['tmdbId_conflict'])].copy()\n",
    "\n",
    "    final = (\n",
    "        merged[['movieId', 'imdbId_resolved', 'tmdbId_resolved', 'source']]\n",
    "        .rename(columns={'imdbId_resolved':'imdbId', 'tmdbId_resolved':'tmdbId'})\n",
    "        .sort_values('movieId')\n",
    "        .reset_index(drop=True)\n",
    "    )\n",
    "\n",
    "    # optional: create zero-padded IMDb tt-ids for APIs (keep original int columns as-is)\n",
    "    # final['imdb_tt'] = final['imdbId'].apply(lambda x: f\"tt{int(x):07d}\" if pd.notna(x) else pd.NA)\n",
    "\n",
    "    # sanity checks: after merging, the union should be covered\n",
    "    # assert set(final['movieId'].dropna()) == set(full['movieId'].dropna()).union(set(small['movieId'].dropna()))\n",
    "\n",
    "    return final, conflicts, diag\n",
    "\n",
    "# ===== run it =====\n",
    "final_links, id_conflicts, diagnostics = merge_links(links, links_small)\n",
    "\n",
    "print(\"Diagnostics:\", diagnostics)\n",
    "print(\"Final rows:\", len(final_links))\n",
    "print(\"Conflicts (rows where small vs full disagree on imdb/tmdb):\", len(id_conflicts))\n",
    "print(id_conflicts[['movieId','imdbId_full','imdbId_small','tmdbId_full','tmdbId_small']].head(10))\n",
    "\n",
    "final_links.drop(columns=[\"source\"], inplace=True)\n",
    "\n",
    "# Save if you want:\n",
    "final_links.to_csv(\"../data/links_merged.csv\", index=False)\n",
    "\n",
    "links_merged = pd.read_csv(\"links_merged.csv\")\n",
    "links_merged.info()\n",
    "# id_conflicts.to_csv(\"links_id_conflicts_for_review.csv\", index=False)\n"
   ]
  },
  {
   "cell_type": "code",
   "execution_count": 6,
   "id": "3ead7aee",
   "metadata": {},
   "outputs": [
    {
     "name": "stdout",
     "output_type": "stream",
     "text": [
      "0\n"
     ]
    }
   ],
   "source": [
    "#Check for duplicates\n",
    "\n",
    "\n",
    "print(links_merged.duplicated(subset=[\"movieId\", \"imdbId\", \"tmdbId\"]).sum())"
   ]
  }
 ],
 "metadata": {
  "kernelspec": {
   "display_name": "Python 3",
   "language": "python",
   "name": "python3"
  },
  "language_info": {
   "codemirror_mode": {
    "name": "ipython",
    "version": 3
   },
   "file_extension": ".py",
   "mimetype": "text/x-python",
   "name": "python",
   "nbconvert_exporter": "python",
   "pygments_lexer": "ipython3",
   "version": "3.14.0"
  }
 },
 "nbformat": 4,
 "nbformat_minor": 5
}
