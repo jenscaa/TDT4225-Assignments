{
 "cells": [
  {
   "cell_type": "code",
   "execution_count": 1,
   "id": "fcb1734c",
   "metadata": {},
   "outputs": [],
   "source": [
    "import ast\n",
    "from pathlib import Path\n",
    "\n",
    "import numpy as np\n",
    "import pandas as pd\n",
    "import matplotlib.pyplot as plt\n",
    "\n",
    "pd.set_option(\"display.max_columns\", 120)\n",
    "pd.set_option(\"display.width\", 140)"
   ]
  },
  {
   "cell_type": "code",
   "execution_count": null,
   "id": "e8549549",
   "metadata": {},
   "outputs": [
    {
     "data": {
      "text/plain": [
       "((46419, 2),\n",
       "       id                                           keywords\n",
       " 0    862  [{'id': 931, 'name': 'jealousy'}, {'id': 4290,...\n",
       " 1   8844  [{'id': 10090, 'name': 'board game'}, {'id': 1...\n",
       " 2  15602  [{'id': 1495, 'name': 'fishing'}, {'id': 12392...\n",
       " 3  31357  [{'id': 818, 'name': 'based on novel'}, {'id':...\n",
       " 4  11862  [{'id': 1009, 'name': 'baby'}, {'id': 1599, 'n...)"
      ]
     },
     "execution_count": 2,
     "metadata": {},
     "output_type": "execute_result"
    }
   ],
   "source": [
    "CSV_PATH = Path(\"../data/keywords.csv\")\n",
    "\n",
    "df = pd.read_csv(CSV_PATH, low_memory=False)\n",
    "df.shape, df.head()"
   ]
  },
  {
   "cell_type": "code",
   "execution_count": null,
   "id": "ddd13be6",
   "metadata": {},
   "outputs": [],
   "source": []
  }
 ],
 "metadata": {
  "kernelspec": {
   "display_name": "databaseenv",
   "language": "python",
   "name": "python3"
  },
  "language_info": {
   "codemirror_mode": {
    "name": "ipython",
    "version": 3
   },
   "file_extension": ".py",
   "mimetype": "text/x-python",
   "name": "python",
   "nbconvert_exporter": "python",
   "pygments_lexer": "ipython3",
   "version": "3.12.11"
  }
 },
 "nbformat": 4,
 "nbformat_minor": 5
}
