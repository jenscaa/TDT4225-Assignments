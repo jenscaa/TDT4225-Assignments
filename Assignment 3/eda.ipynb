{
 "cells": [
  {
   "cell_type": "code",
   "execution_count": 311,
   "outputs": [],
   "source": [
    "# Imports\n",
    "import pandas as pd\n",
    "import json, ast\n",
    "import matplotlib.pyplot as plt"
   ],
   "metadata": {
    "collapsed": false
   }
  },
  {
   "cell_type": "code",
   "execution_count": 312,
   "outputs": [],
   "source": [
    "# Functions\n",
    "\n",
    "def parse_json_column(series: pd.Series):\n",
    "    \"\"\"Parse a column of JSON-like strings into a normalized DataFrame.\"\"\"\n",
    "\n",
    "    is_nested = False\n",
    "\n",
    "    def parse_one(s):\n",
    "        if pd.isna(s):\n",
    "            return None\n",
    "        if isinstance(s, (dict, list)):\n",
    "            return s\n",
    "        s = str(s).strip()\n",
    "        if not s:\n",
    "            return None\n",
    "        try:\n",
    "            return json.loads(s)\n",
    "        except Exception:\n",
    "            try:\n",
    "                return ast.literal_eval(s)\n",
    "            except Exception:\n",
    "                return None\n",
    "\n",
    "    records = []\n",
    "    for s in series:\n",
    "        obj = parse_one(s)\n",
    "        if isinstance(obj, dict):\n",
    "            # normalize: one dict = one row\n",
    "            records.append(obj)\n",
    "        elif isinstance(obj, list):\n",
    "            # explode: each dict inside list becomes its own row\n",
    "            is_nested = True\n",
    "            for item in obj:\n",
    "                if isinstance(item, dict):\n",
    "                    records.append(item)\n",
    "\n",
    "    return pd.DataFrame.from_records(records), is_nested\n",
    "\n",
    "\n",
    "def get_missing_values(df: pd.DataFrame) -> pd.DataFrame:\n",
    "    \"\"\"\n",
    "    Return a DataFrame with counts of missing values for each column.\n",
    "    Works for both DataFrame and Series.\n",
    "    \"\"\"\n",
    "    if isinstance(df, pd.Series):\n",
    "        missing_values = df.isnull().sum()\n",
    "        return pd.DataFrame({\n",
    "            \"Column\": [df.name],\n",
    "            \"Missing Count\": [missing_values]\n",
    "        })\n",
    "    else:  # DataFrame\n",
    "        missing_values = df.isnull().sum()\n",
    "        return pd.DataFrame({\n",
    "            \"Column\": missing_values.index,\n",
    "            \"Missing Count\": missing_values.values\n",
    "        })\n",
    "\n",
    "\n",
    "def verify_subset(df_small: pd.DataFrame, df_large: pd.DataFrame, on=None) -> bool:\n",
    "    \"\"\"Check if all rows in df_small exist in df_large.\"\"\"\n",
    "    if on is None:\n",
    "        merged = df_small.merge(df_large.drop_duplicates(), how=\"left\", indicator=True)\n",
    "    else:\n",
    "        merged = df_small[on].merge(df_large[on].drop_duplicates(), how=\"left\", indicator=True)\n",
    "    return merged[\"_merge\"].eq(\"left_only\").sum() == 0\n",
    "\n",
    "\n",
    "def get_missing_rows(df_small: pd.DataFrame, df_large: pd.DataFrame, on=None) -> pd.DataFrame:\n",
    "    \"\"\"Return rows from df_small that do not exist in df_large.\"\"\"\n",
    "    if on is None:\n",
    "        merged = df_small.merge(df_large.drop_duplicates(), how=\"left\", indicator=True)\n",
    "    else:\n",
    "        merged = df_small[on].merge(df_large[on].drop_duplicates(), how=\"left\", indicator=True)\n",
    "    return merged[merged[\"_merge\"] == \"left_only\"].drop(columns=\"_merge\")"
   ],
   "metadata": {
    "collapsed": false
   }
  },
  {
   "cell_type": "markdown",
   "source": [
    "# Part 1: Exploratory Data Analysis"
   ],
   "metadata": {
    "collapsed": false
   }
  },
  {
   "cell_type": "markdown",
   "source": [
    "---\n",
    "## Dataset: credits.csv"
   ],
   "metadata": {
    "collapsed": false
   }
  },
  {
   "cell_type": "markdown",
   "source": [
    "##### Data exploration"
   ],
   "metadata": {
    "collapsed": false
   }
  },
  {
   "cell_type": "code",
   "execution_count": 313,
   "outputs": [
    {
     "data": {
      "text/plain": "                                                    cast  \\\n0      [{'cast_id': 14, 'character': 'Woody (voice)',...   \n1      [{'cast_id': 1, 'character': 'Alan Parrish', '...   \n2      [{'cast_id': 2, 'character': 'Max Goldman', 'c...   \n3      [{'cast_id': 1, 'character': \"Savannah 'Vannah...   \n4      [{'cast_id': 1, 'character': 'George Banks', '...   \n...                                                  ...   \n45471  [{'cast_id': 0, 'character': '', 'credit_id': ...   \n45472  [{'cast_id': 1002, 'character': 'Sister Angela...   \n45473  [{'cast_id': 6, 'character': 'Emily Shaw', 'cr...   \n45474  [{'cast_id': 2, 'character': '', 'credit_id': ...   \n45475                                                 []   \n\n                                                    crew      id  \n0      [{'credit_id': '52fe4284c3a36847f8024f49', 'de...     862  \n1      [{'credit_id': '52fe44bfc3a36847f80a7cd1', 'de...    8844  \n2      [{'credit_id': '52fe466a9251416c75077a89', 'de...   15602  \n3      [{'credit_id': '52fe44779251416c91011acb', 'de...   31357  \n4      [{'credit_id': '52fe44959251416c75039ed7', 'de...   11862  \n...                                                  ...     ...  \n45471  [{'credit_id': '5894a97d925141426c00818c', 'de...  439050  \n45472  [{'credit_id': '52fe4af1c3a36847f81e9b15', 'de...  111109  \n45473  [{'credit_id': '52fe4776c3a368484e0c8387', 'de...   67758  \n45474  [{'credit_id': '533bccebc3a36844cf0011a7', 'de...  227506  \n45475  [{'credit_id': '593e676c92514105b702e68e', 'de...  461257  \n\n[45476 rows x 3 columns]",
      "text/html": "<div>\n<style scoped>\n    .dataframe tbody tr th:only-of-type {\n        vertical-align: middle;\n    }\n\n    .dataframe tbody tr th {\n        vertical-align: top;\n    }\n\n    .dataframe thead th {\n        text-align: right;\n    }\n</style>\n<table border=\"1\" class=\"dataframe\">\n  <thead>\n    <tr style=\"text-align: right;\">\n      <th></th>\n      <th>cast</th>\n      <th>crew</th>\n      <th>id</th>\n    </tr>\n  </thead>\n  <tbody>\n    <tr>\n      <th>0</th>\n      <td>[{'cast_id': 14, 'character': 'Woody (voice)',...</td>\n      <td>[{'credit_id': '52fe4284c3a36847f8024f49', 'de...</td>\n      <td>862</td>\n    </tr>\n    <tr>\n      <th>1</th>\n      <td>[{'cast_id': 1, 'character': 'Alan Parrish', '...</td>\n      <td>[{'credit_id': '52fe44bfc3a36847f80a7cd1', 'de...</td>\n      <td>8844</td>\n    </tr>\n    <tr>\n      <th>2</th>\n      <td>[{'cast_id': 2, 'character': 'Max Goldman', 'c...</td>\n      <td>[{'credit_id': '52fe466a9251416c75077a89', 'de...</td>\n      <td>15602</td>\n    </tr>\n    <tr>\n      <th>3</th>\n      <td>[{'cast_id': 1, 'character': \"Savannah 'Vannah...</td>\n      <td>[{'credit_id': '52fe44779251416c91011acb', 'de...</td>\n      <td>31357</td>\n    </tr>\n    <tr>\n      <th>4</th>\n      <td>[{'cast_id': 1, 'character': 'George Banks', '...</td>\n      <td>[{'credit_id': '52fe44959251416c75039ed7', 'de...</td>\n      <td>11862</td>\n    </tr>\n    <tr>\n      <th>...</th>\n      <td>...</td>\n      <td>...</td>\n      <td>...</td>\n    </tr>\n    <tr>\n      <th>45471</th>\n      <td>[{'cast_id': 0, 'character': '', 'credit_id': ...</td>\n      <td>[{'credit_id': '5894a97d925141426c00818c', 'de...</td>\n      <td>439050</td>\n    </tr>\n    <tr>\n      <th>45472</th>\n      <td>[{'cast_id': 1002, 'character': 'Sister Angela...</td>\n      <td>[{'credit_id': '52fe4af1c3a36847f81e9b15', 'de...</td>\n      <td>111109</td>\n    </tr>\n    <tr>\n      <th>45473</th>\n      <td>[{'cast_id': 6, 'character': 'Emily Shaw', 'cr...</td>\n      <td>[{'credit_id': '52fe4776c3a368484e0c8387', 'de...</td>\n      <td>67758</td>\n    </tr>\n    <tr>\n      <th>45474</th>\n      <td>[{'cast_id': 2, 'character': '', 'credit_id': ...</td>\n      <td>[{'credit_id': '533bccebc3a36844cf0011a7', 'de...</td>\n      <td>227506</td>\n    </tr>\n    <tr>\n      <th>45475</th>\n      <td>[]</td>\n      <td>[{'credit_id': '593e676c92514105b702e68e', 'de...</td>\n      <td>461257</td>\n    </tr>\n  </tbody>\n</table>\n<p>45476 rows × 3 columns</p>\n</div>"
     },
     "execution_count": 313,
     "metadata": {},
     "output_type": "execute_result"
    }
   ],
   "source": [
    "df_credits = pd.read_csv(\"movies/credits.csv\")\n",
    "df_credits"
   ],
   "metadata": {
    "collapsed": false
   }
  },
  {
   "cell_type": "code",
   "execution_count": 314,
   "outputs": [
    {
     "name": "stdout",
     "output_type": "stream",
     "text": [
      "Size: 45476\n"
     ]
    }
   ],
   "source": [
    "# Size\n",
    "print(\"Size:\", len(df_credits))"
   ],
   "metadata": {
    "collapsed": false
   }
  },
  {
   "cell_type": "code",
   "execution_count": 315,
   "outputs": [
    {
     "data": {
      "text/plain": "cast    object\ncrew    object\nid       int64\ndtype: object"
     },
     "execution_count": 315,
     "metadata": {},
     "output_type": "execute_result"
    }
   ],
   "source": [
    "# Data types of each column\n",
    "df_credits.dtypes"
   ],
   "metadata": {
    "collapsed": false
   }
  },
  {
   "cell_type": "markdown",
   "source": [
    "##### Missing values"
   ],
   "metadata": {
    "collapsed": false
   }
  },
  {
   "cell_type": "code",
   "execution_count": 316,
   "outputs": [
    {
     "data": {
      "text/plain": "  Column  Missing Count\n0   cast              0\n1   crew              0\n2     id              0",
      "text/html": "<div>\n<style scoped>\n    .dataframe tbody tr th:only-of-type {\n        vertical-align: middle;\n    }\n\n    .dataframe tbody tr th {\n        vertical-align: top;\n    }\n\n    .dataframe thead th {\n        text-align: right;\n    }\n</style>\n<table border=\"1\" class=\"dataframe\">\n  <thead>\n    <tr style=\"text-align: right;\">\n      <th></th>\n      <th>Column</th>\n      <th>Missing Count</th>\n    </tr>\n  </thead>\n  <tbody>\n    <tr>\n      <th>0</th>\n      <td>cast</td>\n      <td>0</td>\n    </tr>\n    <tr>\n      <th>1</th>\n      <td>crew</td>\n      <td>0</td>\n    </tr>\n    <tr>\n      <th>2</th>\n      <td>id</td>\n      <td>0</td>\n    </tr>\n  </tbody>\n</table>\n</div>"
     },
     "execution_count": 316,
     "metadata": {},
     "output_type": "execute_result"
    }
   ],
   "source": [
    "df_credits_missing = get_missing_values(df_credits)\n",
    "df_credits_missing"
   ],
   "metadata": {
    "collapsed": false
   }
  },
  {
   "cell_type": "markdown",
   "source": [
    "### Column cast"
   ],
   "metadata": {
    "collapsed": false
   }
  },
  {
   "cell_type": "code",
   "execution_count": 317,
   "outputs": [
    {
     "name": "stdout",
     "output_type": "stream",
     "text": [
      "Nested: True\n"
     ]
    },
    {
     "data": {
      "text/plain": "        cast_id                character                 credit_id  gender  \\\n0            14            Woody (voice)  52fe4284c3a36847f8024f95       2   \n1            15   Buzz Lightyear (voice)  52fe4284c3a36847f8024f99       2   \n2            16  Mr. Potato Head (voice)  52fe4284c3a36847f8024f9d       2   \n3            17       Slinky Dog (voice)  52fe4284c3a36847f8024fa1       2   \n4            18              Rex (voice)  52fe4284c3a36847f8024fa5       2   \n...         ...                      ...                       ...     ...   \n562469        2                           52fe4ea59251416c7515d7d5       2   \n562470        3                           52fe4ea59251416c7515d7d9       1   \n562471        4                           52fe4ea59251416c7515d7dd       2   \n562472        5                           52fe4ea59251416c7515d7e1       0   \n562473        6                           52fe4ea59251416c7515d7e5       1   \n\n             id               name  order                      profile_path  \n0            31          Tom Hanks      0  /pQFoyx7rp09CJTAb932F2g8Nlho.jpg  \n1         12898          Tim Allen      1  /uX2xVf6pMmPepxnvFWyBtjexzgY.jpg  \n2          7167        Don Rickles      2  /h5BcaDMPRVLHLDzbQavec4xfSdt.jpg  \n3         12899         Jim Varney      3  /eIo2jVVXYgjDtaHoF19Ll9vtW7h.jpg  \n4         12900      Wallace Shawn      4  /oGE6JqPP2xH4tNORKNqxbNPYi7u.jpg  \n...         ...                ...    ...                               ...  \n562469   544742   Iwan Mosschuchin      0                              None  \n562470  1090923  Nathalie Lissenko      1                              None  \n562471  1136422       Pavel Pavlov      2                              None  \n562472  1261758  Aleksandr Chabrov      3                              None  \n562473    29199        Vera Orlova      4  /n1NXVGNzNxtqsMWxLT1h8GO8Kpi.jpg  \n\n[562474 rows x 8 columns]",
      "text/html": "<div>\n<style scoped>\n    .dataframe tbody tr th:only-of-type {\n        vertical-align: middle;\n    }\n\n    .dataframe tbody tr th {\n        vertical-align: top;\n    }\n\n    .dataframe thead th {\n        text-align: right;\n    }\n</style>\n<table border=\"1\" class=\"dataframe\">\n  <thead>\n    <tr style=\"text-align: right;\">\n      <th></th>\n      <th>cast_id</th>\n      <th>character</th>\n      <th>credit_id</th>\n      <th>gender</th>\n      <th>id</th>\n      <th>name</th>\n      <th>order</th>\n      <th>profile_path</th>\n    </tr>\n  </thead>\n  <tbody>\n    <tr>\n      <th>0</th>\n      <td>14</td>\n      <td>Woody (voice)</td>\n      <td>52fe4284c3a36847f8024f95</td>\n      <td>2</td>\n      <td>31</td>\n      <td>Tom Hanks</td>\n      <td>0</td>\n      <td>/pQFoyx7rp09CJTAb932F2g8Nlho.jpg</td>\n    </tr>\n    <tr>\n      <th>1</th>\n      <td>15</td>\n      <td>Buzz Lightyear (voice)</td>\n      <td>52fe4284c3a36847f8024f99</td>\n      <td>2</td>\n      <td>12898</td>\n      <td>Tim Allen</td>\n      <td>1</td>\n      <td>/uX2xVf6pMmPepxnvFWyBtjexzgY.jpg</td>\n    </tr>\n    <tr>\n      <th>2</th>\n      <td>16</td>\n      <td>Mr. Potato Head (voice)</td>\n      <td>52fe4284c3a36847f8024f9d</td>\n      <td>2</td>\n      <td>7167</td>\n      <td>Don Rickles</td>\n      <td>2</td>\n      <td>/h5BcaDMPRVLHLDzbQavec4xfSdt.jpg</td>\n    </tr>\n    <tr>\n      <th>3</th>\n      <td>17</td>\n      <td>Slinky Dog (voice)</td>\n      <td>52fe4284c3a36847f8024fa1</td>\n      <td>2</td>\n      <td>12899</td>\n      <td>Jim Varney</td>\n      <td>3</td>\n      <td>/eIo2jVVXYgjDtaHoF19Ll9vtW7h.jpg</td>\n    </tr>\n    <tr>\n      <th>4</th>\n      <td>18</td>\n      <td>Rex (voice)</td>\n      <td>52fe4284c3a36847f8024fa5</td>\n      <td>2</td>\n      <td>12900</td>\n      <td>Wallace Shawn</td>\n      <td>4</td>\n      <td>/oGE6JqPP2xH4tNORKNqxbNPYi7u.jpg</td>\n    </tr>\n    <tr>\n      <th>...</th>\n      <td>...</td>\n      <td>...</td>\n      <td>...</td>\n      <td>...</td>\n      <td>...</td>\n      <td>...</td>\n      <td>...</td>\n      <td>...</td>\n    </tr>\n    <tr>\n      <th>562469</th>\n      <td>2</td>\n      <td></td>\n      <td>52fe4ea59251416c7515d7d5</td>\n      <td>2</td>\n      <td>544742</td>\n      <td>Iwan Mosschuchin</td>\n      <td>0</td>\n      <td>None</td>\n    </tr>\n    <tr>\n      <th>562470</th>\n      <td>3</td>\n      <td></td>\n      <td>52fe4ea59251416c7515d7d9</td>\n      <td>1</td>\n      <td>1090923</td>\n      <td>Nathalie Lissenko</td>\n      <td>1</td>\n      <td>None</td>\n    </tr>\n    <tr>\n      <th>562471</th>\n      <td>4</td>\n      <td></td>\n      <td>52fe4ea59251416c7515d7dd</td>\n      <td>2</td>\n      <td>1136422</td>\n      <td>Pavel Pavlov</td>\n      <td>2</td>\n      <td>None</td>\n    </tr>\n    <tr>\n      <th>562472</th>\n      <td>5</td>\n      <td></td>\n      <td>52fe4ea59251416c7515d7e1</td>\n      <td>0</td>\n      <td>1261758</td>\n      <td>Aleksandr Chabrov</td>\n      <td>3</td>\n      <td>None</td>\n    </tr>\n    <tr>\n      <th>562473</th>\n      <td>6</td>\n      <td></td>\n      <td>52fe4ea59251416c7515d7e5</td>\n      <td>1</td>\n      <td>29199</td>\n      <td>Vera Orlova</td>\n      <td>4</td>\n      <td>/n1NXVGNzNxtqsMWxLT1h8GO8Kpi.jpg</td>\n    </tr>\n  </tbody>\n</table>\n<p>562474 rows × 8 columns</p>\n</div>"
     },
     "execution_count": 317,
     "metadata": {},
     "output_type": "execute_result"
    }
   ],
   "source": [
    "df_credits_cast, is_nested = parse_json_column(df_credits['cast'])\n",
    "print(\"Nested:\", is_nested)\n",
    "df_credits_cast"
   ],
   "metadata": {
    "collapsed": false
   }
  },
  {
   "cell_type": "code",
   "execution_count": 318,
   "outputs": [
    {
     "name": "stdout",
     "output_type": "stream",
     "text": [
      "Size: 562474\n"
     ]
    }
   ],
   "source": [
    "# Size\n",
    "print(\"Size:\", len(df_credits_cast))"
   ],
   "metadata": {
    "collapsed": false
   }
  },
  {
   "cell_type": "markdown",
   "source": [
    "##### Missing values"
   ],
   "metadata": {
    "collapsed": false
   }
  },
  {
   "cell_type": "code",
   "execution_count": 319,
   "outputs": [
    {
     "data": {
      "text/plain": "         Column  Missing Count\n0       cast_id              0\n1     character              0\n2     credit_id              0\n3        gender              0\n4            id              0\n5          name              0\n6         order              0\n7  profile_path         173856",
      "text/html": "<div>\n<style scoped>\n    .dataframe tbody tr th:only-of-type {\n        vertical-align: middle;\n    }\n\n    .dataframe tbody tr th {\n        vertical-align: top;\n    }\n\n    .dataframe thead th {\n        text-align: right;\n    }\n</style>\n<table border=\"1\" class=\"dataframe\">\n  <thead>\n    <tr style=\"text-align: right;\">\n      <th></th>\n      <th>Column</th>\n      <th>Missing Count</th>\n    </tr>\n  </thead>\n  <tbody>\n    <tr>\n      <th>0</th>\n      <td>cast_id</td>\n      <td>0</td>\n    </tr>\n    <tr>\n      <th>1</th>\n      <td>character</td>\n      <td>0</td>\n    </tr>\n    <tr>\n      <th>2</th>\n      <td>credit_id</td>\n      <td>0</td>\n    </tr>\n    <tr>\n      <th>3</th>\n      <td>gender</td>\n      <td>0</td>\n    </tr>\n    <tr>\n      <th>4</th>\n      <td>id</td>\n      <td>0</td>\n    </tr>\n    <tr>\n      <th>5</th>\n      <td>name</td>\n      <td>0</td>\n    </tr>\n    <tr>\n      <th>6</th>\n      <td>order</td>\n      <td>0</td>\n    </tr>\n    <tr>\n      <th>7</th>\n      <td>profile_path</td>\n      <td>173856</td>\n    </tr>\n  </tbody>\n</table>\n</div>"
     },
     "execution_count": 319,
     "metadata": {},
     "output_type": "execute_result"
    }
   ],
   "source": [
    "df_credits_cast_missing = get_missing_values(df_credits_cast)\n",
    "df_credits_cast_missing"
   ],
   "metadata": {
    "collapsed": false
   }
  },
  {
   "cell_type": "markdown",
   "source": [
    "##### Unique values in column gender"
   ],
   "metadata": {
    "collapsed": false
   }
  },
  {
   "cell_type": "code",
   "execution_count": 320,
   "outputs": [
    {
     "name": "stdout",
     "output_type": "stream",
     "text": [
      "Unique value in Gender: [2 1 0]\n"
     ]
    }
   ],
   "source": [
    "print(f\"Unique value in Gender: {df_credits_cast['gender'].unique()}\")"
   ],
   "metadata": {
    "collapsed": false
   }
  },
  {
   "cell_type": "markdown",
   "source": [
    "## Column crew"
   ],
   "metadata": {
    "collapsed": false
   }
  },
  {
   "cell_type": "code",
   "execution_count": 321,
   "outputs": [
    {
     "name": "stdout",
     "output_type": "stream",
     "text": [
      "Nested: True\n"
     ]
    },
    {
     "data": {
      "text/plain": "                       credit_id  department  gender       id  \\\n0       52fe4284c3a36847f8024f49   Directing       2     7879   \n1       52fe4284c3a36847f8024f4f     Writing       2    12891   \n2       52fe4284c3a36847f8024f55     Writing       2        7   \n3       52fe4284c3a36847f8024f5b     Writing       2    12892   \n4       52fe4284c3a36847f8024f61     Writing       0    12893   \n...                          ...         ...     ...      ...   \n464309  52fe4776c3a368484e0c8399       Sound       0   549356   \n464310  52fe4776c3a368484e0c839f      Camera       2    58818   \n464311  533bccebc3a36844cf0011a7   Directing       0  1085341   \n464312  58ebbc26925141281908aa0a  Production       2  1195656   \n464313  593e676c92514105b702e68e   Directing       0  1344495   \n\n                            job                 name  \\\n0                      Director        John Lasseter   \n1                    Screenplay          Joss Whedon   \n2                    Screenplay       Andrew Stanton   \n3                    Screenplay           Joel Cohen   \n4                    Screenplay         Alec Sokolow   \n...                         ...                  ...   \n464309  Original Music Composer       Richard McHugh   \n464310  Director of Photography       João Fernandes   \n464311                 Director     Yakov Protazanov   \n464312                 Producer  Joseph N. Ermolieff   \n464313                 Director        Daisy Asquith   \n\n                            profile_path  \n0       /7EdqiNbr4FRjIhKHyPPdFfEEEFG.jpg  \n1       /dTiVsuaTVTeGmvkhcyJvKp2A5kr.jpg  \n2       /pvQWsu0qc8JFQhMVJkTHuexUAa1.jpg  \n3       /dAubAiZcvKFbboWlj7oXOkZnTSu.jpg  \n4       /v79vlRYi94BZUQnkkyznbGUZLjT.jpg  \n...                                  ...  \n464309                              None  \n464310                              None  \n464311  /yyjbGdCs2ZN6IlZNCfmBWyuRDlt.jpg  \n464312                              None  \n464313                              None  \n\n[464314 rows x 7 columns]",
      "text/html": "<div>\n<style scoped>\n    .dataframe tbody tr th:only-of-type {\n        vertical-align: middle;\n    }\n\n    .dataframe tbody tr th {\n        vertical-align: top;\n    }\n\n    .dataframe thead th {\n        text-align: right;\n    }\n</style>\n<table border=\"1\" class=\"dataframe\">\n  <thead>\n    <tr style=\"text-align: right;\">\n      <th></th>\n      <th>credit_id</th>\n      <th>department</th>\n      <th>gender</th>\n      <th>id</th>\n      <th>job</th>\n      <th>name</th>\n      <th>profile_path</th>\n    </tr>\n  </thead>\n  <tbody>\n    <tr>\n      <th>0</th>\n      <td>52fe4284c3a36847f8024f49</td>\n      <td>Directing</td>\n      <td>2</td>\n      <td>7879</td>\n      <td>Director</td>\n      <td>John Lasseter</td>\n      <td>/7EdqiNbr4FRjIhKHyPPdFfEEEFG.jpg</td>\n    </tr>\n    <tr>\n      <th>1</th>\n      <td>52fe4284c3a36847f8024f4f</td>\n      <td>Writing</td>\n      <td>2</td>\n      <td>12891</td>\n      <td>Screenplay</td>\n      <td>Joss Whedon</td>\n      <td>/dTiVsuaTVTeGmvkhcyJvKp2A5kr.jpg</td>\n    </tr>\n    <tr>\n      <th>2</th>\n      <td>52fe4284c3a36847f8024f55</td>\n      <td>Writing</td>\n      <td>2</td>\n      <td>7</td>\n      <td>Screenplay</td>\n      <td>Andrew Stanton</td>\n      <td>/pvQWsu0qc8JFQhMVJkTHuexUAa1.jpg</td>\n    </tr>\n    <tr>\n      <th>3</th>\n      <td>52fe4284c3a36847f8024f5b</td>\n      <td>Writing</td>\n      <td>2</td>\n      <td>12892</td>\n      <td>Screenplay</td>\n      <td>Joel Cohen</td>\n      <td>/dAubAiZcvKFbboWlj7oXOkZnTSu.jpg</td>\n    </tr>\n    <tr>\n      <th>4</th>\n      <td>52fe4284c3a36847f8024f61</td>\n      <td>Writing</td>\n      <td>0</td>\n      <td>12893</td>\n      <td>Screenplay</td>\n      <td>Alec Sokolow</td>\n      <td>/v79vlRYi94BZUQnkkyznbGUZLjT.jpg</td>\n    </tr>\n    <tr>\n      <th>...</th>\n      <td>...</td>\n      <td>...</td>\n      <td>...</td>\n      <td>...</td>\n      <td>...</td>\n      <td>...</td>\n      <td>...</td>\n    </tr>\n    <tr>\n      <th>464309</th>\n      <td>52fe4776c3a368484e0c8399</td>\n      <td>Sound</td>\n      <td>0</td>\n      <td>549356</td>\n      <td>Original Music Composer</td>\n      <td>Richard McHugh</td>\n      <td>None</td>\n    </tr>\n    <tr>\n      <th>464310</th>\n      <td>52fe4776c3a368484e0c839f</td>\n      <td>Camera</td>\n      <td>2</td>\n      <td>58818</td>\n      <td>Director of Photography</td>\n      <td>João Fernandes</td>\n      <td>None</td>\n    </tr>\n    <tr>\n      <th>464311</th>\n      <td>533bccebc3a36844cf0011a7</td>\n      <td>Directing</td>\n      <td>0</td>\n      <td>1085341</td>\n      <td>Director</td>\n      <td>Yakov Protazanov</td>\n      <td>/yyjbGdCs2ZN6IlZNCfmBWyuRDlt.jpg</td>\n    </tr>\n    <tr>\n      <th>464312</th>\n      <td>58ebbc26925141281908aa0a</td>\n      <td>Production</td>\n      <td>2</td>\n      <td>1195656</td>\n      <td>Producer</td>\n      <td>Joseph N. Ermolieff</td>\n      <td>None</td>\n    </tr>\n    <tr>\n      <th>464313</th>\n      <td>593e676c92514105b702e68e</td>\n      <td>Directing</td>\n      <td>0</td>\n      <td>1344495</td>\n      <td>Director</td>\n      <td>Daisy Asquith</td>\n      <td>None</td>\n    </tr>\n  </tbody>\n</table>\n<p>464314 rows × 7 columns</p>\n</div>"
     },
     "execution_count": 321,
     "metadata": {},
     "output_type": "execute_result"
    }
   ],
   "source": [
    "df_credits_crew, is_nested = parse_json_column(df_credits['crew'])\n",
    "print(\"Nested:\", is_nested)\n",
    "df_credits_crew"
   ],
   "metadata": {
    "collapsed": false
   }
  },
  {
   "cell_type": "code",
   "execution_count": 322,
   "outputs": [
    {
     "name": "stdout",
     "output_type": "stream",
     "text": [
      "Size: 464314\n"
     ]
    }
   ],
   "source": [
    "# Size\n",
    "print(\"Size:\", len(df_credits_crew))"
   ],
   "metadata": {
    "collapsed": false
   }
  },
  {
   "cell_type": "markdown",
   "source": [
    "##### Missing values"
   ],
   "metadata": {
    "collapsed": false
   }
  },
  {
   "cell_type": "code",
   "execution_count": 323,
   "outputs": [
    {
     "data": {
      "text/plain": "         Column  Missing Count\n0     credit_id              0\n1    department              0\n2        gender              0\n3            id              0\n4           job              0\n5          name              0\n6  profile_path         369216",
      "text/html": "<div>\n<style scoped>\n    .dataframe tbody tr th:only-of-type {\n        vertical-align: middle;\n    }\n\n    .dataframe tbody tr th {\n        vertical-align: top;\n    }\n\n    .dataframe thead th {\n        text-align: right;\n    }\n</style>\n<table border=\"1\" class=\"dataframe\">\n  <thead>\n    <tr style=\"text-align: right;\">\n      <th></th>\n      <th>Column</th>\n      <th>Missing Count</th>\n    </tr>\n  </thead>\n  <tbody>\n    <tr>\n      <th>0</th>\n      <td>credit_id</td>\n      <td>0</td>\n    </tr>\n    <tr>\n      <th>1</th>\n      <td>department</td>\n      <td>0</td>\n    </tr>\n    <tr>\n      <th>2</th>\n      <td>gender</td>\n      <td>0</td>\n    </tr>\n    <tr>\n      <th>3</th>\n      <td>id</td>\n      <td>0</td>\n    </tr>\n    <tr>\n      <th>4</th>\n      <td>job</td>\n      <td>0</td>\n    </tr>\n    <tr>\n      <th>5</th>\n      <td>name</td>\n      <td>0</td>\n    </tr>\n    <tr>\n      <th>6</th>\n      <td>profile_path</td>\n      <td>369216</td>\n    </tr>\n  </tbody>\n</table>\n</div>"
     },
     "execution_count": 323,
     "metadata": {},
     "output_type": "execute_result"
    }
   ],
   "source": [
    "df_credits_crew_missing = get_missing_values(df_credits_crew)\n",
    "df_credits_crew_missing"
   ],
   "metadata": {
    "collapsed": false
   }
  },
  {
   "cell_type": "markdown",
   "source": [
    "##### Unique values in column department, job\n"
   ],
   "metadata": {
    "collapsed": false
   }
  },
  {
   "cell_type": "code",
   "execution_count": 324,
   "outputs": [
    {
     "name": "stdout",
     "output_type": "stream",
     "text": [
      "Unique values in department:\n",
      " ['Directing' 'Writing' 'Production' 'Editing' 'Art' 'Sound'\n",
      " 'Visual Effects' 'Crew' 'Lighting' 'Camera' 'Costume & Make-Up' 'Actors']\n",
      "Unique values in job:\n",
      " ['Director' 'Screenplay' 'Producer' 'Executive Producer' 'Editor'\n",
      " 'Art Direction' 'Foley Editor' 'Animation' 'ADR Editor' 'Orchestrator'\n",
      " 'Color Timer' 'CG Painter' 'Original Story' 'Post Production Supervisor'\n",
      " 'Sculptor' 'Animation Director' 'Music' 'Layout' 'Music Editor'\n",
      " 'Negative Cutter' 'Title Designer' 'Supervising Technical Director'\n",
      " 'Songs' 'Supervising Animator' 'Sound Designer' 'Production Supervisor'\n",
      " 'Executive Music Producer' 'Visual Effects Supervisor' 'Visual Effects'\n",
      " 'Lighting Supervisor' 'Character Designer' 'Set Dresser'\n",
      " 'Editorial Manager' 'Assistant Editor' 'Editorial Coordinator'\n",
      " 'Production Coordinator' 'Unit Publicist' 'Sound Re-Recording Mixer'\n",
      " 'Supervising Sound Editor' 'Sound Effects Editor'\n",
      " 'Sound Design Assistant' 'Assistant Sound Editor' 'Casting Consultant'\n",
      " 'ADR Voice Casting' 'Original Music Composer' 'Casting'\n",
      " 'Animation Supervisor' 'Production Design' 'Director of Photography'\n",
      " 'Novel' 'Characters' 'Writer' 'Sound Recordist' 'Costume Design'\n",
      " 'Special Effects Coordinator' 'Special Effects' 'Stunt Coordinator'\n",
      " 'Stunts' 'Set Decoration' 'Costume Supervisor' 'Script Supervisor'\n",
      " 'Art Department Coordinator' 'Assistant Art Director'\n",
      " 'Construction Coordinator' 'Assistant Costume Designer' 'Hairstylist'\n",
      " 'Key Hair Stylist' 'Makeup Artist' 'Dialogue Editor' 'Camera Operator'\n",
      " 'Steadicam Operator' 'Still Photographer' 'First Assistant Camera'\n",
      " 'Rigging Gaffer' 'Music Supervisor' 'First Assistant Editor'\n",
      " 'Technical Supervisor' 'Associate Producer' 'Unit Production Manager'\n",
      " 'Assistant Director' 'Casting Associate' 'Set Costumer'\n",
      " 'Digital Effects Supervisor' 'Additional Soundtrack'\n",
      " 'Co-Costume Designer' 'Sound mixer' 'Supervising Sound Effects Editor'\n",
      " 'Boom Operator' 'Production Manager' 'Casting Assistant'\n",
      " 'Location Manager' 'Story' 'Supervising Art Director' 'Armorer' 'Gaffer'\n",
      " 'Special Effects Supervisor' 'Visual Effects Coordinator'\n",
      " 'Visual Effects Editor' 'Background Designer' 'Animation Manager'\n",
      " 'Co-Producer' 'Foley' 'Construction Foreman' 'Lead Painter' 'Painter'\n",
      " 'Standby Painter' 'Key Grip' 'Grip' 'Carpenter' 'Choreographer'\n",
      " 'Craft Service' 'Driver' 'Post Production Assistant' 'Property Master'\n",
      " 'Security' 'Set Medic' 'Set Production Assistant' 'Stand In'\n",
      " 'Transportation Captain' 'Transportation Coordinator'\n",
      " 'First Assistant Director' 'Best Boy Electric' 'Electrician'\n",
      " 'Production Accountant' 'First Assistant Sound Editor'\n",
      " 'Production Sound Mixer' 'Sound Editor' 'Special Sound Effects'\n",
      " 'Studio Teachers' 'Creative Consultant' 'Dolby Consultant'\n",
      " 'Makeup Department Head' 'Author' 'Set Designer' 'Leadman' 'Greensman'\n",
      " 'Helicopter Camera' 'Additional Camera' 'Lighting Technician'\n",
      " 'Dialect Coach' 'Production Office Assistant' 'Line Producer'\n",
      " 'Adaptation' 'Script Editor' 'Visual Effects Designer' 'Makeup Designer'\n",
      " 'Underwater Camera' 'Hair Designer' 'Propmaker' 'Digital Compositors'\n",
      " 'Rigging Grip' 'Loader' 'Video Assist Operator' 'Post-Production Manager'\n",
      " 'Public Relations' 'Legal Services' 'Location Scout'\n",
      " 'Production Illustrator' 'Scenic Artist' 'Chief Lighting Technician'\n",
      " 'Assistant Property Master' 'Dolly Grip' 'Wardrobe Supervisor'\n",
      " 'Animal Coordinator' 'Pyrotechnician' 'Assistant Production Manager'\n",
      " 'Local Casting' 'Apprentice Sound Editor' 'Musician'\n",
      " 'Second Assistant Director' 'Key Makeup Artist' 'ADR & Dubbing'\n",
      " 'Seamstress' 'Thanks' 'Sound Mixer' 'Set Dressing Artist' 'Storyboard'\n",
      " 'Additional Music' 'Chef' 'Mixing Engineer' 'Production Intern'\n",
      " 'Telecine Colorist' 'Set Dressing Production Assistant' 'Finance'\n",
      " 'Theatre Play' 'Creator' 'Additional Editing' 'Co-Executive Producer'\n",
      " 'Executive In Charge Of Post Production' 'Additional Photography'\n",
      " 'Executive In Charge Of Production' 'Makeup Effects' 'Color Designer'\n",
      " 'Transportation Co-Captain' 'Supervising ADR Editor'\n",
      " 'Supervising Music Editor' 'Makeup Effects Designer' 'Tattooist'\n",
      " 'Camera Intern' 'CGI Supervisor' 'Scoring Mixer'\n",
      " 'Visual Effects Producer' 'Cableman' 'Sound Engineer' 'Other'\n",
      " \"Actor's Assistant\" 'Publicist' 'Production Controller' 'Cinematography'\n",
      " 'Compositors' 'Sound' 'Prosthetic Supervisor' 'Supervising Film Editor'\n",
      " 'Visual Effects Design Consultant' 'Title Graphics' 'Scenario Writer'\n",
      " 'Conductor' 'Pilot' 'Second Unit Cinematographer'\n",
      " 'Systems Administrators & Support' 'Art Department Assistant'\n",
      " 'Camera Technician' 'Machinist' 'Underwater Director of Photography'\n",
      " 'CG Supervisor' 'Second Unit' 'Utility Stunts' 'Creature Design'\n",
      " 'Modeling' 'Visual Effects Art Director' 'Hair Department Head'\n",
      " 'Co-Art Director' 'Aerial Camera' '3D Artist' 'Unit Manager'\n",
      " 'Short Story' 'Additional Writing' 'Additional Dialogue' 'Settings'\n",
      " 'Wigmaker' 'Editorial Staff' 'Camera Supervisor' 'Key Animation'\n",
      " 'Picture Car Coordinator' 'Production Office Coordinator' 'Projection'\n",
      " 'ADR Supervisor' 'Aerial Coordinator' 'Sound Director' 'Vocal Coach'\n",
      " 'Conceptual Design' 'Camera Department Manager' 'Screenstory'\n",
      " 'I/O Manager' 'Stunts Coordinator' 'Book' 'Camera Loader'\n",
      " 'Software Engineer' 'I/O Supervisor' 'Makeup Supervisor'\n",
      " 'Assistant Production Coordinator' 'CG Animator' 'Mechanical Designer'\n",
      " '3D Animator' 'Editorial Services' 'Music Director'\n",
      " 'Art Department Manager' 'Post Production Consulting'\n",
      " 'Visual Development' 'Animation Production Assistant'\n",
      " 'Sequence Supervisor' 'Character Technical Supervisor'\n",
      " 'Editorial Production Assistant' 'Associate Editor' 'Animal Wrangler'\n",
      " 'Dialogue' 'Idea' 'Prosthetic Makeup Artist' '3D Modeller' 'VFX Artist'\n",
      " 'Lead Animator' '3D Coordinator' 'Digital Producer'\n",
      " 'Martial Arts Choreographer' 'Aerial Director of Photography'\n",
      " 'CGI Director' 'Presenter' 'Administration' 'Music Programmer'\n",
      " 'Comic Book' 'Recording Supervision' 'Hair Supervisor' 'Stunt Double'\n",
      " 'Script' 'Musical' 'Interior Designer' 'Researcher'\n",
      " 'Special Guest Director' 'Continuity' 'Mix Technician'\n",
      " 'Sound Montage Associate' 'Motion Capture Artist'\n",
      " 'Mechanical & Creature Designer' 'Hair Setup' 'Sound Effects'\n",
      " 'Commissioning Editor' 'Conceptual Illustrator' 'Script Coordinator'\n",
      " 'Executive Consultant' 'Animatronic and Prosthetic Effects'\n",
      " 'Second Unit Director of Photography' 'Third Assistant Director'\n",
      " 'Key Costumer' 'Marine Coordinator' 'Lighting Director' 'Translator'\n",
      " '24 Frame Playback' 'Production Artist' 'Set Decoration Buyer'\n",
      " 'Temp Music Editor' 'Animatronics Designer' '3D Supervisor'\n",
      " 'Key Set Costumer' 'Animation Department Coordinator'\n",
      " 'Sound Effects Designer' 'Pyrotechnic Supervisor' 'Teleplay'\n",
      " 'Supervising Dialogue Editor' 'Roto Supervisor' 'Lighting Camera'\n",
      " 'Tailor' 'Digital Effects Producer' 'Lighting Artist'\n",
      " 'Executive Visual Effects Producer' 'Ager/Dyer' 'Utility Sound'\n",
      " 'Score Engineer' 'Associate Choreographer' 'VFX Supervisor'\n",
      " 'Assistant Set Dresser' 'Draughtsman' 'Costume Coordinator'\n",
      " 'Aerial Camera (suggest in addition to Helicopter Camera)'\n",
      " 'Tattoo Designer' 'Additional Sound Re-Recording Mixer' 'Co-Director'\n",
      " 'Chief Technician / Stop-Motion Expert' 'Costume Illustrator'\n",
      " 'Supervising Producer' 'Digital Intermediate' 'Steadycam'\n",
      " 'Sets & Props Artist' 'Prop Maker' 'Poem' 'Second Film Editor'\n",
      " 'Additional Editorial Assistant' 'Software Team Lead'\n",
      " 'Lighting Production Assistant' 'VFX Production Coordinator'\n",
      " 'Sign Painter' 'Shading' 'Set Dressing Supervisor' 'Fix Animator'\n",
      " 'In Memory Of' 'Best Boy Electrician' 'Sequence Leads' 'Co-Editor'\n",
      " 'Lead Set Dresser' 'Storyboard Designer' 'Documentation & Support'\n",
      " 'VFX Director of Photography' 'Fight Choreographer'\n",
      " 'Set Decorating Coordinator' 'Techno Crane Operator' 'Script Researcher'\n",
      " 'Imaging Science' 'Aerial Camera Technician' 'Matchmove Supervisor'\n",
      " 'Set Dressing Manager' 'Animatronics Supervisor' 'Wig Designer'\n",
      " '2D Supervisor' 'Animation Fix Coordinator' 'Lighting Manager'\n",
      " 'Directing Lighting Artist' 'Master Lighting Artist'\n",
      " 'Photoscience Manager' 'Department Administrator'\n",
      " 'Information Systems Manager' 'Simulation & Effects Artist'\n",
      " 'Armory Coordinator' 'Story Editor' '2D Artist' 'Gun Wrangler'\n",
      " 'Consulting Producer' 'Additional Still Photographer'\n",
      " 'Visual Effects Technical Director' 'Music Score Producer' 'Radio Play'\n",
      " 'Pre-Visualization Supervisor' 'Underwater Gaffer'\n",
      " 'Executive in Charge of Finance' 'Production Director'\n",
      " 'Theme Song Performance' 'VFX Editor' 'Development Manager'\n",
      " 'Manager of Operations' 'Opera' 'Quality Control Supervisor'\n",
      " 'Rigging Supervisor' 'Playback Singer' 'Creature Technical Director'\n",
      " 'Co-Writer' 'Supervisor of Production Resources'\n",
      " 'Assistant Music Supervisor' 'Creative Producer' 'Series Writer'\n",
      " 'Schedule Coordinator' 'Temp Sound Editor' 'Comic-Zeichner'\n",
      " 'Lead Character Designer' 'Voice' 'Archival Footage Coordinator'\n",
      " 'Archival Footage Research' 'Set Production Intern'\n",
      " 'Additional Music Supervisor' 'treatment' 'Graphic Novel Illustrator'\n",
      " 'Motion Actor' 'Battle Motion Coordinator' 'Sets & Props Supervisor'\n",
      " 'Cloth Setup' 'Facial Setup Artist' 'Sequence Artist' 'CG Engineer'\n",
      " 'Prop Designer' 'Shoe Design' 'Simulation & Effects Production Assistant'\n",
      " 'Video Game' 'Opening/Ending Animation' 'Epk Camera Operator'\n",
      " 'Script Consultant' 'Coordinating Producer' 'Lighting Coordinator'\n",
      " 'Dramaturgy' 'Prosthetic Designer' 'Drone Operator' '3D Generalist'\n",
      " 'Russian Arm Operator' 'Ultimate Arm Operator' '3D Director'\n",
      " 'Dramaturgie' 'Actor' 'Costume Consultant'\n",
      " 'Character Modelling Supervisor' 'Stereoscopic Coordinator']\n"
     ]
    }
   ],
   "source": [
    "relevant_cols = ['department', 'job']\n",
    "for col in  relevant_cols:\n",
    "    print(f\"Unique values in {col}:\\n {df_credits_crew[col].unique()}\")"
   ],
   "metadata": {
    "collapsed": false
   }
  },
  {
   "cell_type": "code",
   "execution_count": 325,
   "outputs": [
    {
     "name": "stdout",
     "output_type": "stream",
     "text": [
      "Count of unique values in department: 12\n",
      "Count of unique values in job: 456\n"
     ]
    }
   ],
   "source": [
    "for col in  relevant_cols:\n",
    "    print(f\"Count of unique values in {col}: {len(df_credits_crew[col].unique())}\")"
   ],
   "metadata": {
    "collapsed": false
   }
  },
  {
   "cell_type": "markdown",
   "source": [
    "---\n",
    "### Dataset: keywords.csv"
   ],
   "metadata": {
    "collapsed": false
   }
  },
  {
   "cell_type": "markdown",
   "source": [
    "##### Data exploration"
   ],
   "metadata": {
    "collapsed": false
   }
  },
  {
   "cell_type": "code",
   "execution_count": 326,
   "outputs": [
    {
     "data": {
      "text/plain": "           id                                           keywords\n0         862  [{'id': 931, 'name': 'jealousy'}, {'id': 4290,...\n1        8844  [{'id': 10090, 'name': 'board game'}, {'id': 1...\n2       15602  [{'id': 1495, 'name': 'fishing'}, {'id': 12392...\n3       31357  [{'id': 818, 'name': 'based on novel'}, {'id':...\n4       11862  [{'id': 1009, 'name': 'baby'}, {'id': 1599, 'n...\n...       ...                                                ...\n46414  439050             [{'id': 10703, 'name': 'tragic love'}]\n46415  111109  [{'id': 2679, 'name': 'artist'}, {'id': 14531,...\n46416   67758                                                 []\n46417  227506                                                 []\n46418  461257                                                 []\n\n[46419 rows x 2 columns]",
      "text/html": "<div>\n<style scoped>\n    .dataframe tbody tr th:only-of-type {\n        vertical-align: middle;\n    }\n\n    .dataframe tbody tr th {\n        vertical-align: top;\n    }\n\n    .dataframe thead th {\n        text-align: right;\n    }\n</style>\n<table border=\"1\" class=\"dataframe\">\n  <thead>\n    <tr style=\"text-align: right;\">\n      <th></th>\n      <th>id</th>\n      <th>keywords</th>\n    </tr>\n  </thead>\n  <tbody>\n    <tr>\n      <th>0</th>\n      <td>862</td>\n      <td>[{'id': 931, 'name': 'jealousy'}, {'id': 4290,...</td>\n    </tr>\n    <tr>\n      <th>1</th>\n      <td>8844</td>\n      <td>[{'id': 10090, 'name': 'board game'}, {'id': 1...</td>\n    </tr>\n    <tr>\n      <th>2</th>\n      <td>15602</td>\n      <td>[{'id': 1495, 'name': 'fishing'}, {'id': 12392...</td>\n    </tr>\n    <tr>\n      <th>3</th>\n      <td>31357</td>\n      <td>[{'id': 818, 'name': 'based on novel'}, {'id':...</td>\n    </tr>\n    <tr>\n      <th>4</th>\n      <td>11862</td>\n      <td>[{'id': 1009, 'name': 'baby'}, {'id': 1599, 'n...</td>\n    </tr>\n    <tr>\n      <th>...</th>\n      <td>...</td>\n      <td>...</td>\n    </tr>\n    <tr>\n      <th>46414</th>\n      <td>439050</td>\n      <td>[{'id': 10703, 'name': 'tragic love'}]</td>\n    </tr>\n    <tr>\n      <th>46415</th>\n      <td>111109</td>\n      <td>[{'id': 2679, 'name': 'artist'}, {'id': 14531,...</td>\n    </tr>\n    <tr>\n      <th>46416</th>\n      <td>67758</td>\n      <td>[]</td>\n    </tr>\n    <tr>\n      <th>46417</th>\n      <td>227506</td>\n      <td>[]</td>\n    </tr>\n    <tr>\n      <th>46418</th>\n      <td>461257</td>\n      <td>[]</td>\n    </tr>\n  </tbody>\n</table>\n<p>46419 rows × 2 columns</p>\n</div>"
     },
     "execution_count": 326,
     "metadata": {},
     "output_type": "execute_result"
    }
   ],
   "source": [
    "df_keywords = pd.read_csv(\"movies/keywords.csv\")\n",
    "df_keywords"
   ],
   "metadata": {
    "collapsed": false
   }
  },
  {
   "cell_type": "code",
   "execution_count": 327,
   "outputs": [
    {
     "name": "stdout",
     "output_type": "stream",
     "text": [
      "Size: 46419\n"
     ]
    }
   ],
   "source": [
    "# Size\n",
    "print(\"Size:\", len(df_keywords))"
   ],
   "metadata": {
    "collapsed": false
   }
  },
  {
   "cell_type": "code",
   "execution_count": 328,
   "outputs": [
    {
     "data": {
      "text/plain": "id           int64\nkeywords    object\ndtype: object"
     },
     "execution_count": 328,
     "metadata": {},
     "output_type": "execute_result"
    }
   ],
   "source": [
    "# Data types of each column\n",
    "df_keywords.dtypes"
   ],
   "metadata": {
    "collapsed": false
   }
  },
  {
   "cell_type": "markdown",
   "source": [
    "##### Missing values"
   ],
   "metadata": {
    "collapsed": false
   }
  },
  {
   "cell_type": "code",
   "execution_count": 329,
   "outputs": [
    {
     "data": {
      "text/plain": "     Column  Missing Count\n0        id              0\n1  keywords              0",
      "text/html": "<div>\n<style scoped>\n    .dataframe tbody tr th:only-of-type {\n        vertical-align: middle;\n    }\n\n    .dataframe tbody tr th {\n        vertical-align: top;\n    }\n\n    .dataframe thead th {\n        text-align: right;\n    }\n</style>\n<table border=\"1\" class=\"dataframe\">\n  <thead>\n    <tr style=\"text-align: right;\">\n      <th></th>\n      <th>Column</th>\n      <th>Missing Count</th>\n    </tr>\n  </thead>\n  <tbody>\n    <tr>\n      <th>0</th>\n      <td>id</td>\n      <td>0</td>\n    </tr>\n    <tr>\n      <th>1</th>\n      <td>keywords</td>\n      <td>0</td>\n    </tr>\n  </tbody>\n</table>\n</div>"
     },
     "execution_count": 329,
     "metadata": {},
     "output_type": "execute_result"
    }
   ],
   "source": [
    "# Counting occurrences of missing values\n",
    "df_keywords_missing = get_missing_values(df_keywords)\n",
    "df_keywords_missing"
   ],
   "metadata": {
    "collapsed": false
   }
  },
  {
   "cell_type": "markdown",
   "source": [
    "##### Duplicated values in column id"
   ],
   "metadata": {
    "collapsed": false
   }
  },
  {
   "cell_type": "code",
   "execution_count": 330,
   "outputs": [
    {
     "name": "stdout",
     "output_type": "stream",
     "text": [
      "Number of duplicate IDs: 987\n"
     ]
    }
   ],
   "source": [
    "duplicate_count = df_keywords['id'].duplicated().sum()\n",
    "\n",
    "print(f\"Number of duplicate IDs: {duplicate_count}\")"
   ],
   "metadata": {
    "collapsed": false
   }
  },
  {
   "cell_type": "markdown",
   "source": [
    "## Column keywords"
   ],
   "metadata": {
    "collapsed": false
   }
  },
  {
   "cell_type": "code",
   "execution_count": 331,
   "outputs": [
    {
     "name": "stdout",
     "output_type": "stream",
     "text": [
      "Nested: True\n"
     ]
    },
    {
     "data": {
      "text/plain": "            id          name\n0          931      jealousy\n1         4290           toy\n2         5202           boy\n3         6054    friendship\n4         9713       friends\n...        ...           ...\n158675   11800  mockumentary\n158676   10703   tragic love\n158677    2679        artist\n158678   14531          play\n158679  215397         pinoy\n\n[158680 rows x 2 columns]",
      "text/html": "<div>\n<style scoped>\n    .dataframe tbody tr th:only-of-type {\n        vertical-align: middle;\n    }\n\n    .dataframe tbody tr th {\n        vertical-align: top;\n    }\n\n    .dataframe thead th {\n        text-align: right;\n    }\n</style>\n<table border=\"1\" class=\"dataframe\">\n  <thead>\n    <tr style=\"text-align: right;\">\n      <th></th>\n      <th>id</th>\n      <th>name</th>\n    </tr>\n  </thead>\n  <tbody>\n    <tr>\n      <th>0</th>\n      <td>931</td>\n      <td>jealousy</td>\n    </tr>\n    <tr>\n      <th>1</th>\n      <td>4290</td>\n      <td>toy</td>\n    </tr>\n    <tr>\n      <th>2</th>\n      <td>5202</td>\n      <td>boy</td>\n    </tr>\n    <tr>\n      <th>3</th>\n      <td>6054</td>\n      <td>friendship</td>\n    </tr>\n    <tr>\n      <th>4</th>\n      <td>9713</td>\n      <td>friends</td>\n    </tr>\n    <tr>\n      <th>...</th>\n      <td>...</td>\n      <td>...</td>\n    </tr>\n    <tr>\n      <th>158675</th>\n      <td>11800</td>\n      <td>mockumentary</td>\n    </tr>\n    <tr>\n      <th>158676</th>\n      <td>10703</td>\n      <td>tragic love</td>\n    </tr>\n    <tr>\n      <th>158677</th>\n      <td>2679</td>\n      <td>artist</td>\n    </tr>\n    <tr>\n      <th>158678</th>\n      <td>14531</td>\n      <td>play</td>\n    </tr>\n    <tr>\n      <th>158679</th>\n      <td>215397</td>\n      <td>pinoy</td>\n    </tr>\n  </tbody>\n</table>\n<p>158680 rows × 2 columns</p>\n</div>"
     },
     "execution_count": 331,
     "metadata": {},
     "output_type": "execute_result"
    }
   ],
   "source": [
    "df_keywords_keywords, is_nested = parse_json_column(df_keywords['keywords'])\n",
    "print(\"Nested:\", is_nested)\n",
    "df_keywords_keywords"
   ],
   "metadata": {
    "collapsed": false
   }
  },
  {
   "cell_type": "code",
   "execution_count": 332,
   "outputs": [
    {
     "data": {
      "text/plain": "  Column  Missing Count\n0     id              0\n1   name              0",
      "text/html": "<div>\n<style scoped>\n    .dataframe tbody tr th:only-of-type {\n        vertical-align: middle;\n    }\n\n    .dataframe tbody tr th {\n        vertical-align: top;\n    }\n\n    .dataframe thead th {\n        text-align: right;\n    }\n</style>\n<table border=\"1\" class=\"dataframe\">\n  <thead>\n    <tr style=\"text-align: right;\">\n      <th></th>\n      <th>Column</th>\n      <th>Missing Count</th>\n    </tr>\n  </thead>\n  <tbody>\n    <tr>\n      <th>0</th>\n      <td>id</td>\n      <td>0</td>\n    </tr>\n    <tr>\n      <th>1</th>\n      <td>name</td>\n      <td>0</td>\n    </tr>\n  </tbody>\n</table>\n</div>"
     },
     "execution_count": 332,
     "metadata": {},
     "output_type": "execute_result"
    }
   ],
   "source": [
    "df_keywords_keywords_missing = get_missing_values(df_keywords_keywords)\n",
    "df_keywords_keywords_missing"
   ],
   "metadata": {
    "collapsed": false
   }
  },
  {
   "cell_type": "code",
   "execution_count": 333,
   "outputs": [
    {
     "name": "stdout",
     "output_type": "stream",
     "text": [
      "Size: 158680\n"
     ]
    }
   ],
   "source": [
    "# Size\n",
    "print(\"Size:\", len(df_keywords_keywords))"
   ],
   "metadata": {
    "collapsed": false
   }
  },
  {
   "cell_type": "markdown",
   "source": [
    "##### Duplicated values in column id,  name"
   ],
   "metadata": {
    "collapsed": false
   }
  },
  {
   "cell_type": "code",
   "execution_count": 334,
   "outputs": [],
   "source": [
    "# relevant_cols = ['id', 'name']\n",
    "# for col in  relevant_cols:\n",
    "#     print(f\"Duplicated values in {col}:\\n {df_keywords_keywords[col].duplicated().sum()}\")"
   ],
   "metadata": {
    "collapsed": false
   }
  },
  {
   "cell_type": "markdown",
   "source": [
    "---\n",
    "### Dataset: links.csv"
   ],
   "metadata": {
    "collapsed": false
   }
  },
  {
   "cell_type": "markdown",
   "source": [
    "##### Data exploration"
   ],
   "metadata": {
    "collapsed": false
   }
  },
  {
   "cell_type": "code",
   "execution_count": 335,
   "outputs": [
    {
     "data": {
      "text/plain": "       movieId   imdbId    tmdbId\n0            1   114709     862.0\n1            2   113497    8844.0\n2            3   113228   15602.0\n3            4   114885   31357.0\n4            5   113041   11862.0\n...        ...      ...       ...\n45838   176269  6209470  439050.0\n45839   176271  2028550  111109.0\n45840   176273   303758   67758.0\n45841   176275     8536  227506.0\n45842   176279  6980792  461257.0\n\n[45843 rows x 3 columns]",
      "text/html": "<div>\n<style scoped>\n    .dataframe tbody tr th:only-of-type {\n        vertical-align: middle;\n    }\n\n    .dataframe tbody tr th {\n        vertical-align: top;\n    }\n\n    .dataframe thead th {\n        text-align: right;\n    }\n</style>\n<table border=\"1\" class=\"dataframe\">\n  <thead>\n    <tr style=\"text-align: right;\">\n      <th></th>\n      <th>movieId</th>\n      <th>imdbId</th>\n      <th>tmdbId</th>\n    </tr>\n  </thead>\n  <tbody>\n    <tr>\n      <th>0</th>\n      <td>1</td>\n      <td>114709</td>\n      <td>862.0</td>\n    </tr>\n    <tr>\n      <th>1</th>\n      <td>2</td>\n      <td>113497</td>\n      <td>8844.0</td>\n    </tr>\n    <tr>\n      <th>2</th>\n      <td>3</td>\n      <td>113228</td>\n      <td>15602.0</td>\n    </tr>\n    <tr>\n      <th>3</th>\n      <td>4</td>\n      <td>114885</td>\n      <td>31357.0</td>\n    </tr>\n    <tr>\n      <th>4</th>\n      <td>5</td>\n      <td>113041</td>\n      <td>11862.0</td>\n    </tr>\n    <tr>\n      <th>...</th>\n      <td>...</td>\n      <td>...</td>\n      <td>...</td>\n    </tr>\n    <tr>\n      <th>45838</th>\n      <td>176269</td>\n      <td>6209470</td>\n      <td>439050.0</td>\n    </tr>\n    <tr>\n      <th>45839</th>\n      <td>176271</td>\n      <td>2028550</td>\n      <td>111109.0</td>\n    </tr>\n    <tr>\n      <th>45840</th>\n      <td>176273</td>\n      <td>303758</td>\n      <td>67758.0</td>\n    </tr>\n    <tr>\n      <th>45841</th>\n      <td>176275</td>\n      <td>8536</td>\n      <td>227506.0</td>\n    </tr>\n    <tr>\n      <th>45842</th>\n      <td>176279</td>\n      <td>6980792</td>\n      <td>461257.0</td>\n    </tr>\n  </tbody>\n</table>\n<p>45843 rows × 3 columns</p>\n</div>"
     },
     "execution_count": 335,
     "metadata": {},
     "output_type": "execute_result"
    }
   ],
   "source": [
    "df_links = pd.read_csv(\"movies/links.csv\")\n",
    "df_links"
   ],
   "metadata": {
    "collapsed": false
   }
  },
  {
   "cell_type": "code",
   "execution_count": 336,
   "outputs": [
    {
     "name": "stdout",
     "output_type": "stream",
     "text": [
      "Size: 45843\n"
     ]
    }
   ],
   "source": [
    "# Size\n",
    "print(\"Size:\", len(df_links))"
   ],
   "metadata": {
    "collapsed": false
   }
  },
  {
   "cell_type": "code",
   "execution_count": 337,
   "outputs": [
    {
     "data": {
      "text/plain": "movieId      int64\nimdbId       int64\ntmdbId     float64\ndtype: object"
     },
     "execution_count": 337,
     "metadata": {},
     "output_type": "execute_result"
    }
   ],
   "source": [
    "# Data types of each column\n",
    "df_links.dtypes"
   ],
   "metadata": {
    "collapsed": false
   }
  },
  {
   "cell_type": "markdown",
   "source": [
    "##### Missing values"
   ],
   "metadata": {
    "collapsed": false
   }
  },
  {
   "cell_type": "code",
   "execution_count": 338,
   "outputs": [
    {
     "data": {
      "text/plain": "    Column  Missing Count\n0  movieId              0\n1   imdbId              0\n2   tmdbId            219",
      "text/html": "<div>\n<style scoped>\n    .dataframe tbody tr th:only-of-type {\n        vertical-align: middle;\n    }\n\n    .dataframe tbody tr th {\n        vertical-align: top;\n    }\n\n    .dataframe thead th {\n        text-align: right;\n    }\n</style>\n<table border=\"1\" class=\"dataframe\">\n  <thead>\n    <tr style=\"text-align: right;\">\n      <th></th>\n      <th>Column</th>\n      <th>Missing Count</th>\n    </tr>\n  </thead>\n  <tbody>\n    <tr>\n      <th>0</th>\n      <td>movieId</td>\n      <td>0</td>\n    </tr>\n    <tr>\n      <th>1</th>\n      <td>imdbId</td>\n      <td>0</td>\n    </tr>\n    <tr>\n      <th>2</th>\n      <td>tmdbId</td>\n      <td>219</td>\n    </tr>\n  </tbody>\n</table>\n</div>"
     },
     "execution_count": 338,
     "metadata": {},
     "output_type": "execute_result"
    }
   ],
   "source": [
    "# Counting occurrences of missing values\n",
    "df_links_missing = get_missing_values(df_links)\n",
    "df_links_missing"
   ],
   "metadata": {
    "collapsed": false
   }
  },
  {
   "cell_type": "markdown",
   "source": [
    "##### Duplicated values in column movieId, imdbId, tmdbId"
   ],
   "metadata": {
    "collapsed": false
   }
  },
  {
   "cell_type": "code",
   "execution_count": 339,
   "outputs": [
    {
     "name": "stdout",
     "output_type": "stream",
     "text": [
      "Duplicated values in movieId:\n",
      " 0\n",
      "Duplicated values in imdbId:\n",
      " 0\n",
      "Duplicated values in tmdbId:\n",
      " 248\n"
     ]
    }
   ],
   "source": [
    "relevant_cols = ['movieId', 'imdbId', 'tmdbId']\n",
    "for col in  relevant_cols:\n",
    "    print(f\"Duplicated values in {col}:\\n {df_links[col].duplicated().sum()}\")"
   ],
   "metadata": {
    "collapsed": false
   }
  },
  {
   "cell_type": "markdown",
   "source": [
    "---\n",
    "### Dataset: links_small.csv"
   ],
   "metadata": {
    "collapsed": false
   }
  },
  {
   "cell_type": "markdown",
   "source": [
    "##### Data exploration"
   ],
   "metadata": {
    "collapsed": false
   }
  },
  {
   "cell_type": "code",
   "execution_count": 340,
   "outputs": [
    {
     "data": {
      "text/plain": "      movieId   imdbId    tmdbId\n0           1   114709     862.0\n1           2   113497    8844.0\n2           3   113228   15602.0\n3           4   114885   31357.0\n4           5   113041   11862.0\n...       ...      ...       ...\n9120   162672  3859980  402672.0\n9121   163056  4262980  315011.0\n9122   163949  2531318  391698.0\n9123   164977    27660  137608.0\n9124   164979  3447228  410803.0\n\n[9125 rows x 3 columns]",
      "text/html": "<div>\n<style scoped>\n    .dataframe tbody tr th:only-of-type {\n        vertical-align: middle;\n    }\n\n    .dataframe tbody tr th {\n        vertical-align: top;\n    }\n\n    .dataframe thead th {\n        text-align: right;\n    }\n</style>\n<table border=\"1\" class=\"dataframe\">\n  <thead>\n    <tr style=\"text-align: right;\">\n      <th></th>\n      <th>movieId</th>\n      <th>imdbId</th>\n      <th>tmdbId</th>\n    </tr>\n  </thead>\n  <tbody>\n    <tr>\n      <th>0</th>\n      <td>1</td>\n      <td>114709</td>\n      <td>862.0</td>\n    </tr>\n    <tr>\n      <th>1</th>\n      <td>2</td>\n      <td>113497</td>\n      <td>8844.0</td>\n    </tr>\n    <tr>\n      <th>2</th>\n      <td>3</td>\n      <td>113228</td>\n      <td>15602.0</td>\n    </tr>\n    <tr>\n      <th>3</th>\n      <td>4</td>\n      <td>114885</td>\n      <td>31357.0</td>\n    </tr>\n    <tr>\n      <th>4</th>\n      <td>5</td>\n      <td>113041</td>\n      <td>11862.0</td>\n    </tr>\n    <tr>\n      <th>...</th>\n      <td>...</td>\n      <td>...</td>\n      <td>...</td>\n    </tr>\n    <tr>\n      <th>9120</th>\n      <td>162672</td>\n      <td>3859980</td>\n      <td>402672.0</td>\n    </tr>\n    <tr>\n      <th>9121</th>\n      <td>163056</td>\n      <td>4262980</td>\n      <td>315011.0</td>\n    </tr>\n    <tr>\n      <th>9122</th>\n      <td>163949</td>\n      <td>2531318</td>\n      <td>391698.0</td>\n    </tr>\n    <tr>\n      <th>9123</th>\n      <td>164977</td>\n      <td>27660</td>\n      <td>137608.0</td>\n    </tr>\n    <tr>\n      <th>9124</th>\n      <td>164979</td>\n      <td>3447228</td>\n      <td>410803.0</td>\n    </tr>\n  </tbody>\n</table>\n<p>9125 rows × 3 columns</p>\n</div>"
     },
     "execution_count": 340,
     "metadata": {},
     "output_type": "execute_result"
    }
   ],
   "source": [
    "df_links_small = pd.read_csv(\"movies/links_small.csv\")\n",
    "df_links_small"
   ],
   "metadata": {
    "collapsed": false
   }
  },
  {
   "cell_type": "code",
   "execution_count": 341,
   "outputs": [
    {
     "name": "stdout",
     "output_type": "stream",
     "text": [
      "Size: 45843\n"
     ]
    }
   ],
   "source": [
    "# Size\n",
    "print(\"Size:\", len(df_links))"
   ],
   "metadata": {
    "collapsed": false
   }
  },
  {
   "cell_type": "code",
   "execution_count": 342,
   "outputs": [
    {
     "data": {
      "text/plain": "movieId      int64\nimdbId       int64\ntmdbId     float64\ndtype: object"
     },
     "execution_count": 342,
     "metadata": {},
     "output_type": "execute_result"
    }
   ],
   "source": [
    "# Data types of each column\n",
    "df_links_small.dtypes"
   ],
   "metadata": {
    "collapsed": false
   }
  },
  {
   "cell_type": "markdown",
   "source": [
    "##### Missing values"
   ],
   "metadata": {
    "collapsed": false
   }
  },
  {
   "cell_type": "code",
   "execution_count": 343,
   "outputs": [
    {
     "data": {
      "text/plain": "    Column  Missing Count\n0  movieId              0\n1   imdbId              0\n2   tmdbId             13",
      "text/html": "<div>\n<style scoped>\n    .dataframe tbody tr th:only-of-type {\n        vertical-align: middle;\n    }\n\n    .dataframe tbody tr th {\n        vertical-align: top;\n    }\n\n    .dataframe thead th {\n        text-align: right;\n    }\n</style>\n<table border=\"1\" class=\"dataframe\">\n  <thead>\n    <tr style=\"text-align: right;\">\n      <th></th>\n      <th>Column</th>\n      <th>Missing Count</th>\n    </tr>\n  </thead>\n  <tbody>\n    <tr>\n      <th>0</th>\n      <td>movieId</td>\n      <td>0</td>\n    </tr>\n    <tr>\n      <th>1</th>\n      <td>imdbId</td>\n      <td>0</td>\n    </tr>\n    <tr>\n      <th>2</th>\n      <td>tmdbId</td>\n      <td>13</td>\n    </tr>\n  </tbody>\n</table>\n</div>"
     },
     "execution_count": 343,
     "metadata": {},
     "output_type": "execute_result"
    }
   ],
   "source": [
    "# Counting occurrences of missing values\n",
    "df_links_small_missing = get_missing_values(df_links_small)\n",
    "df_links_small_missing"
   ],
   "metadata": {
    "collapsed": false
   }
  },
  {
   "cell_type": "markdown",
   "source": [
    "##### Duplicated values in column movieId, imdbId, tmdbId"
   ],
   "metadata": {
    "collapsed": false
   }
  },
  {
   "cell_type": "code",
   "execution_count": 344,
   "outputs": [
    {
     "name": "stdout",
     "output_type": "stream",
     "text": [
      "Duplicated values in movieId:\n",
      " 0\n",
      "Duplicated values in imdbId:\n",
      " 0\n",
      "Duplicated values in tmdbId:\n",
      " 12\n"
     ]
    }
   ],
   "source": [
    "relevant_cols = ['movieId', 'imdbId', 'tmdbId']\n",
    "for col in  relevant_cols:\n",
    "    print(f\"Duplicated values in {col}:\\n {df_links_small[col].duplicated().sum()}\")"
   ],
   "metadata": {
    "collapsed": false
   }
  },
  {
   "cell_type": "markdown",
   "source": [
    "##### Verify that all df_links_small is consistent with df_links"
   ],
   "metadata": {
    "collapsed": false
   }
  },
  {
   "cell_type": "code",
   "execution_count": 345,
   "outputs": [
    {
     "data": {
      "text/plain": "False"
     },
     "execution_count": 345,
     "metadata": {},
     "output_type": "execute_result"
    }
   ],
   "source": [
    "verify_subset(df_links_small, df_links)"
   ],
   "metadata": {
    "collapsed": false
   }
  },
  {
   "cell_type": "code",
   "execution_count": 346,
   "outputs": [
    {
     "data": {
      "text/plain": "      movieId   imdbId    tmdbId\n5173     7502   185906  191903.0\n7527    77658    81846  205300.0\n8045    94466  2085059       NaN\n8505   108548   898266       NaN\n8507   108583    72500       NaN\n8520   108979   213338  314040.0\n9062   150856  5189670  374454.0\n9118   162376  4574334  410612.0\n9123   164977    27660  137608.0\n9124   164979  3447228  410803.0",
      "text/html": "<div>\n<style scoped>\n    .dataframe tbody tr th:only-of-type {\n        vertical-align: middle;\n    }\n\n    .dataframe tbody tr th {\n        vertical-align: top;\n    }\n\n    .dataframe thead th {\n        text-align: right;\n    }\n</style>\n<table border=\"1\" class=\"dataframe\">\n  <thead>\n    <tr style=\"text-align: right;\">\n      <th></th>\n      <th>movieId</th>\n      <th>imdbId</th>\n      <th>tmdbId</th>\n    </tr>\n  </thead>\n  <tbody>\n    <tr>\n      <th>5173</th>\n      <td>7502</td>\n      <td>185906</td>\n      <td>191903.0</td>\n    </tr>\n    <tr>\n      <th>7527</th>\n      <td>77658</td>\n      <td>81846</td>\n      <td>205300.0</td>\n    </tr>\n    <tr>\n      <th>8045</th>\n      <td>94466</td>\n      <td>2085059</td>\n      <td>NaN</td>\n    </tr>\n    <tr>\n      <th>8505</th>\n      <td>108548</td>\n      <td>898266</td>\n      <td>NaN</td>\n    </tr>\n    <tr>\n      <th>8507</th>\n      <td>108583</td>\n      <td>72500</td>\n      <td>NaN</td>\n    </tr>\n    <tr>\n      <th>8520</th>\n      <td>108979</td>\n      <td>213338</td>\n      <td>314040.0</td>\n    </tr>\n    <tr>\n      <th>9062</th>\n      <td>150856</td>\n      <td>5189670</td>\n      <td>374454.0</td>\n    </tr>\n    <tr>\n      <th>9118</th>\n      <td>162376</td>\n      <td>4574334</td>\n      <td>410612.0</td>\n    </tr>\n    <tr>\n      <th>9123</th>\n      <td>164977</td>\n      <td>27660</td>\n      <td>137608.0</td>\n    </tr>\n    <tr>\n      <th>9124</th>\n      <td>164979</td>\n      <td>3447228</td>\n      <td>410803.0</td>\n    </tr>\n  </tbody>\n</table>\n</div>"
     },
     "execution_count": 346,
     "metadata": {},
     "output_type": "execute_result"
    }
   ],
   "source": [
    "df_links_small_missing_rows = get_missing_rows(df_links_small, df_links)\n",
    "df_links_small_missing_rows"
   ],
   "metadata": {
    "collapsed": false
   }
  },
  {
   "cell_type": "markdown",
   "source": [
    "---\n",
    "## Dataset: movies_metadata.csv"
   ],
   "metadata": {
    "collapsed": false
   }
  },
  {
   "cell_type": "markdown",
   "source": [
    "##### Data exploration"
   ],
   "metadata": {
    "collapsed": false
   }
  },
  {
   "cell_type": "code",
   "execution_count": 476,
   "outputs": [
    {
     "name": "stderr",
     "output_type": "stream",
     "text": [
      "C:\\Users\\jensc\\AppData\\Local\\Temp\\ipykernel_19424\\364127922.py:1: DtypeWarning: Columns (10) have mixed types. Specify dtype option on import or set low_memory=False.\n",
      "  df_movies_metadata = pd.read_csv(\"movies/movies_metadata.csv\")\n"
     ]
    },
    {
     "data": {
      "text/plain": "       adult                              belongs_to_collection    budget  \\\n0      False  {'id': 10194, 'name': 'Toy Story Collection', ...  30000000   \n1      False                                                NaN  65000000   \n2      False  {'id': 119050, 'name': 'Grumpy Old Men Collect...         0   \n3      False                                                NaN  16000000   \n4      False  {'id': 96871, 'name': 'Father of the Bride Col...         0   \n...      ...                                                ...       ...   \n45461  False                                                NaN         0   \n45462  False                                                NaN         0   \n45463  False                                                NaN         0   \n45464  False                                                NaN         0   \n45465  False                                                NaN         0   \n\n                                                  genres  \\\n0      [{'id': 16, 'name': 'Animation'}, {'id': 35, '...   \n1      [{'id': 12, 'name': 'Adventure'}, {'id': 14, '...   \n2      [{'id': 10749, 'name': 'Romance'}, {'id': 35, ...   \n3      [{'id': 35, 'name': 'Comedy'}, {'id': 18, 'nam...   \n4                         [{'id': 35, 'name': 'Comedy'}]   \n...                                                  ...   \n45461  [{'id': 18, 'name': 'Drama'}, {'id': 10751, 'n...   \n45462                      [{'id': 18, 'name': 'Drama'}]   \n45463  [{'id': 28, 'name': 'Action'}, {'id': 18, 'nam...   \n45464                                                 []   \n45465                                                 []   \n\n                                   homepage      id    imdb_id  \\\n0      http://toystory.disney.com/toy-story     862  tt0114709   \n1                                       NaN    8844  tt0113497   \n2                                       NaN   15602  tt0113228   \n3                                       NaN   31357  tt0114885   \n4                                       NaN   11862  tt0113041   \n...                                     ...     ...        ...   \n45461  http://www.imdb.com/title/tt6209470/  439050  tt6209470   \n45462                                   NaN  111109  tt2028550   \n45463                                   NaN   67758  tt0303758   \n45464                                   NaN  227506  tt0008536   \n45465                                   NaN  461257  tt6980792   \n\n      original_language               original_title  \\\n0                    en                    Toy Story   \n1                    en                      Jumanji   \n2                    en             Grumpier Old Men   \n3                    en            Waiting to Exhale   \n4                    en  Father of the Bride Part II   \n...                 ...                          ...   \n45461                fa                      رگ خواب   \n45462                tl          Siglo ng Pagluluwal   \n45463                en                     Betrayal   \n45464                en          Satana likuyushchiy   \n45465                en                     Queerama   \n\n                                                overview  ... release_date  \\\n0      Led by Woody, Andy's toys live happily in his ...  ...   1995-10-30   \n1      When siblings Judy and Peter discover an encha...  ...   1995-12-15   \n2      A family wedding reignites the ancient feud be...  ...   1995-12-22   \n3      Cheated on, mistreated and stepped on, the wom...  ...   1995-12-22   \n4      Just when George Banks has recovered from his ...  ...   1995-02-10   \n...                                                  ...  ...          ...   \n45461        Rising and falling between a man and woman.  ...          NaN   \n45462  An artist struggles to finish his work while a...  ...   2011-11-17   \n45463  When one of her hits goes wrong, a professiona...  ...   2003-08-01   \n45464  In a small town live two brothers, one a minis...  ...   1917-10-21   \n45465  50 years after decriminalisation of homosexual...  ...   2017-06-09   \n\n           revenue runtime                                   spoken_languages  \\\n0      373554033.0    81.0           [{'iso_639_1': 'en', 'name': 'English'}]   \n1      262797249.0   104.0  [{'iso_639_1': 'en', 'name': 'English'}, {'iso...   \n2              0.0   101.0           [{'iso_639_1': 'en', 'name': 'English'}]   \n3       81452156.0   127.0           [{'iso_639_1': 'en', 'name': 'English'}]   \n4       76578911.0   106.0           [{'iso_639_1': 'en', 'name': 'English'}]   \n...            ...     ...                                                ...   \n45461          0.0    90.0             [{'iso_639_1': 'fa', 'name': 'فارسی'}]   \n45462          0.0   360.0                  [{'iso_639_1': 'tl', 'name': ''}]   \n45463          0.0    90.0           [{'iso_639_1': 'en', 'name': 'English'}]   \n45464          0.0    87.0                                                 []   \n45465          0.0    75.0           [{'iso_639_1': 'en', 'name': 'English'}]   \n\n         status                                            tagline  \\\n0      Released                                                NaN   \n1      Released          Roll the dice and unleash the excitement!   \n2      Released  Still Yelling. Still Fighting. Still Ready for...   \n3      Released  Friends are the people who let you be yourself...   \n4      Released  Just When His World Is Back To Normal... He's ...   \n...         ...                                                ...   \n45461  Released         Rising and falling between a man and woman   \n45462  Released                                                NaN   \n45463  Released                             A deadly game of wits.   \n45464  Released                                                NaN   \n45465  Released                                                NaN   \n\n                             title  video vote_average vote_count  \n0                        Toy Story  False          7.7     5415.0  \n1                          Jumanji  False          6.9     2413.0  \n2                 Grumpier Old Men  False          6.5       92.0  \n3                Waiting to Exhale  False          6.1       34.0  \n4      Father of the Bride Part II  False          5.7      173.0  \n...                            ...    ...          ...        ...  \n45461                       Subdue  False          4.0        1.0  \n45462          Century of Birthing  False          9.0        3.0  \n45463                     Betrayal  False          3.8        6.0  \n45464             Satan Triumphant  False          0.0        0.0  \n45465                     Queerama  False          0.0        0.0  \n\n[45466 rows x 24 columns]",
      "text/html": "<div>\n<style scoped>\n    .dataframe tbody tr th:only-of-type {\n        vertical-align: middle;\n    }\n\n    .dataframe tbody tr th {\n        vertical-align: top;\n    }\n\n    .dataframe thead th {\n        text-align: right;\n    }\n</style>\n<table border=\"1\" class=\"dataframe\">\n  <thead>\n    <tr style=\"text-align: right;\">\n      <th></th>\n      <th>adult</th>\n      <th>belongs_to_collection</th>\n      <th>budget</th>\n      <th>genres</th>\n      <th>homepage</th>\n      <th>id</th>\n      <th>imdb_id</th>\n      <th>original_language</th>\n      <th>original_title</th>\n      <th>overview</th>\n      <th>...</th>\n      <th>release_date</th>\n      <th>revenue</th>\n      <th>runtime</th>\n      <th>spoken_languages</th>\n      <th>status</th>\n      <th>tagline</th>\n      <th>title</th>\n      <th>video</th>\n      <th>vote_average</th>\n      <th>vote_count</th>\n    </tr>\n  </thead>\n  <tbody>\n    <tr>\n      <th>0</th>\n      <td>False</td>\n      <td>{'id': 10194, 'name': 'Toy Story Collection', ...</td>\n      <td>30000000</td>\n      <td>[{'id': 16, 'name': 'Animation'}, {'id': 35, '...</td>\n      <td>http://toystory.disney.com/toy-story</td>\n      <td>862</td>\n      <td>tt0114709</td>\n      <td>en</td>\n      <td>Toy Story</td>\n      <td>Led by Woody, Andy's toys live happily in his ...</td>\n      <td>...</td>\n      <td>1995-10-30</td>\n      <td>373554033.0</td>\n      <td>81.0</td>\n      <td>[{'iso_639_1': 'en', 'name': 'English'}]</td>\n      <td>Released</td>\n      <td>NaN</td>\n      <td>Toy Story</td>\n      <td>False</td>\n      <td>7.7</td>\n      <td>5415.0</td>\n    </tr>\n    <tr>\n      <th>1</th>\n      <td>False</td>\n      <td>NaN</td>\n      <td>65000000</td>\n      <td>[{'id': 12, 'name': 'Adventure'}, {'id': 14, '...</td>\n      <td>NaN</td>\n      <td>8844</td>\n      <td>tt0113497</td>\n      <td>en</td>\n      <td>Jumanji</td>\n      <td>When siblings Judy and Peter discover an encha...</td>\n      <td>...</td>\n      <td>1995-12-15</td>\n      <td>262797249.0</td>\n      <td>104.0</td>\n      <td>[{'iso_639_1': 'en', 'name': 'English'}, {'iso...</td>\n      <td>Released</td>\n      <td>Roll the dice and unleash the excitement!</td>\n      <td>Jumanji</td>\n      <td>False</td>\n      <td>6.9</td>\n      <td>2413.0</td>\n    </tr>\n    <tr>\n      <th>2</th>\n      <td>False</td>\n      <td>{'id': 119050, 'name': 'Grumpy Old Men Collect...</td>\n      <td>0</td>\n      <td>[{'id': 10749, 'name': 'Romance'}, {'id': 35, ...</td>\n      <td>NaN</td>\n      <td>15602</td>\n      <td>tt0113228</td>\n      <td>en</td>\n      <td>Grumpier Old Men</td>\n      <td>A family wedding reignites the ancient feud be...</td>\n      <td>...</td>\n      <td>1995-12-22</td>\n      <td>0.0</td>\n      <td>101.0</td>\n      <td>[{'iso_639_1': 'en', 'name': 'English'}]</td>\n      <td>Released</td>\n      <td>Still Yelling. Still Fighting. Still Ready for...</td>\n      <td>Grumpier Old Men</td>\n      <td>False</td>\n      <td>6.5</td>\n      <td>92.0</td>\n    </tr>\n    <tr>\n      <th>3</th>\n      <td>False</td>\n      <td>NaN</td>\n      <td>16000000</td>\n      <td>[{'id': 35, 'name': 'Comedy'}, {'id': 18, 'nam...</td>\n      <td>NaN</td>\n      <td>31357</td>\n      <td>tt0114885</td>\n      <td>en</td>\n      <td>Waiting to Exhale</td>\n      <td>Cheated on, mistreated and stepped on, the wom...</td>\n      <td>...</td>\n      <td>1995-12-22</td>\n      <td>81452156.0</td>\n      <td>127.0</td>\n      <td>[{'iso_639_1': 'en', 'name': 'English'}]</td>\n      <td>Released</td>\n      <td>Friends are the people who let you be yourself...</td>\n      <td>Waiting to Exhale</td>\n      <td>False</td>\n      <td>6.1</td>\n      <td>34.0</td>\n    </tr>\n    <tr>\n      <th>4</th>\n      <td>False</td>\n      <td>{'id': 96871, 'name': 'Father of the Bride Col...</td>\n      <td>0</td>\n      <td>[{'id': 35, 'name': 'Comedy'}]</td>\n      <td>NaN</td>\n      <td>11862</td>\n      <td>tt0113041</td>\n      <td>en</td>\n      <td>Father of the Bride Part II</td>\n      <td>Just when George Banks has recovered from his ...</td>\n      <td>...</td>\n      <td>1995-02-10</td>\n      <td>76578911.0</td>\n      <td>106.0</td>\n      <td>[{'iso_639_1': 'en', 'name': 'English'}]</td>\n      <td>Released</td>\n      <td>Just When His World Is Back To Normal... He's ...</td>\n      <td>Father of the Bride Part II</td>\n      <td>False</td>\n      <td>5.7</td>\n      <td>173.0</td>\n    </tr>\n    <tr>\n      <th>...</th>\n      <td>...</td>\n      <td>...</td>\n      <td>...</td>\n      <td>...</td>\n      <td>...</td>\n      <td>...</td>\n      <td>...</td>\n      <td>...</td>\n      <td>...</td>\n      <td>...</td>\n      <td>...</td>\n      <td>...</td>\n      <td>...</td>\n      <td>...</td>\n      <td>...</td>\n      <td>...</td>\n      <td>...</td>\n      <td>...</td>\n      <td>...</td>\n      <td>...</td>\n      <td>...</td>\n    </tr>\n    <tr>\n      <th>45461</th>\n      <td>False</td>\n      <td>NaN</td>\n      <td>0</td>\n      <td>[{'id': 18, 'name': 'Drama'}, {'id': 10751, 'n...</td>\n      <td>http://www.imdb.com/title/tt6209470/</td>\n      <td>439050</td>\n      <td>tt6209470</td>\n      <td>fa</td>\n      <td>رگ خواب</td>\n      <td>Rising and falling between a man and woman.</td>\n      <td>...</td>\n      <td>NaN</td>\n      <td>0.0</td>\n      <td>90.0</td>\n      <td>[{'iso_639_1': 'fa', 'name': 'فارسی'}]</td>\n      <td>Released</td>\n      <td>Rising and falling between a man and woman</td>\n      <td>Subdue</td>\n      <td>False</td>\n      <td>4.0</td>\n      <td>1.0</td>\n    </tr>\n    <tr>\n      <th>45462</th>\n      <td>False</td>\n      <td>NaN</td>\n      <td>0</td>\n      <td>[{'id': 18, 'name': 'Drama'}]</td>\n      <td>NaN</td>\n      <td>111109</td>\n      <td>tt2028550</td>\n      <td>tl</td>\n      <td>Siglo ng Pagluluwal</td>\n      <td>An artist struggles to finish his work while a...</td>\n      <td>...</td>\n      <td>2011-11-17</td>\n      <td>0.0</td>\n      <td>360.0</td>\n      <td>[{'iso_639_1': 'tl', 'name': ''}]</td>\n      <td>Released</td>\n      <td>NaN</td>\n      <td>Century of Birthing</td>\n      <td>False</td>\n      <td>9.0</td>\n      <td>3.0</td>\n    </tr>\n    <tr>\n      <th>45463</th>\n      <td>False</td>\n      <td>NaN</td>\n      <td>0</td>\n      <td>[{'id': 28, 'name': 'Action'}, {'id': 18, 'nam...</td>\n      <td>NaN</td>\n      <td>67758</td>\n      <td>tt0303758</td>\n      <td>en</td>\n      <td>Betrayal</td>\n      <td>When one of her hits goes wrong, a professiona...</td>\n      <td>...</td>\n      <td>2003-08-01</td>\n      <td>0.0</td>\n      <td>90.0</td>\n      <td>[{'iso_639_1': 'en', 'name': 'English'}]</td>\n      <td>Released</td>\n      <td>A deadly game of wits.</td>\n      <td>Betrayal</td>\n      <td>False</td>\n      <td>3.8</td>\n      <td>6.0</td>\n    </tr>\n    <tr>\n      <th>45464</th>\n      <td>False</td>\n      <td>NaN</td>\n      <td>0</td>\n      <td>[]</td>\n      <td>NaN</td>\n      <td>227506</td>\n      <td>tt0008536</td>\n      <td>en</td>\n      <td>Satana likuyushchiy</td>\n      <td>In a small town live two brothers, one a minis...</td>\n      <td>...</td>\n      <td>1917-10-21</td>\n      <td>0.0</td>\n      <td>87.0</td>\n      <td>[]</td>\n      <td>Released</td>\n      <td>NaN</td>\n      <td>Satan Triumphant</td>\n      <td>False</td>\n      <td>0.0</td>\n      <td>0.0</td>\n    </tr>\n    <tr>\n      <th>45465</th>\n      <td>False</td>\n      <td>NaN</td>\n      <td>0</td>\n      <td>[]</td>\n      <td>NaN</td>\n      <td>461257</td>\n      <td>tt6980792</td>\n      <td>en</td>\n      <td>Queerama</td>\n      <td>50 years after decriminalisation of homosexual...</td>\n      <td>...</td>\n      <td>2017-06-09</td>\n      <td>0.0</td>\n      <td>75.0</td>\n      <td>[{'iso_639_1': 'en', 'name': 'English'}]</td>\n      <td>Released</td>\n      <td>NaN</td>\n      <td>Queerama</td>\n      <td>False</td>\n      <td>0.0</td>\n      <td>0.0</td>\n    </tr>\n  </tbody>\n</table>\n<p>45466 rows × 24 columns</p>\n</div>"
     },
     "execution_count": 476,
     "metadata": {},
     "output_type": "execute_result"
    }
   ],
   "source": [
    "df_movies_metadata = pd.read_csv(\"movies/movies_metadata.csv\")\n",
    "df_movies_metadata"
   ],
   "metadata": {
    "collapsed": false
   }
  },
  {
   "cell_type": "code",
   "execution_count": 348,
   "outputs": [
    {
     "data": {
      "text/plain": "adult                     object\nbelongs_to_collection     object\nbudget                    object\ngenres                    object\nhomepage                  object\nid                        object\nimdb_id                   object\noriginal_language         object\noriginal_title            object\noverview                  object\npopularity                object\nposter_path               object\nproduction_companies      object\nproduction_countries      object\nrelease_date              object\nrevenue                  float64\nruntime                  float64\nspoken_languages          object\nstatus                    object\ntagline                   object\ntitle                     object\nvideo                     object\nvote_average             float64\nvote_count               float64\ndtype: object"
     },
     "execution_count": 348,
     "metadata": {},
     "output_type": "execute_result"
    }
   ],
   "source": [
    "# Data types of each column\n",
    "df_movies_metadata.dtypes"
   ],
   "metadata": {
    "collapsed": false
   }
  },
  {
   "cell_type": "markdown",
   "source": [
    "##### Missing values"
   ],
   "metadata": {
    "collapsed": false
   }
  },
  {
   "cell_type": "code",
   "execution_count": 349,
   "outputs": [
    {
     "data": {
      "text/plain": "                   Column  Missing Count\n0                   adult              0\n1   belongs_to_collection          40972\n2                  budget              0\n3                  genres              0\n4                homepage          37684\n5                      id              0\n6                 imdb_id             17\n7       original_language             11\n8          original_title              0\n9                overview            954\n10             popularity              5\n11            poster_path            386\n12   production_companies              3\n13   production_countries              3\n14           release_date             87\n15                revenue              6\n16                runtime            263\n17       spoken_languages              6\n18                 status             87\n19                tagline          25054\n20                  title              6\n21                  video              6\n22           vote_average              6\n23             vote_count              6",
      "text/html": "<div>\n<style scoped>\n    .dataframe tbody tr th:only-of-type {\n        vertical-align: middle;\n    }\n\n    .dataframe tbody tr th {\n        vertical-align: top;\n    }\n\n    .dataframe thead th {\n        text-align: right;\n    }\n</style>\n<table border=\"1\" class=\"dataframe\">\n  <thead>\n    <tr style=\"text-align: right;\">\n      <th></th>\n      <th>Column</th>\n      <th>Missing Count</th>\n    </tr>\n  </thead>\n  <tbody>\n    <tr>\n      <th>0</th>\n      <td>adult</td>\n      <td>0</td>\n    </tr>\n    <tr>\n      <th>1</th>\n      <td>belongs_to_collection</td>\n      <td>40972</td>\n    </tr>\n    <tr>\n      <th>2</th>\n      <td>budget</td>\n      <td>0</td>\n    </tr>\n    <tr>\n      <th>3</th>\n      <td>genres</td>\n      <td>0</td>\n    </tr>\n    <tr>\n      <th>4</th>\n      <td>homepage</td>\n      <td>37684</td>\n    </tr>\n    <tr>\n      <th>5</th>\n      <td>id</td>\n      <td>0</td>\n    </tr>\n    <tr>\n      <th>6</th>\n      <td>imdb_id</td>\n      <td>17</td>\n    </tr>\n    <tr>\n      <th>7</th>\n      <td>original_language</td>\n      <td>11</td>\n    </tr>\n    <tr>\n      <th>8</th>\n      <td>original_title</td>\n      <td>0</td>\n    </tr>\n    <tr>\n      <th>9</th>\n      <td>overview</td>\n      <td>954</td>\n    </tr>\n    <tr>\n      <th>10</th>\n      <td>popularity</td>\n      <td>5</td>\n    </tr>\n    <tr>\n      <th>11</th>\n      <td>poster_path</td>\n      <td>386</td>\n    </tr>\n    <tr>\n      <th>12</th>\n      <td>production_companies</td>\n      <td>3</td>\n    </tr>\n    <tr>\n      <th>13</th>\n      <td>production_countries</td>\n      <td>3</td>\n    </tr>\n    <tr>\n      <th>14</th>\n      <td>release_date</td>\n      <td>87</td>\n    </tr>\n    <tr>\n      <th>15</th>\n      <td>revenue</td>\n      <td>6</td>\n    </tr>\n    <tr>\n      <th>16</th>\n      <td>runtime</td>\n      <td>263</td>\n    </tr>\n    <tr>\n      <th>17</th>\n      <td>spoken_languages</td>\n      <td>6</td>\n    </tr>\n    <tr>\n      <th>18</th>\n      <td>status</td>\n      <td>87</td>\n    </tr>\n    <tr>\n      <th>19</th>\n      <td>tagline</td>\n      <td>25054</td>\n    </tr>\n    <tr>\n      <th>20</th>\n      <td>title</td>\n      <td>6</td>\n    </tr>\n    <tr>\n      <th>21</th>\n      <td>video</td>\n      <td>6</td>\n    </tr>\n    <tr>\n      <th>22</th>\n      <td>vote_average</td>\n      <td>6</td>\n    </tr>\n    <tr>\n      <th>23</th>\n      <td>vote_count</td>\n      <td>6</td>\n    </tr>\n  </tbody>\n</table>\n</div>"
     },
     "execution_count": 349,
     "metadata": {},
     "output_type": "execute_result"
    }
   ],
   "source": [
    "# Counting occurrences of missing values\n",
    "df_movies_metadata_missing = get_missing_values(df_movies_metadata)\n",
    "df_movies_metadata_missing"
   ],
   "metadata": {
    "collapsed": false
   }
  },
  {
   "cell_type": "markdown",
   "source": [
    "## Column adult"
   ],
   "metadata": {
    "collapsed": false
   }
  },
  {
   "cell_type": "code",
   "execution_count": 350,
   "outputs": [
    {
     "name": "stdout",
     "output_type": "stream",
     "text": [
      "Unique values in adult: ['False' 'True' ' - Written by Ørnås'\n",
      " ' Rune Balot goes to a casino connected to the October corporation to try to wrap up her case once and for all.'\n",
      " ' Avalanche Sharks tells the story of a bikini contest that turns into a horrifying affair when it is hit by a shark avalanche.']\n"
     ]
    }
   ],
   "source": [
    "# Unique values in adult\n",
    "df_movies_metadata_adult = df_movies_metadata['adult']\n",
    "print(f\"Unique values in adult: {df_movies_metadata_adult.unique()}\")"
   ],
   "metadata": {
    "collapsed": false
   }
  },
  {
   "cell_type": "code",
   "execution_count": 351,
   "outputs": [
    {
     "data": {
      "text/plain": "<Figure size 640x480 with 1 Axes>",
      "image/png": "[encoded data removed]"
     },
     "metadata": {},
     "output_type": "display_data"
    }
   ],
   "source": [
    "# Histogram plot\n",
    "df_movies_metadata_adult.value_counts().plot(kind=\"bar\")\n",
    "plt.title(\"Distribution of Adult Flag\")\n",
    "plt.xlabel(\"Adult\")\n",
    "plt.ylabel(\"Count\")\n",
    "plt.show()"
   ],
   "metadata": {
    "collapsed": false
   }
  },
  {
   "cell_type": "markdown",
   "source": [
    "## Column belongs_to_collection"
   ],
   "metadata": {
    "collapsed": false
   }
  },
  {
   "cell_type": "code",
   "execution_count": 352,
   "outputs": [
    {
     "data": {
      "text/plain": "<Figure size 640x480 with 1 Axes>",
      "image/png": "[encoded data removed]"
     },
     "metadata": {},
     "output_type": "display_data"
    }
   ],
   "source": [
    "# Get type of each element\n",
    "type_counts = df_movies_metadata['belongs_to_collection'].map(type).value_counts()\n",
    "\n",
    "# Plot histogram of types\n",
    "type_counts.plot(kind=\"bar\")\n",
    "plt.title(\"Data Types in belongs_to_collection Column\")\n",
    "plt.xlabel(\"Type\")\n",
    "plt.ylabel(\"Count\")\n",
    "plt.xticks(rotation=45)\n",
    "plt.show()\n"
   ],
   "metadata": {
    "collapsed": false
   }
  },
  {
   "cell_type": "code",
   "execution_count": 353,
   "outputs": [
    {
     "data": {
      "text/plain": "array([nan], dtype=object)"
     },
     "execution_count": 353,
     "metadata": {},
     "output_type": "execute_result"
    }
   ],
   "source": [
    "# Extract only the float values from the column\n",
    "floats = df_movies_metadata['belongs_to_collection'][\n",
    "    df_movies_metadata['belongs_to_collection'].apply(lambda x: isinstance(x, float))\n",
    "]\n",
    "floats.unique()"
   ],
   "metadata": {
    "collapsed": false
   }
  },
  {
   "cell_type": "code",
   "execution_count": 354,
   "outputs": [
    {
     "name": "stdout",
     "output_type": "stream",
     "text": [
      "Nested: False\n"
     ]
    },
    {
     "data": {
      "text/plain": "          id                            name  \\\n0      10194            Toy Story Collection   \n1     119050       Grumpy Old Men Collection   \n2      96871  Father of the Bride Collection   \n3        645           James Bond Collection   \n4     117693                Balto Collection   \n...      ...                             ...   \n4486   37261         The Carry On Collection   \n4487   37261         The Carry On Collection   \n4488   37261         The Carry On Collection   \n4489  477208  DC Super Hero Girls Collection   \n4490  200641            Red Lotus Collection   \n\n                           poster_path                     backdrop_path  \n0     /7G9915LfUQ2lVfwMEEhDsn3kT4B.jpg  /9FBwqcd9IRruEDUrTdcaafOMKUq.jpg  \n1     /nLvUdqgPgm3F85NMCii9gVFUcet.jpg  /hypTnLot2z8wpFS7qwsQHW1uV8u.jpg  \n2     /nts4iOmNnq7GNicycMJ9pSAn204.jpg  /7qwE57OVZmMJChBpLEbJEmzUydk.jpg  \n3      /HORpg5CSkmeQlAolx3bKMrKgfi.jpg  /6VcVl48kNKvdXOZfJPdarlUGOsk.jpg  \n4     /w0ZgH6Lgxt2bQYnf1ss74UvYftm.jpg  /9VM5LiJV0bGb1st1KyHA3cVnO2G.jpg  \n...                                ...                               ...  \n4486  /2P0HNrYgKDvirV8RCdT1rBSJdbJ.jpg  /38tF1LJN7ULeZAuAfP7beaPMfcl.jpg  \n4487  /2P0HNrYgKDvirV8RCdT1rBSJdbJ.jpg  /38tF1LJN7ULeZAuAfP7beaPMfcl.jpg  \n4488  /2P0HNrYgKDvirV8RCdT1rBSJdbJ.jpg  /38tF1LJN7ULeZAuAfP7beaPMfcl.jpg  \n4489                              None                              None  \n4490  /yf9Eod9ANXyHTzDpAxz9ezgvlL4.jpg  /3fhHbLeO3DqdHvgHg5szs399eBb.jpg  \n\n[4491 rows x 4 columns]",
      "text/html": "<div>\n<style scoped>\n    .dataframe tbody tr th:only-of-type {\n        vertical-align: middle;\n    }\n\n    .dataframe tbody tr th {\n        vertical-align: top;\n    }\n\n    .dataframe thead th {\n        text-align: right;\n    }\n</style>\n<table border=\"1\" class=\"dataframe\">\n  <thead>\n    <tr style=\"text-align: right;\">\n      <th></th>\n      <th>id</th>\n      <th>name</th>\n      <th>poster_path</th>\n      <th>backdrop_path</th>\n    </tr>\n  </thead>\n  <tbody>\n    <tr>\n      <th>0</th>\n      <td>10194</td>\n      <td>Toy Story Collection</td>\n      <td>/7G9915LfUQ2lVfwMEEhDsn3kT4B.jpg</td>\n      <td>/9FBwqcd9IRruEDUrTdcaafOMKUq.jpg</td>\n    </tr>\n    <tr>\n      <th>1</th>\n      <td>119050</td>\n      <td>Grumpy Old Men Collection</td>\n      <td>/nLvUdqgPgm3F85NMCii9gVFUcet.jpg</td>\n      <td>/hypTnLot2z8wpFS7qwsQHW1uV8u.jpg</td>\n    </tr>\n    <tr>\n      <th>2</th>\n      <td>96871</td>\n      <td>Father of the Bride Collection</td>\n      <td>/nts4iOmNnq7GNicycMJ9pSAn204.jpg</td>\n      <td>/7qwE57OVZmMJChBpLEbJEmzUydk.jpg</td>\n    </tr>\n    <tr>\n      <th>3</th>\n      <td>645</td>\n      <td>James Bond Collection</td>\n      <td>/HORpg5CSkmeQlAolx3bKMrKgfi.jpg</td>\n      <td>/6VcVl48kNKvdXOZfJPdarlUGOsk.jpg</td>\n    </tr>\n    <tr>\n      <th>4</th>\n      <td>117693</td>\n      <td>Balto Collection</td>\n      <td>/w0ZgH6Lgxt2bQYnf1ss74UvYftm.jpg</td>\n      <td>/9VM5LiJV0bGb1st1KyHA3cVnO2G.jpg</td>\n    </tr>\n    <tr>\n      <th>...</th>\n      <td>...</td>\n      <td>...</td>\n      <td>...</td>\n      <td>...</td>\n    </tr>\n    <tr>\n      <th>4486</th>\n      <td>37261</td>\n      <td>The Carry On Collection</td>\n      <td>/2P0HNrYgKDvirV8RCdT1rBSJdbJ.jpg</td>\n      <td>/38tF1LJN7ULeZAuAfP7beaPMfcl.jpg</td>\n    </tr>\n    <tr>\n      <th>4487</th>\n      <td>37261</td>\n      <td>The Carry On Collection</td>\n      <td>/2P0HNrYgKDvirV8RCdT1rBSJdbJ.jpg</td>\n      <td>/38tF1LJN7ULeZAuAfP7beaPMfcl.jpg</td>\n    </tr>\n    <tr>\n      <th>4488</th>\n      <td>37261</td>\n      <td>The Carry On Collection</td>\n      <td>/2P0HNrYgKDvirV8RCdT1rBSJdbJ.jpg</td>\n      <td>/38tF1LJN7ULeZAuAfP7beaPMfcl.jpg</td>\n    </tr>\n    <tr>\n      <th>4489</th>\n      <td>477208</td>\n      <td>DC Super Hero Girls Collection</td>\n      <td>None</td>\n      <td>None</td>\n    </tr>\n    <tr>\n      <th>4490</th>\n      <td>200641</td>\n      <td>Red Lotus Collection</td>\n      <td>/yf9Eod9ANXyHTzDpAxz9ezgvlL4.jpg</td>\n      <td>/3fhHbLeO3DqdHvgHg5szs399eBb.jpg</td>\n    </tr>\n  </tbody>\n</table>\n<p>4491 rows × 4 columns</p>\n</div>"
     },
     "execution_count": 354,
     "metadata": {},
     "output_type": "execute_result"
    }
   ],
   "source": [
    "# Extract only the json values from the column\n",
    "df_movies_metadata_belongs_to_collection = df_movies_metadata['belongs_to_collection'][\n",
    "    df_movies_metadata['belongs_to_collection'].apply(lambda x: not isinstance(x, float))\n",
    "]\n",
    "df_movies_metadata_belongs_to_collection, is_nested = parse_json_column(df_movies_metadata_belongs_to_collection)\n",
    "print(\"Nested:\", is_nested)\n",
    "df_movies_metadata_belongs_to_collection"
   ],
   "metadata": {
    "collapsed": false
   }
  },
  {
   "cell_type": "code",
   "execution_count": 355,
   "outputs": [
    {
     "data": {
      "text/plain": "id                int64\nname             object\nposter_path      object\nbackdrop_path    object\ndtype: object"
     },
     "execution_count": 355,
     "metadata": {},
     "output_type": "execute_result"
    }
   ],
   "source": [
    "df_movies_metadata_belongs_to_collection.dtypes"
   ],
   "metadata": {
    "collapsed": false
   }
  },
  {
   "cell_type": "markdown",
   "source": [
    "##### Missing values"
   ],
   "metadata": {
    "collapsed": false
   }
  },
  {
   "cell_type": "code",
   "execution_count": 356,
   "outputs": [
    {
     "data": {
      "text/plain": "          Column  Missing Count\n0             id              0\n1           name              0\n2    poster_path            543\n3  backdrop_path           1228",
      "text/html": "<div>\n<style scoped>\n    .dataframe tbody tr th:only-of-type {\n        vertical-align: middle;\n    }\n\n    .dataframe tbody tr th {\n        vertical-align: top;\n    }\n\n    .dataframe thead th {\n        text-align: right;\n    }\n</style>\n<table border=\"1\" class=\"dataframe\">\n  <thead>\n    <tr style=\"text-align: right;\">\n      <th></th>\n      <th>Column</th>\n      <th>Missing Count</th>\n    </tr>\n  </thead>\n  <tbody>\n    <tr>\n      <th>0</th>\n      <td>id</td>\n      <td>0</td>\n    </tr>\n    <tr>\n      <th>1</th>\n      <td>name</td>\n      <td>0</td>\n    </tr>\n    <tr>\n      <th>2</th>\n      <td>poster_path</td>\n      <td>543</td>\n    </tr>\n    <tr>\n      <th>3</th>\n      <td>backdrop_path</td>\n      <td>1228</td>\n    </tr>\n  </tbody>\n</table>\n</div>"
     },
     "execution_count": 356,
     "metadata": {},
     "output_type": "execute_result"
    }
   ],
   "source": [
    "df_movies_metadata_belongs_to_collection_missing = get_missing_values(df_movies_metadata_belongs_to_collection)\n",
    "df_movies_metadata_belongs_to_collection_missing"
   ],
   "metadata": {
    "collapsed": false
   }
  },
  {
   "cell_type": "markdown",
   "source": [
    "##### Duplicated values in id"
   ],
   "metadata": {
    "collapsed": false
   }
  },
  {
   "cell_type": "code",
   "execution_count": 357,
   "outputs": [
    {
     "name": "stdout",
     "output_type": "stream",
     "text": [
      "Duplicated values in ID:\n",
      " 2796\n"
     ]
    }
   ],
   "source": [
    "print(f\"Duplicated values in ID:\\n {df_movies_metadata_belongs_to_collection['id'].duplicated().sum()}\")"
   ],
   "metadata": {
    "collapsed": false
   }
  },
  {
   "cell_type": "markdown",
   "source": [
    "## Column budget"
   ],
   "metadata": {
    "collapsed": false
   }
  },
  {
   "cell_type": "code",
   "execution_count": 358,
   "outputs": [
    {
     "data": {
      "text/plain": "0        30000000\n1        65000000\n2               0\n3        16000000\n4               0\n           ...   \n45461           0\n45462           0\n45463           0\n45464           0\n45465           0\nName: budget, Length: 45463, dtype: int64"
     },
     "execution_count": 358,
     "metadata": {},
     "output_type": "execute_result"
    }
   ],
   "source": [
    "df_movies_metadata['budget'] = pd.to_numeric(df_movies_metadata['budget'], errors='coerce')\n",
    "df_movies_metadata = df_movies_metadata.dropna(subset=['budget'])\n",
    "df_movies_metadata_budget = df_movies_metadata['budget'].astype('int64')\n",
    "df_movies_metadata_budget"
   ],
   "metadata": {
    "collapsed": false
   }
  },
  {
   "cell_type": "code",
   "execution_count": 359,
   "outputs": [
    {
     "data": {
      "text/plain": "budget\n<class 'float'>    45463\nName: count, dtype: int64"
     },
     "execution_count": 359,
     "metadata": {},
     "output_type": "execute_result"
    }
   ],
   "source": [
    "type_counts = df_movies_metadata['budget'].map(type).value_counts()\n",
    "type_counts"
   ],
   "metadata": {
    "collapsed": false
   }
  },
  {
   "cell_type": "code",
   "execution_count": 360,
   "outputs": [
    {
     "data": {
      "text/plain": "45463"
     },
     "execution_count": 360,
     "metadata": {},
     "output_type": "execute_result"
    }
   ],
   "source": [
    "# Size\n",
    "size = df_movies_metadata_budget.count()\n",
    "size"
   ],
   "metadata": {
    "collapsed": false
   }
  },
  {
   "cell_type": "code",
   "execution_count": 361,
   "outputs": [
    {
     "name": "stdout",
     "output_type": "stream",
     "text": [
      "Instances where the budget is zero: 36573\n"
     ]
    }
   ],
   "source": [
    "# Count zero instances\n",
    "zeros = df_movies_metadata_budget[df_movies_metadata['budget']==0].count()\n",
    "print(\"Instances where the budget is zero:\", zeros)"
   ],
   "metadata": {
    "collapsed": false
   }
  },
  {
   "cell_type": "code",
   "execution_count": 362,
   "outputs": [
    {
     "name": "stdout",
     "output_type": "stream",
     "text": [
      "Percentage zero: 0.804\n"
     ]
    }
   ],
   "source": [
    "# Percentage for zero in budget\n",
    "print(\"Percentage zero:\", round((zeros/size), 3))"
   ],
   "metadata": {
    "collapsed": false
   }
  },
  {
   "cell_type": "code",
   "execution_count": 363,
   "outputs": [
    {
     "name": "stdout",
     "output_type": "stream",
     "text": [
      "Instances where the budget is zero: 0\n"
     ]
    }
   ],
   "source": [
    "# Count below zero instances\n",
    "under_zeros = df_movies_metadata_budget[df_movies_metadata['budget']<0].count()\n",
    "print(\"Instances where the budget is zero:\", under_zeros)"
   ],
   "metadata": {
    "collapsed": false
   }
  },
  {
   "cell_type": "code",
   "execution_count": 364,
   "outputs": [
    {
     "data": {
      "text/plain": "<Figure size 800x500 with 1 Axes>",
      "image/png": "[encoded data removed]"
     },
     "metadata": {},
     "output_type": "display_data"
    }
   ],
   "source": [
    "# Plot histogram of the budget column\n",
    "plt.figure(figsize=(8, 5))\n",
    "plt.hist(df_movies_metadata['budget'], bins=50, edgecolor='black')\n",
    "plt.title('Distribution of Movie Budgets')\n",
    "plt.xlabel('Budget')\n",
    "plt.ylabel('Frequency')\n",
    "plt.show()"
   ],
   "metadata": {
    "collapsed": false
   }
  },
  {
   "cell_type": "code",
   "execution_count": 365,
   "outputs": [
    {
     "name": "stdout",
     "output_type": "stream",
     "text": [
      "Nested: False\n"
     ]
    },
    {
     "name": "stderr",
     "output_type": "stream",
     "text": [
      "C:\\Users\\jensc\\AppData\\Local\\Temp\\ipykernel_19424\\1989935115.py:6: SettingWithCopyWarning: \n",
      "A value is trying to be set on a copy of a slice from a DataFrame.\n",
      "Try using .loc[row_indexer,col_indexer] = value instead\n",
      "\n",
      "See the caveats in the documentation: https://pandas.pydata.org/pandas-docs/stable/user_guide/indexing.html#returning-a-view-versus-a-copy\n",
      "  df_movies_metadata['budget'] = pd.to_numeric(df_movies_metadata['budget'], errors='coerce')\n"
     ]
    },
    {
     "name": "stdout",
     "output_type": "stream",
     "text": [
      "Top 5 budgets:\n",
      "            budget                      collection_name\n",
      "17124  380000000.0  Pirates of the Caribbean Collection\n",
      "11827  300000000.0  Pirates of the Caribbean Collection\n",
      "26558  280000000.0              The Avengers Collection\n",
      "11067  270000000.0                  Superman Collection\n",
      "16130  260000000.0                   Tangled Collection\n",
      "\n",
      "Bottom 5 budgets:\n",
      "      budget collection_name\n",
      "922      1.0            None\n",
      "2192     1.0            None\n",
      "2483     1.0            None\n",
      "3342     1.0            None\n",
      "4000     1.0            None\n"
     ]
    },
    {
     "name": "stderr",
     "output_type": "stream",
     "text": [
      "C:\\Users\\jensc\\AppData\\Local\\Temp\\ipykernel_19424\\1989935115.py:15: SettingWithCopyWarning: \n",
      "A value is trying to be set on a copy of a slice from a DataFrame.\n",
      "Try using .loc[row_indexer,col_indexer] = value instead\n",
      "\n",
      "See the caveats in the documentation: https://pandas.pydata.org/pandas-docs/stable/user_guide/indexing.html#returning-a-view-versus-a-copy\n",
      "  df_movies_metadata['collection_name'] = df_movies_metadata['belongs_to_collection'].apply(extract_name)\n"
     ]
    }
   ],
   "source": [
    "# 1. Parse 'belongs_to_collection' column\n",
    "df_collections = parse_json_column(df_movies_metadata['belongs_to_collection'])\n",
    "print(\"Nested:\", is_nested)\n",
    "\n",
    "# 2. Convert budget to numeric\n",
    "df_movies_metadata['budget'] = pd.to_numeric(df_movies_metadata['budget'], errors='coerce')\n",
    "\n",
    "# 3. Join collection 'name' back into main DataFrame\n",
    "def extract_name(s):\n",
    "    parsed, _ = parse_json_column(pd.Series([s]))\n",
    "    if not parsed.empty and 'name' in parsed.columns:\n",
    "        return parsed['name'].iloc[0]\n",
    "    return None\n",
    "\n",
    "df_movies_metadata['collection_name'] = df_movies_metadata['belongs_to_collection'].apply(extract_name)\n",
    "\n",
    "# 4. Filter only budgets > 0\n",
    "df_nonzero = df_movies_metadata[df_movies_metadata['budget'] > 0]\n",
    "\n",
    "# 5. Top 5 and bottom 5 budgets\n",
    "top5 = df_nonzero.nlargest(5, 'budget')[['budget', 'collection_name']]\n",
    "bottom5 = df_nonzero.nsmallest(5, 'budget')[['budget', 'collection_name']]\n",
    "\n",
    "print(\"Top 5 budgets:\")\n",
    "print(top5)\n",
    "\n",
    "print(\"\\nBottom 5 budgets:\")\n",
    "print(bottom5)\n"
   ],
   "metadata": {
    "collapsed": false
   }
  },
  {
   "cell_type": "markdown",
   "source": [
    "## Column genres"
   ],
   "metadata": {
    "collapsed": false
   }
  },
  {
   "cell_type": "code",
   "execution_count": 366,
   "outputs": [
    {
     "name": "stdout",
     "output_type": "stream",
     "text": [
      "Nested: True\n"
     ]
    },
    {
     "data": {
      "text/plain": "          id       name\n0         16  Animation\n1         35     Comedy\n2      10751     Family\n3         12  Adventure\n4         14    Fantasy\n...      ...        ...\n91089  10751     Family\n91090     18      Drama\n91091     28     Action\n91092     18      Drama\n91093     53   Thriller\n\n[91094 rows x 2 columns]",
      "text/html": "<div>\n<style scoped>\n    .dataframe tbody tr th:only-of-type {\n        vertical-align: middle;\n    }\n\n    .dataframe tbody tr th {\n        vertical-align: top;\n    }\n\n    .dataframe thead th {\n        text-align: right;\n    }\n</style>\n<table border=\"1\" class=\"dataframe\">\n  <thead>\n    <tr style=\"text-align: right;\">\n      <th></th>\n      <th>id</th>\n      <th>name</th>\n    </tr>\n  </thead>\n  <tbody>\n    <tr>\n      <th>0</th>\n      <td>16</td>\n      <td>Animation</td>\n    </tr>\n    <tr>\n      <th>1</th>\n      <td>35</td>\n      <td>Comedy</td>\n    </tr>\n    <tr>\n      <th>2</th>\n      <td>10751</td>\n      <td>Family</td>\n    </tr>\n    <tr>\n      <th>3</th>\n      <td>12</td>\n      <td>Adventure</td>\n    </tr>\n    <tr>\n      <th>4</th>\n      <td>14</td>\n      <td>Fantasy</td>\n    </tr>\n    <tr>\n      <th>...</th>\n      <td>...</td>\n      <td>...</td>\n    </tr>\n    <tr>\n      <th>91089</th>\n      <td>10751</td>\n      <td>Family</td>\n    </tr>\n    <tr>\n      <th>91090</th>\n      <td>18</td>\n      <td>Drama</td>\n    </tr>\n    <tr>\n      <th>91091</th>\n      <td>28</td>\n      <td>Action</td>\n    </tr>\n    <tr>\n      <th>91092</th>\n      <td>18</td>\n      <td>Drama</td>\n    </tr>\n    <tr>\n      <th>91093</th>\n      <td>53</td>\n      <td>Thriller</td>\n    </tr>\n  </tbody>\n</table>\n<p>91094 rows × 2 columns</p>\n</div>"
     },
     "execution_count": 366,
     "metadata": {},
     "output_type": "execute_result"
    }
   ],
   "source": [
    "df_movies_metadata_genres, is_nested = parse_json_column(df_movies_metadata['genres'])\n",
    "print(\"Nested:\", is_nested)\n",
    "df_movies_metadata_genres"
   ],
   "metadata": {
    "collapsed": false
   }
  },
  {
   "cell_type": "code",
   "execution_count": 461,
   "outputs": [
    {
     "data": {
      "text/plain": "id             name         \n<class 'int'>  <class 'str'>    91094\nName: count, dtype: int64"
     },
     "execution_count": 461,
     "metadata": {},
     "output_type": "execute_result"
    }
   ],
   "source": [
    "type_counts = df_movies_metadata_genres.map(type).value_counts()\n",
    "type_counts"
   ],
   "metadata": {
    "collapsed": false
   }
  },
  {
   "cell_type": "code",
   "execution_count": 367,
   "outputs": [],
   "source": [
    "# Size\n",
    "size = df_movies_metadata_budget.count()"
   ],
   "metadata": {
    "collapsed": false
   }
  },
  {
   "cell_type": "markdown",
   "source": [
    "##### # Unique values in column name"
   ],
   "metadata": {
    "collapsed": false
   }
  },
  {
   "cell_type": "code",
   "execution_count": 368,
   "outputs": [
    {
     "name": "stdout",
     "output_type": "stream",
     "text": [
      "Unique value in name: ['Animation' 'Comedy' 'Family' 'Adventure' 'Fantasy' 'Romance' 'Drama'\n",
      " 'Action' 'Crime' 'Thriller' 'Horror' 'History' 'Science Fiction'\n",
      " 'Mystery' 'War' 'Foreign' 'Music' 'Documentary' 'Western' 'TV Movie']\n"
     ]
    }
   ],
   "source": [
    "\n",
    "print(f\"Unique value in name: {df_movies_metadata_genres['name'].unique()}\")"
   ],
   "metadata": {
    "collapsed": false
   }
  },
  {
   "cell_type": "code",
   "execution_count": 369,
   "outputs": [
    {
     "name": "stdout",
     "output_type": "stream",
     "text": [
      "Count of unique value in name: 20\n"
     ]
    }
   ],
   "source": [
    "print(f\"Count of unique value in name: {len(df_movies_metadata_genres['name'].unique())}\")"
   ],
   "metadata": {
    "collapsed": false
   }
  },
  {
   "cell_type": "markdown",
   "source": [
    "##### Duplicate values in column id"
   ],
   "metadata": {
    "collapsed": false
   }
  },
  {
   "cell_type": "code",
   "execution_count": 370,
   "outputs": [
    {
     "name": "stdout",
     "output_type": "stream",
     "text": [
      "Duplicated values in ID:\n",
      " 2796\n"
     ]
    }
   ],
   "source": [
    "print(f\"Duplicated values in ID:\\n {df_movies_metadata_belongs_to_collection['id'].duplicated().sum()}\")"
   ],
   "metadata": {
    "collapsed": false
   }
  },
  {
   "cell_type": "markdown",
   "source": [
    "## Column homepage"
   ],
   "metadata": {
    "collapsed": false
   }
  },
  {
   "cell_type": "code",
   "execution_count": 477,
   "outputs": [
    {
     "data": {
      "text/plain": "0        http://toystory.disney.com/toy-story\n1                                            \n2                                            \n3                                            \n4                                            \n                         ...                 \n45461    http://www.imdb.com/title/tt6209470/\n45462                                        \n45463                                        \n45464                                        \n45465                                        \nName: homepage, Length: 45466, dtype: string"
     },
     "execution_count": 477,
     "metadata": {},
     "output_type": "execute_result"
    }
   ],
   "source": [
    "df_movies_metadata['homepage'] = df_movies_metadata['homepage'].astype('string')\n",
    "df_movies_metadata['homepage'] = df_movies_metadata['homepage'].fillna('')\n",
    "df_movies_metadata_homepage = df_movies_metadata['homepage']\n",
    "df_movies_metadata_homepage"
   ],
   "metadata": {
    "collapsed": false
   }
  },
  {
   "cell_type": "code",
   "execution_count": 478,
   "outputs": [
    {
     "data": {
      "text/plain": "string[python]"
     },
     "execution_count": 478,
     "metadata": {},
     "output_type": "execute_result"
    }
   ],
   "source": [
    "df_movies_metadata_homepage.dtypes"
   ],
   "metadata": {
    "collapsed": false
   }
  },
  {
   "cell_type": "code",
   "execution_count": 479,
   "outputs": [
    {
     "data": {
      "text/plain": "homepage\n<class 'str'>    45466\nName: count, dtype: int64"
     },
     "execution_count": 479,
     "metadata": {},
     "output_type": "execute_result"
    }
   ],
   "source": [
    "type_counts = df_movies_metadata['homepage'].map(type).value_counts()\n",
    "type_counts"
   ],
   "metadata": {
    "collapsed": false
   }
  },
  {
   "cell_type": "code",
   "execution_count": 374,
   "outputs": [
    {
     "name": "stdout",
     "output_type": "stream",
     "text": [
      "Size: 45463\n"
     ]
    }
   ],
   "source": [
    "size = len(df_movies_metadata_homepage)\n",
    "print(\"Size:\", size)"
   ],
   "metadata": {
    "collapsed": false
   }
  },
  {
   "cell_type": "markdown",
   "source": [
    "###### Missing values (NaN)"
   ],
   "metadata": {
    "collapsed": false
   }
  },
  {
   "cell_type": "code",
   "execution_count": 375,
   "outputs": [
    {
     "name": "stdout",
     "output_type": "stream",
     "text": [
      "Count of NaN: 37684\n"
     ]
    }
   ],
   "source": [
    "df_movies_metadata_homepage_missing = df_movies_metadata['homepage'].isna()\n",
    "count_of_nan = df_movies_metadata_homepage_missing.sum()\n",
    "print(\"Count of NaN:\", count_of_nan)\n"
   ],
   "metadata": {
    "collapsed": false
   }
  },
  {
   "cell_type": "code",
   "execution_count": 376,
   "outputs": [
    {
     "name": "stdout",
     "output_type": "stream",
     "text": [
      "Percentage NaN 0.8289\n"
     ]
    }
   ],
   "source": [
    "# Percentage\n",
    "print(\"Percentage NaN\", round(count_of_nan/size, 4))"
   ],
   "metadata": {
    "collapsed": false
   }
  },
  {
   "cell_type": "markdown",
   "source": [
    "## Column id"
   ],
   "metadata": {
    "collapsed": false
   }
  },
  {
   "cell_type": "code",
   "execution_count": 377,
   "outputs": [
    {
     "data": {
      "text/plain": "0           862\n1          8844\n2         15602\n3         31357\n4         11862\n          ...  \n45461    439050\n45462    111109\n45463     67758\n45464    227506\n45465    461257\nName: id, Length: 45463, dtype: object"
     },
     "execution_count": 377,
     "metadata": {},
     "output_type": "execute_result"
    }
   ],
   "source": [
    "df_movies_metadata_id = df_movies_metadata['id']\n",
    "df_movies_metadata_id"
   ],
   "metadata": {
    "collapsed": false
   }
  },
  {
   "cell_type": "code",
   "execution_count": 378,
   "outputs": [
    {
     "name": "stderr",
     "output_type": "stream",
     "text": [
      "C:\\Users\\jensc\\AppData\\Local\\Temp\\ipykernel_19424\\1411043842.py:1: SettingWithCopyWarning: \n",
      "A value is trying to be set on a copy of a slice from a DataFrame.\n",
      "Try using .loc[row_indexer,col_indexer] = value instead\n",
      "\n",
      "See the caveats in the documentation: https://pandas.pydata.org/pandas-docs/stable/user_guide/indexing.html#returning-a-view-versus-a-copy\n",
      "  df_movies_metadata['id'] = pd.to_numeric(df_movies_metadata['id'], errors='coerce').astype('Int64')\n"
     ]
    },
    {
     "data": {
      "text/plain": "0           862\n1          8844\n2         15602\n3         31357\n4         11862\n          ...  \n45461    439050\n45462    111109\n45463     67758\n45464    227506\n45465    461257\nName: id, Length: 45463, dtype: Int64"
     },
     "execution_count": 378,
     "metadata": {},
     "output_type": "execute_result"
    }
   ],
   "source": [
    "df_movies_metadata['id'] = pd.to_numeric(df_movies_metadata['id'], errors='coerce').astype('Int64')\n",
    "df_movies_metadata['id']"
   ],
   "metadata": {
    "collapsed": false
   }
  },
  {
   "cell_type": "markdown",
   "source": [
    "##### Duplicated values in id"
   ],
   "metadata": {
    "collapsed": false
   }
  },
  {
   "cell_type": "code",
   "execution_count": 480,
   "outputs": [
    {
     "name": "stdout",
     "output_type": "stream",
     "text": [
      "Duplicated values in ID: 30\n"
     ]
    }
   ],
   "source": [
    "print(f\"Duplicated values in ID: {df_movies_metadata_id.duplicated().sum()}\")\n"
   ],
   "metadata": {
    "collapsed": false
   }
  },
  {
   "cell_type": "code",
   "execution_count": 380,
   "outputs": [
    {
     "data": {
      "text/plain": "id\n<class 'int'>    45463\nName: count, dtype: int64"
     },
     "execution_count": 380,
     "metadata": {},
     "output_type": "execute_result"
    }
   ],
   "source": [
    "type_counts = df_movies_metadata['id'].map(type).value_counts()\n",
    "type_counts"
   ],
   "metadata": {
    "collapsed": false
   }
  },
  {
   "cell_type": "markdown",
   "source": [
    "## Column imdb_id"
   ],
   "metadata": {
    "collapsed": false
   }
  },
  {
   "cell_type": "code",
   "execution_count": 381,
   "outputs": [
    {
     "data": {
      "text/plain": "0        tt0114709\n1        tt0113497\n2        tt0113228\n3        tt0114885\n4        tt0113041\n           ...    \n45461    tt6209470\n45462    tt2028550\n45463    tt0303758\n45464    tt0008536\n45465    tt6980792\nName: imdb_id, Length: 45463, dtype: object"
     },
     "execution_count": 381,
     "metadata": {},
     "output_type": "execute_result"
    }
   ],
   "source": [
    "df_movies_metadata_imdb_id =df_movies_metadata['imdb_id']\n",
    "df_movies_metadata_imdb_id"
   ],
   "metadata": {
    "collapsed": false
   }
  },
  {
   "cell_type": "code",
   "execution_count": 483,
   "outputs": [
    {
     "data": {
      "text/plain": "0        tt0114709\n1        tt0113497\n2        tt0113228\n3        tt0114885\n4        tt0113041\n           ...    \n45444    tt6209470\n45445    tt2028550\n45446    tt0303758\n45447    tt0008536\n45448    tt6980792\nName: imdb_id, Length: 45449, dtype: object"
     },
     "execution_count": 483,
     "metadata": {},
     "output_type": "execute_result"
    }
   ],
   "source": [
    "# df_movies_metadata2 = df_movies_metadata[df_movies_metadata['imdb_id'].apply(lambda x: isinstance(x, str))]\n",
    "# df_movies_metadata2 = df_movies_metadata2.reset_index(drop=True)\n",
    "# df_movies_metadata_imdb_id = df_movies_metadata2['imdb_id']\n",
    "# df_movies_metadata_imdb_id"
   ],
   "metadata": {
    "collapsed": false
   }
  },
  {
   "cell_type": "code",
   "execution_count": 485,
   "outputs": [
    {
     "data": {
      "text/plain": "imdb_id\n<class 'str'>    45449\nName: count, dtype: int64"
     },
     "execution_count": 485,
     "metadata": {},
     "output_type": "execute_result"
    }
   ],
   "source": [
    "type_counts = df_movies_metadata['imdb_id'].map(type).value_counts()\n",
    "type_counts"
   ],
   "metadata": {
    "collapsed": false
   }
  },
  {
   "cell_type": "markdown",
   "source": [
    "##### Duplicated values in imdb_id"
   ],
   "metadata": {
    "collapsed": false
   }
  },
  {
   "cell_type": "code",
   "execution_count": 384,
   "outputs": [
    {
     "name": "stdout",
     "output_type": "stream",
     "text": [
      "Duplicated values in ID: 46\n"
     ]
    }
   ],
   "source": [
    "print(f\"Duplicated values in ID: {df_movies_metadata_imdb_id.duplicated().sum()}\")"
   ],
   "metadata": {
    "collapsed": false
   }
  },
  {
   "cell_type": "markdown",
   "source": [
    "## Column original_language"
   ],
   "metadata": {
    "collapsed": false
   }
  },
  {
   "cell_type": "code",
   "execution_count": 385,
   "outputs": [
    {
     "data": {
      "text/plain": "0        en\n1        en\n2        en\n3        en\n4        en\n         ..\n45461    fa\n45462    tl\n45463    en\n45464    en\n45465    en\nName: original_language, Length: 45463, dtype: object"
     },
     "execution_count": 385,
     "metadata": {},
     "output_type": "execute_result"
    }
   ],
   "source": [
    "df_movies_metadata_original_language = df_movies_metadata['original_language']\n",
    "df_movies_metadata_original_language"
   ],
   "metadata": {
    "collapsed": false
   }
  },
  {
   "cell_type": "code",
   "execution_count": 486,
   "outputs": [
    {
     "data": {
      "text/plain": "original_language\n<class 'str'>      45455\n<class 'float'>       11\nName: count, dtype: int64"
     },
     "execution_count": 486,
     "metadata": {},
     "output_type": "execute_result"
    }
   ],
   "source": [
    "type_counts = df_movies_metadata['original_language'].map(type).value_counts()\n",
    "type_counts"
   ],
   "metadata": {
    "collapsed": false
   }
  },
  {
   "cell_type": "code",
   "execution_count": 386,
   "outputs": [
    {
     "data": {
      "text/plain": "<Figure size 1200x600 with 1 Axes>",
      "image/png": "[encoded data removed]"
     },
     "metadata": {},
     "output_type": "display_data"
    }
   ],
   "source": [
    "# Frequency of each language (top 15)\n",
    "lang_freq = df_movies_metadata['original_language'].value_counts().head(15)\n",
    "\n",
    "# Plot frequency diagram (top 15 languages)\n",
    "plt.figure(figsize=(12,6))\n",
    "plt.bar(lang_freq.index, lang_freq.values)\n",
    "plt.title(\"Top 15 Original Languages\")\n",
    "plt.xlabel(\"Language\")\n",
    "plt.ylabel(\"Frequency\")\n",
    "plt.xticks(rotation=45)\n",
    "plt.show()"
   ],
   "metadata": {
    "collapsed": false
   }
  },
  {
   "cell_type": "code",
   "execution_count": 387,
   "outputs": [
    {
     "name": "stdout",
     "output_type": "stream",
     "text": [
      "Count of unique languages: 89\n"
     ]
    }
   ],
   "source": [
    "# Count of unique languages\n",
    "print(\"Count of unique languages:\", df_movies_metadata['original_language'].nunique())"
   ],
   "metadata": {
    "collapsed": false
   }
  },
  {
   "cell_type": "markdown",
   "source": [
    "## Column original_title"
   ],
   "metadata": {
    "collapsed": false
   }
  },
  {
   "cell_type": "code",
   "execution_count": 388,
   "outputs": [
    {
     "data": {
      "text/plain": "0                          Toy Story\n1                            Jumanji\n2                   Grumpier Old Men\n3                  Waiting to Exhale\n4        Father of the Bride Part II\n                    ...             \n45461                        رگ خواب\n45462            Siglo ng Pagluluwal\n45463                       Betrayal\n45464            Satana likuyushchiy\n45465                       Queerama\nName: original_title, Length: 45463, dtype: object"
     },
     "execution_count": 388,
     "metadata": {},
     "output_type": "execute_result"
    }
   ],
   "source": [
    "df_movies_metadata_original_title = df_movies_metadata['original_title']\n",
    "df_movies_metadata_original_title"
   ],
   "metadata": {
    "collapsed": false
   }
  },
  {
   "cell_type": "code",
   "execution_count": 487,
   "outputs": [
    {
     "data": {
      "text/plain": "original_title\n<class 'str'>    45466\nName: count, dtype: int64"
     },
     "execution_count": 487,
     "metadata": {},
     "output_type": "execute_result"
    }
   ],
   "source": [
    "type_counts = df_movies_metadata['original_title'].map(type).value_counts()\n",
    "type_counts"
   ],
   "metadata": {
    "collapsed": false
   }
  },
  {
   "cell_type": "code",
   "execution_count": 389,
   "outputs": [
    {
     "name": "stdout",
     "output_type": "stream",
     "text": [
      "Unique values in 'adult': ['Toy Story' 'Jumanji' 'Grumpier Old Men' ... 'Siglo ng Pagluluwal'\n",
      " 'Satana likuyushchiy' 'Queerama']\n"
     ]
    }
   ],
   "source": [
    "unique_original_title_values = df_movies_metadata['original_title'].unique()\n",
    "print(\"Unique values in 'adult':\", unique_original_title_values)"
   ],
   "metadata": {
    "collapsed": false
   }
  },
  {
   "cell_type": "code",
   "execution_count": 390,
   "outputs": [
    {
     "name": "stdout",
     "output_type": "stream",
     "text": [
      "Count of original titles: 43371\n"
     ]
    }
   ],
   "source": [
    "# Count of unique original titles\n",
    "print(\"Count of original titles:\", len(unique_original_title_values))"
   ],
   "metadata": {
    "collapsed": false
   }
  },
  {
   "cell_type": "markdown",
   "source": [
    "##### Missing values"
   ],
   "metadata": {
    "collapsed": false
   }
  },
  {
   "cell_type": "code",
   "execution_count": 391,
   "outputs": [
    {
     "data": {
      "text/plain": "           Column  Missing Count\n0  original_title              0",
      "text/html": "<div>\n<style scoped>\n    .dataframe tbody tr th:only-of-type {\n        vertical-align: middle;\n    }\n\n    .dataframe tbody tr th {\n        vertical-align: top;\n    }\n\n    .dataframe thead th {\n        text-align: right;\n    }\n</style>\n<table border=\"1\" class=\"dataframe\">\n  <thead>\n    <tr style=\"text-align: right;\">\n      <th></th>\n      <th>Column</th>\n      <th>Missing Count</th>\n    </tr>\n  </thead>\n  <tbody>\n    <tr>\n      <th>0</th>\n      <td>original_title</td>\n      <td>0</td>\n    </tr>\n  </tbody>\n</table>\n</div>"
     },
     "execution_count": 391,
     "metadata": {},
     "output_type": "execute_result"
    }
   ],
   "source": [
    "df_movies_metadata_original_title_missing = get_missing_values(df_movies_metadata['original_title'])\n",
    "df_movies_metadata_original_title_missing"
   ],
   "metadata": {
    "collapsed": false
   }
  },
  {
   "cell_type": "markdown",
   "source": [
    "## Column overview"
   ],
   "metadata": {
    "collapsed": false
   }
  },
  {
   "cell_type": "code",
   "execution_count": 392,
   "outputs": [
    {
     "data": {
      "text/plain": "0        Led by Woody, Andy's toys live happily in his ...\n1        When siblings Judy and Peter discover an encha...\n2        A family wedding reignites the ancient feud be...\n3        Cheated on, mistreated and stepped on, the wom...\n4        Just when George Banks has recovered from his ...\n                               ...                        \n45461          Rising and falling between a man and woman.\n45462    An artist struggles to finish his work while a...\n45463    When one of her hits goes wrong, a professiona...\n45464    In a small town live two brothers, one a minis...\n45465    50 years after decriminalisation of homosexual...\nName: overview, Length: 45463, dtype: object"
     },
     "execution_count": 392,
     "metadata": {},
     "output_type": "execute_result"
    }
   ],
   "source": [
    "df_movies_metadata_overview = df_movies_metadata['overview']\n",
    "df_movies_metadata_overview"
   ],
   "metadata": {
    "collapsed": false
   }
  },
  {
   "cell_type": "code",
   "execution_count": 393,
   "outputs": [
    {
     "data": {
      "text/plain": "dtype('O')"
     },
     "execution_count": 393,
     "metadata": {},
     "output_type": "execute_result"
    }
   ],
   "source": [
    "df_movies_metadata_overview.dtypes"
   ],
   "metadata": {
    "collapsed": false
   }
  },
  {
   "cell_type": "code",
   "execution_count": 394,
   "outputs": [
    {
     "data": {
      "text/plain": "<Figure size 640x480 with 1 Axes>",
      "image/png": "[encoded data removed]"
     },
     "metadata": {},
     "output_type": "display_data"
    }
   ],
   "source": [
    "# Get type of each element\n",
    "type_counts = df_movies_metadata_overview.map(type).value_counts()\n",
    "\n",
    "# Plot histogram of types\n",
    "type_counts.plot(kind=\"bar\")\n",
    "plt.title(\"Data Types in belongs_to_collection Column\")\n",
    "plt.xlabel(\"Type\")\n",
    "plt.ylabel(\"Count\")\n",
    "plt.xticks(rotation=45)\n",
    "plt.show()\n"
   ],
   "metadata": {
    "collapsed": false
   }
  },
  {
   "cell_type": "code",
   "execution_count": 395,
   "outputs": [
    {
     "name": "stdout",
     "output_type": "stream",
     "text": [
      "Count of original titles: 44307\n"
     ]
    }
   ],
   "source": [
    "unique_overview_values = df_movies_metadata['overview'].unique()\n",
    "print(\"Count of original titles:\", len(unique_overview_values))"
   ],
   "metadata": {
    "collapsed": false
   }
  },
  {
   "cell_type": "markdown",
   "source": [
    "## Column popularity"
   ],
   "metadata": {
    "collapsed": false
   }
  },
  {
   "cell_type": "code",
   "execution_count": 396,
   "outputs": [
    {
     "data": {
      "text/plain": "0        21.946943\n1        17.015539\n2          11.7129\n3         3.859495\n4         8.387519\n           ...    \n45461     0.072051\n45462     0.178241\n45463     0.903007\n45464     0.003503\n45465     0.163015\nName: popularity, Length: 45463, dtype: object"
     },
     "execution_count": 396,
     "metadata": {},
     "output_type": "execute_result"
    }
   ],
   "source": [
    "df_movies_metadata_popularity = df_movies_metadata['popularity']\n",
    "df_movies_metadata_popularity"
   ],
   "metadata": {
    "collapsed": false
   }
  },
  {
   "cell_type": "code",
   "execution_count": 489,
   "outputs": [],
   "source": [
    "# Separate rows where 'popularity' is a float\n",
    "df_popularity_float = df_movies_metadata[df_movies_metadata['popularity'].apply(lambda x: isinstance(x, float))]\n",
    "\n",
    "# Separate rows where 'popularity' is a string\n",
    "df_popularity_string = df_movies_metadata[df_movies_metadata['popularity'].apply(lambda x: isinstance(x, str))]\n"
   ],
   "metadata": {
    "collapsed": false
   }
  },
  {
   "cell_type": "code",
   "execution_count": 497,
   "outputs": [
    {
     "data": {
      "text/plain": "0        21.946943\n1        17.015539\n2          11.7129\n3         3.859495\n4         8.387519\n           ...    \n32764     0.214778\n32765     2.774803\n32766     0.910314\n32767     0.923746\n35586          NaN\nName: popularity, Length: 32769, dtype: object"
     },
     "execution_count": 497,
     "metadata": {},
     "output_type": "execute_result"
    }
   ],
   "source": [
    "df_popularity_float['popularity']"
   ],
   "metadata": {
    "collapsed": false
   }
  },
  {
   "cell_type": "code",
   "execution_count": 496,
   "outputs": [
    {
     "data": {
      "text/plain": "32768    0.837228\n32769    7.350821\n32770    0.244392\n32771    0.215456\n32772    1.208227\n           ...   \n45461    0.072051\n45462    0.178241\n45463    0.903007\n45464    0.003503\n45465    0.163015\nName: popularity, Length: 12697, dtype: object"
     },
     "execution_count": 496,
     "metadata": {},
     "output_type": "execute_result"
    }
   ],
   "source": [
    "df_popularity_string['popularity']"
   ],
   "metadata": {
    "collapsed": false
   }
  },
  {
   "cell_type": "code",
   "execution_count": 397,
   "outputs": [
    {
     "data": {
      "text/plain": "dtype('O')"
     },
     "execution_count": 397,
     "metadata": {},
     "output_type": "execute_result"
    }
   ],
   "source": [
    "df_movies_metadata_popularity.dtypes"
   ],
   "metadata": {
    "collapsed": false
   }
  },
  {
   "cell_type": "code",
   "execution_count": 398,
   "outputs": [
    {
     "data": {
      "text/plain": "popularity\n<class 'float'>    32767\n<class 'str'>      12696\nName: count, dtype: int64"
     },
     "execution_count": 398,
     "metadata": {},
     "output_type": "execute_result"
    }
   ],
   "source": [
    "type_counts = df_movies_metadata_popularity.map(type).value_counts()\n",
    "type_counts"
   ],
   "metadata": {
    "collapsed": false
   }
  },
  {
   "cell_type": "code",
   "execution_count": 399,
   "outputs": [
    {
     "data": {
      "text/plain": "       Column  Missing Count\n0  popularity              3",
      "text/html": "<div>\n<style scoped>\n    .dataframe tbody tr th:only-of-type {\n        vertical-align: middle;\n    }\n\n    .dataframe tbody tr th {\n        vertical-align: top;\n    }\n\n    .dataframe thead th {\n        text-align: right;\n    }\n</style>\n<table border=\"1\" class=\"dataframe\">\n  <thead>\n    <tr style=\"text-align: right;\">\n      <th></th>\n      <th>Column</th>\n      <th>Missing Count</th>\n    </tr>\n  </thead>\n  <tbody>\n    <tr>\n      <th>0</th>\n      <td>popularity</td>\n      <td>3</td>\n    </tr>\n  </tbody>\n</table>\n</div>"
     },
     "execution_count": 399,
     "metadata": {},
     "output_type": "execute_result"
    }
   ],
   "source": [
    "df_movies_metadata_popularity_missing = get_missing_values(df_movies_metadata_popularity)\n",
    "df_movies_metadata_popularity_missing"
   ],
   "metadata": {
    "collapsed": false
   }
  },
  {
   "cell_type": "markdown",
   "source": [
    "## Column poster_path"
   ],
   "metadata": {
    "collapsed": false
   }
  },
  {
   "cell_type": "code",
   "execution_count": 400,
   "outputs": [
    {
     "data": {
      "text/plain": "0        /rhIRbceoE9lR4veEXuwCC2wARtG.jpg\n1        /vzmL6fP7aPKNKPRTFnZmiUfciyV.jpg\n2        /6ksm1sjKMFLbO7UY2i6G1ju9SML.jpg\n3        /16XOMpEaLWkrcPqSQqhTmeJuqQl.jpg\n4        /e64sOI48hQXyru7naBFyssKFxVd.jpg\n                       ...               \n45461    /jldsYflnId4tTWPx8es3uzsB1I8.jpg\n45462    /xZkmxsNmYXJbKVsTRLLx3pqGHx7.jpg\n45463    /d5bX92nDsISNhu3ZT69uHwmfCGw.jpg\n45464    /aorBPO7ak8e8iJKT5OcqYxU3jlK.jpg\n45465    /s5UkZt6NTsrS7ZF0Rh8nzupRlIU.jpg\nName: poster_path, Length: 45463, dtype: object"
     },
     "execution_count": 400,
     "metadata": {},
     "output_type": "execute_result"
    }
   ],
   "source": [
    "df_movies_metadata_poster_path = df_movies_metadata['poster_path']\n",
    "df_movies_metadata_poster_path"
   ],
   "metadata": {
    "collapsed": false
   }
  },
  {
   "cell_type": "code",
   "execution_count": 499,
   "outputs": [
    {
     "data": {
      "text/plain": "554      NaN\n635      NaN\n644      NaN\n711      NaN\n734      NaN\n        ... \n45313    NaN\n45324    NaN\n45333    NaN\n45410    NaN\n45431    NaN\nName: poster_path, Length: 386, dtype: object"
     },
     "execution_count": 499,
     "metadata": {},
     "output_type": "execute_result"
    }
   ],
   "source": [
    "df_poster_path_float = df_movies_metadata[df_movies_metadata['poster_path'].apply(lambda x: isinstance(x, float))]\n",
    "df_poster_path_float['poster_path']"
   ],
   "metadata": {
    "collapsed": false
   }
  },
  {
   "cell_type": "code",
   "execution_count": 401,
   "outputs": [
    {
     "data": {
      "text/plain": "dtype('O')"
     },
     "execution_count": 401,
     "metadata": {},
     "output_type": "execute_result"
    }
   ],
   "source": [
    "df_movies_metadata_poster_path.dtypes"
   ],
   "metadata": {
    "collapsed": false
   }
  },
  {
   "cell_type": "code",
   "execution_count": 402,
   "outputs": [
    {
     "data": {
      "text/plain": "poster_path\n<class 'str'>      45077\n<class 'float'>      386\nName: count, dtype: int64"
     },
     "execution_count": 402,
     "metadata": {},
     "output_type": "execute_result"
    }
   ],
   "source": [
    "type_counts = df_movies_metadata_poster_path.map(type).value_counts()\n",
    "type_counts"
   ],
   "metadata": {
    "collapsed": false
   }
  },
  {
   "cell_type": "code",
   "execution_count": 403,
   "outputs": [
    {
     "data": {
      "text/plain": "        Column  Missing Count\n0  poster_path            386",
      "text/html": "<div>\n<style scoped>\n    .dataframe tbody tr th:only-of-type {\n        vertical-align: middle;\n    }\n\n    .dataframe tbody tr th {\n        vertical-align: top;\n    }\n\n    .dataframe thead th {\n        text-align: right;\n    }\n</style>\n<table border=\"1\" class=\"dataframe\">\n  <thead>\n    <tr style=\"text-align: right;\">\n      <th></th>\n      <th>Column</th>\n      <th>Missing Count</th>\n    </tr>\n  </thead>\n  <tbody>\n    <tr>\n      <th>0</th>\n      <td>poster_path</td>\n      <td>386</td>\n    </tr>\n  </tbody>\n</table>\n</div>"
     },
     "execution_count": 403,
     "metadata": {},
     "output_type": "execute_result"
    }
   ],
   "source": [
    "df_movies_metadata_poster_path_missing = get_missing_values(df_movies_metadata_poster_path)\n",
    "df_movies_metadata_poster_path_missing"
   ],
   "metadata": {
    "collapsed": false
   }
  },
  {
   "cell_type": "markdown",
   "source": [
    "## Column production_companies"
   ],
   "metadata": {
    "collapsed": false
   }
  },
  {
   "cell_type": "code",
   "execution_count": 501,
   "outputs": [
    {
     "data": {
      "text/plain": "0           [{'name': 'Pixar Animation Studios', 'id': 3}]\n1        [{'name': 'TriStar Pictures', 'id': 559}, {'na...\n2        [{'name': 'Warner Bros.', 'id': 6194}, {'name'...\n3        [{'name': 'Twentieth Century Fox Film Corporat...\n4        [{'name': 'Sandollar Productions', 'id': 5842}...\n                               ...                        \n45461                                                   []\n45462               [{'name': 'Sine Olivia', 'id': 19653}]\n45463    [{'name': 'American World Pictures', 'id': 6165}]\n45464                 [{'name': 'Yermoliev', 'id': 88753}]\n45465                                                   []\nName: production_companies, Length: 45466, dtype: object"
     },
     "execution_count": 501,
     "metadata": {},
     "output_type": "execute_result"
    }
   ],
   "source": [
    "df_movies_metadata_production_companies = df_movies_metadata['production_companies']\n",
    "df_movies_metadata_production_companies"
   ],
   "metadata": {
    "collapsed": false
   }
  },
  {
   "cell_type": "code",
   "execution_count": 505,
   "outputs": [
    {
     "name": "stdout",
     "output_type": "stream",
     "text": [
      "Nested: True\n"
     ]
    },
    {
     "data": {
      "text/plain": "                                name     id\n0            Pixar Animation Studios      3\n1                   TriStar Pictures    559\n2                       Teitler Film   2550\n3          Interscope Communications  10201\n4                       Warner Bros.   6194\n...                              ...    ...\n70540    20th Century Fox Television  16323\n70541  CanWest Global Communications  38978\n70542                    Sine Olivia  19653\n70543        American World Pictures   6165\n70544                      Yermoliev  88753\n\n[70545 rows x 2 columns]",
      "text/html": "<div>\n<style scoped>\n    .dataframe tbody tr th:only-of-type {\n        vertical-align: middle;\n    }\n\n    .dataframe tbody tr th {\n        vertical-align: top;\n    }\n\n    .dataframe thead th {\n        text-align: right;\n    }\n</style>\n<table border=\"1\" class=\"dataframe\">\n  <thead>\n    <tr style=\"text-align: right;\">\n      <th></th>\n      <th>name</th>\n      <th>id</th>\n    </tr>\n  </thead>\n  <tbody>\n    <tr>\n      <th>0</th>\n      <td>Pixar Animation Studios</td>\n      <td>3</td>\n    </tr>\n    <tr>\n      <th>1</th>\n      <td>TriStar Pictures</td>\n      <td>559</td>\n    </tr>\n    <tr>\n      <th>2</th>\n      <td>Teitler Film</td>\n      <td>2550</td>\n    </tr>\n    <tr>\n      <th>3</th>\n      <td>Interscope Communications</td>\n      <td>10201</td>\n    </tr>\n    <tr>\n      <th>4</th>\n      <td>Warner Bros.</td>\n      <td>6194</td>\n    </tr>\n    <tr>\n      <th>...</th>\n      <td>...</td>\n      <td>...</td>\n    </tr>\n    <tr>\n      <th>70540</th>\n      <td>20th Century Fox Television</td>\n      <td>16323</td>\n    </tr>\n    <tr>\n      <th>70541</th>\n      <td>CanWest Global Communications</td>\n      <td>38978</td>\n    </tr>\n    <tr>\n      <th>70542</th>\n      <td>Sine Olivia</td>\n      <td>19653</td>\n    </tr>\n    <tr>\n      <th>70543</th>\n      <td>American World Pictures</td>\n      <td>6165</td>\n    </tr>\n    <tr>\n      <th>70544</th>\n      <td>Yermoliev</td>\n      <td>88753</td>\n    </tr>\n  </tbody>\n</table>\n<p>70545 rows × 2 columns</p>\n</div>"
     },
     "execution_count": 505,
     "metadata": {},
     "output_type": "execute_result"
    }
   ],
   "source": [
    "df_movies_metadata_production_companies, is_nested = parse_json_column(df_movies_metadata['production_companies'])\n",
    "print(\"Nested:\", is_nested)\n",
    "df_movies_metadata_production_companies"
   ],
   "metadata": {
    "collapsed": false
   }
  },
  {
   "cell_type": "code",
   "execution_count": 506,
   "outputs": [
    {
     "data": {
      "text/plain": "  Column  Missing Count\n0   name              0\n1     id              0",
      "text/html": "<div>\n<style scoped>\n    .dataframe tbody tr th:only-of-type {\n        vertical-align: middle;\n    }\n\n    .dataframe tbody tr th {\n        vertical-align: top;\n    }\n\n    .dataframe thead th {\n        text-align: right;\n    }\n</style>\n<table border=\"1\" class=\"dataframe\">\n  <thead>\n    <tr style=\"text-align: right;\">\n      <th></th>\n      <th>Column</th>\n      <th>Missing Count</th>\n    </tr>\n  </thead>\n  <tbody>\n    <tr>\n      <th>0</th>\n      <td>name</td>\n      <td>0</td>\n    </tr>\n    <tr>\n      <th>1</th>\n      <td>id</td>\n      <td>0</td>\n    </tr>\n  </tbody>\n</table>\n</div>"
     },
     "execution_count": 506,
     "metadata": {},
     "output_type": "execute_result"
    }
   ],
   "source": [
    "df_movies_metadata_production_companies_missing = get_missing_values(df_movies_metadata_production_companies)\n",
    "df_movies_metadata_production_companies_missing"
   ],
   "metadata": {
    "collapsed": false
   }
  },
  {
   "cell_type": "code",
   "execution_count": 507,
   "outputs": [
    {
     "name": "stdout",
     "output_type": "stream",
     "text": [
      "Duplicated values in 'id':\n",
      " 46853\n"
     ]
    }
   ],
   "source": [
    "print(f\"Duplicated values in 'id':\\n {df_movies_metadata_production_companies['id'].duplicated().sum()}\")"
   ],
   "metadata": {
    "collapsed": false
   }
  },
  {
   "cell_type": "markdown",
   "source": [
    "## Column production_countries"
   ],
   "metadata": {
    "collapsed": false
   }
  },
  {
   "cell_type": "code",
   "execution_count": 407,
   "outputs": [
    {
     "data": {
      "text/plain": "0        [{'iso_3166_1': 'US', 'name': 'United States o...\n1        [{'iso_3166_1': 'US', 'name': 'United States o...\n2        [{'iso_3166_1': 'US', 'name': 'United States o...\n3        [{'iso_3166_1': 'US', 'name': 'United States o...\n4        [{'iso_3166_1': 'US', 'name': 'United States o...\n                               ...                        \n45461               [{'iso_3166_1': 'IR', 'name': 'Iran'}]\n45462        [{'iso_3166_1': 'PH', 'name': 'Philippines'}]\n45463    [{'iso_3166_1': 'US', 'name': 'United States o...\n45464             [{'iso_3166_1': 'RU', 'name': 'Russia'}]\n45465     [{'iso_3166_1': 'GB', 'name': 'United Kingdom'}]\nName: production_countries, Length: 45463, dtype: object"
     },
     "execution_count": 407,
     "metadata": {},
     "output_type": "execute_result"
    }
   ],
   "source": [
    "df_movies_metadata_production_countries = df_movies_metadata['production_countries']\n",
    "df_movies_metadata_production_countries"
   ],
   "metadata": {
    "collapsed": false
   }
  },
  {
   "cell_type": "code",
   "execution_count": 408,
   "outputs": [
    {
     "name": "stdout",
     "output_type": "stream",
     "text": [
      "Nested: True\n"
     ]
    },
    {
     "data": {
      "text/plain": "      iso_3166_1                      name\n0             US  United States of America\n1             US  United States of America\n2             US  United States of America\n3             US  United States of America\n4             US  United States of America\n...          ...                       ...\n49418         IR                      Iran\n49419         PH               Philippines\n49420         US  United States of America\n49421         RU                    Russia\n49422         GB            United Kingdom\n\n[49423 rows x 2 columns]",
      "text/html": "<div>\n<style scoped>\n    .dataframe tbody tr th:only-of-type {\n        vertical-align: middle;\n    }\n\n    .dataframe tbody tr th {\n        vertical-align: top;\n    }\n\n    .dataframe thead th {\n        text-align: right;\n    }\n</style>\n<table border=\"1\" class=\"dataframe\">\n  <thead>\n    <tr style=\"text-align: right;\">\n      <th></th>\n      <th>iso_3166_1</th>\n      <th>name</th>\n    </tr>\n  </thead>\n  <tbody>\n    <tr>\n      <th>0</th>\n      <td>US</td>\n      <td>United States of America</td>\n    </tr>\n    <tr>\n      <th>1</th>\n      <td>US</td>\n      <td>United States of America</td>\n    </tr>\n    <tr>\n      <th>2</th>\n      <td>US</td>\n      <td>United States of America</td>\n    </tr>\n    <tr>\n      <th>3</th>\n      <td>US</td>\n      <td>United States of America</td>\n    </tr>\n    <tr>\n      <th>4</th>\n      <td>US</td>\n      <td>United States of America</td>\n    </tr>\n    <tr>\n      <th>...</th>\n      <td>...</td>\n      <td>...</td>\n    </tr>\n    <tr>\n      <th>49418</th>\n      <td>IR</td>\n      <td>Iran</td>\n    </tr>\n    <tr>\n      <th>49419</th>\n      <td>PH</td>\n      <td>Philippines</td>\n    </tr>\n    <tr>\n      <th>49420</th>\n      <td>US</td>\n      <td>United States of America</td>\n    </tr>\n    <tr>\n      <th>49421</th>\n      <td>RU</td>\n      <td>Russia</td>\n    </tr>\n    <tr>\n      <th>49422</th>\n      <td>GB</td>\n      <td>United Kingdom</td>\n    </tr>\n  </tbody>\n</table>\n<p>49423 rows × 2 columns</p>\n</div>"
     },
     "execution_count": 408,
     "metadata": {},
     "output_type": "execute_result"
    }
   ],
   "source": [
    "df_movies_metadata_production_countries, is_nested = parse_json_column(df_movies_metadata['production_countries'])\n",
    "print(\"Nested:\", is_nested)\n",
    "df_movies_metadata_production_countries"
   ],
   "metadata": {
    "collapsed": false
   }
  },
  {
   "cell_type": "code",
   "execution_count": 409,
   "outputs": [
    {
     "data": {
      "text/plain": "       Column  Missing Count\n0  iso_3166_1              0\n1        name              0",
      "text/html": "<div>\n<style scoped>\n    .dataframe tbody tr th:only-of-type {\n        vertical-align: middle;\n    }\n\n    .dataframe tbody tr th {\n        vertical-align: top;\n    }\n\n    .dataframe thead th {\n        text-align: right;\n    }\n</style>\n<table border=\"1\" class=\"dataframe\">\n  <thead>\n    <tr style=\"text-align: right;\">\n      <th></th>\n      <th>Column</th>\n      <th>Missing Count</th>\n    </tr>\n  </thead>\n  <tbody>\n    <tr>\n      <th>0</th>\n      <td>iso_3166_1</td>\n      <td>0</td>\n    </tr>\n    <tr>\n      <th>1</th>\n      <td>name</td>\n      <td>0</td>\n    </tr>\n  </tbody>\n</table>\n</div>"
     },
     "execution_count": 409,
     "metadata": {},
     "output_type": "execute_result"
    }
   ],
   "source": [
    "df_movies_metadata_production_countries_missing = get_missing_values(df_movies_metadata_production_countries)\n",
    "df_movies_metadata_production_countries_missing"
   ],
   "metadata": {
    "collapsed": false
   }
  },
  {
   "cell_type": "markdown",
   "source": [
    "## Column release_date"
   ],
   "metadata": {
    "collapsed": false
   }
  },
  {
   "cell_type": "code",
   "execution_count": 410,
   "outputs": [
    {
     "data": {
      "text/plain": "0        1995-10-30\n1        1995-12-15\n2        1995-12-22\n3        1995-12-22\n4        1995-02-10\n            ...    \n45461           NaN\n45462    2011-11-17\n45463    2003-08-01\n45464    1917-10-21\n45465    2017-06-09\nName: release_date, Length: 45463, dtype: object"
     },
     "execution_count": 410,
     "metadata": {},
     "output_type": "execute_result"
    }
   ],
   "source": [
    "df_movies_metadata_release_date = df_movies_metadata['release_date']\n",
    "df_movies_metadata_release_date"
   ],
   "metadata": {
    "collapsed": false
   }
  },
  {
   "cell_type": "code",
   "execution_count": 411,
   "outputs": [
    {
     "data": {
      "text/plain": "         Column  Missing Count\n0  release_date             87",
      "text/html": "<div>\n<style scoped>\n    .dataframe tbody tr th:only-of-type {\n        vertical-align: middle;\n    }\n\n    .dataframe tbody tr th {\n        vertical-align: top;\n    }\n\n    .dataframe thead th {\n        text-align: right;\n    }\n</style>\n<table border=\"1\" class=\"dataframe\">\n  <thead>\n    <tr style=\"text-align: right;\">\n      <th></th>\n      <th>Column</th>\n      <th>Missing Count</th>\n    </tr>\n  </thead>\n  <tbody>\n    <tr>\n      <th>0</th>\n      <td>release_date</td>\n      <td>87</td>\n    </tr>\n  </tbody>\n</table>\n</div>"
     },
     "execution_count": 411,
     "metadata": {},
     "output_type": "execute_result"
    }
   ],
   "source": [
    "df_movies_metadata_release_date_missing = get_missing_values(df_movies_metadata_release_date)\n",
    "df_movies_metadata_release_date_missing"
   ],
   "metadata": {
    "collapsed": false
   }
  },
  {
   "cell_type": "code",
   "execution_count": 508,
   "outputs": [
    {
     "data": {
      "text/plain": "release_date\n<class 'str'>      45379\n<class 'float'>       87\nName: count, dtype: int64"
     },
     "execution_count": 508,
     "metadata": {},
     "output_type": "execute_result"
    }
   ],
   "source": [
    "type_counts = df_movies_metadata['release_date'].map(type).value_counts()\n",
    "type_counts"
   ],
   "metadata": {
    "collapsed": false
   }
  },
  {
   "cell_type": "markdown",
   "source": [
    "## Column revenue"
   ],
   "metadata": {
    "collapsed": false
   }
  },
  {
   "cell_type": "code",
   "execution_count": 412,
   "outputs": [
    {
     "data": {
      "text/plain": "0        373554033.0\n1        262797249.0\n2                0.0\n3         81452156.0\n4         76578911.0\n            ...     \n45461            0.0\n45462            0.0\n45463            0.0\n45464            0.0\n45465            0.0\nName: revenue, Length: 45463, dtype: float64"
     },
     "execution_count": 412,
     "metadata": {},
     "output_type": "execute_result"
    }
   ],
   "source": [
    "df_movies_metadata_revenue = df_movies_metadata['revenue']\n",
    "df_movies_metadata_revenue"
   ],
   "metadata": {
    "collapsed": false
   }
  },
  {
   "cell_type": "code",
   "execution_count": 413,
   "outputs": [
    {
     "data": {
      "text/plain": "38052"
     },
     "execution_count": 413,
     "metadata": {},
     "output_type": "execute_result"
    }
   ],
   "source": [
    "df_movies_metadata_revenue[df_movies_metadata_revenue==0].count()"
   ],
   "metadata": {
    "collapsed": false
   }
  },
  {
   "cell_type": "code",
   "execution_count": 414,
   "outputs": [
    {
     "data": {
      "text/plain": "    Column  Missing Count\n0  revenue              3",
      "text/html": "<div>\n<style scoped>\n    .dataframe tbody tr th:only-of-type {\n        vertical-align: middle;\n    }\n\n    .dataframe tbody tr th {\n        vertical-align: top;\n    }\n\n    .dataframe thead th {\n        text-align: right;\n    }\n</style>\n<table border=\"1\" class=\"dataframe\">\n  <thead>\n    <tr style=\"text-align: right;\">\n      <th></th>\n      <th>Column</th>\n      <th>Missing Count</th>\n    </tr>\n  </thead>\n  <tbody>\n    <tr>\n      <th>0</th>\n      <td>revenue</td>\n      <td>3</td>\n    </tr>\n  </tbody>\n</table>\n</div>"
     },
     "execution_count": 414,
     "metadata": {},
     "output_type": "execute_result"
    }
   ],
   "source": [
    "df_movies_metadata_revenue_missing = get_missing_values(df_movies_metadata_revenue)\n",
    "df_movies_metadata_revenue_missing"
   ],
   "metadata": {
    "collapsed": false
   }
  },
  {
   "cell_type": "code",
   "execution_count": 509,
   "outputs": [
    {
     "data": {
      "text/plain": "revenue\n<class 'float'>    45466\nName: count, dtype: int64"
     },
     "execution_count": 509,
     "metadata": {},
     "output_type": "execute_result"
    }
   ],
   "source": [
    "type_counts = df_movies_metadata['revenue'].map(type).value_counts()\n",
    "type_counts"
   ],
   "metadata": {
    "collapsed": false
   }
  },
  {
   "cell_type": "markdown",
   "source": [
    "## Column runtime"
   ],
   "metadata": {
    "collapsed": false
   }
  },
  {
   "cell_type": "code",
   "execution_count": 415,
   "outputs": [
    {
     "data": {
      "text/plain": "0         81.0\n1        104.0\n2        101.0\n3        127.0\n4        106.0\n         ...  \n45461     90.0\n45462    360.0\n45463     90.0\n45464     87.0\n45465     75.0\nName: runtime, Length: 45463, dtype: float64"
     },
     "execution_count": 415,
     "metadata": {},
     "output_type": "execute_result"
    }
   ],
   "source": [
    "df_movies_metadata_runtime = df_movies_metadata['runtime']\n",
    "df_movies_metadata_runtime"
   ],
   "metadata": {
    "collapsed": false
   }
  },
  {
   "cell_type": "code",
   "execution_count": 510,
   "outputs": [
    {
     "data": {
      "text/plain": "runtime\n<class 'float'>    45466\nName: count, dtype: int64"
     },
     "execution_count": 510,
     "metadata": {},
     "output_type": "execute_result"
    }
   ],
   "source": [
    "type_counts = df_movies_metadata['runtime'].map(type).value_counts()\n",
    "type_counts"
   ],
   "metadata": {
    "collapsed": false
   }
  },
  {
   "cell_type": "code",
   "execution_count": 416,
   "outputs": [
    {
     "data": {
      "text/plain": "1558"
     },
     "execution_count": 416,
     "metadata": {},
     "output_type": "execute_result"
    }
   ],
   "source": [
    "df_movies_metadata_runtime[df_movies_metadata_runtime==0].count()"
   ],
   "metadata": {
    "collapsed": false
   }
  },
  {
   "cell_type": "code",
   "execution_count": 417,
   "outputs": [
    {
     "data": {
      "text/plain": "    Column  Missing Count\n0  runtime            260",
      "text/html": "<div>\n<style scoped>\n    .dataframe tbody tr th:only-of-type {\n        vertical-align: middle;\n    }\n\n    .dataframe tbody tr th {\n        vertical-align: top;\n    }\n\n    .dataframe thead th {\n        text-align: right;\n    }\n</style>\n<table border=\"1\" class=\"dataframe\">\n  <thead>\n    <tr style=\"text-align: right;\">\n      <th></th>\n      <th>Column</th>\n      <th>Missing Count</th>\n    </tr>\n  </thead>\n  <tbody>\n    <tr>\n      <th>0</th>\n      <td>runtime</td>\n      <td>260</td>\n    </tr>\n  </tbody>\n</table>\n</div>"
     },
     "execution_count": 417,
     "metadata": {},
     "output_type": "execute_result"
    }
   ],
   "source": [
    "df_movies_metadata_runtime_missing = get_missing_values(df_movies_metadata_runtime)\n",
    "df_movies_metadata_runtime_missing"
   ],
   "metadata": {
    "collapsed": false
   }
  },
  {
   "cell_type": "markdown",
   "source": [
    "## Column spoken_languages"
   ],
   "metadata": {
    "collapsed": false
   }
  },
  {
   "cell_type": "code",
   "execution_count": 418,
   "outputs": [
    {
     "data": {
      "text/plain": "0                 [{'iso_639_1': 'en', 'name': 'English'}]\n1        [{'iso_639_1': 'en', 'name': 'English'}, {'iso...\n2                 [{'iso_639_1': 'en', 'name': 'English'}]\n3                 [{'iso_639_1': 'en', 'name': 'English'}]\n4                 [{'iso_639_1': 'en', 'name': 'English'}]\n                               ...                        \n45461               [{'iso_639_1': 'fa', 'name': 'فارسی'}]\n45462                    [{'iso_639_1': 'tl', 'name': ''}]\n45463             [{'iso_639_1': 'en', 'name': 'English'}]\n45464                                                   []\n45465             [{'iso_639_1': 'en', 'name': 'English'}]\nName: spoken_languages, Length: 45463, dtype: object"
     },
     "execution_count": 418,
     "metadata": {},
     "output_type": "execute_result"
    }
   ],
   "source": [
    "df_movies_metadata_spoken_languages = df_movies_metadata['spoken_languages']\n",
    "df_movies_metadata_spoken_languages"
   ],
   "metadata": {
    "collapsed": false
   }
  },
  {
   "cell_type": "code",
   "execution_count": 419,
   "outputs": [
    {
     "name": "stdout",
     "output_type": "stream",
     "text": [
      "Nested: True\n"
     ]
    },
    {
     "data": {
      "text/plain": "      iso_639_1      name\n0            en   English\n1            en   English\n2            fr  Français\n3            en   English\n4            en   English\n...         ...       ...\n53295        en   English\n53296        fa     فارسی\n53297        tl          \n53298        en   English\n53299        en   English\n\n[53300 rows x 2 columns]",
      "text/html": "<div>\n<style scoped>\n    .dataframe tbody tr th:only-of-type {\n        vertical-align: middle;\n    }\n\n    .dataframe tbody tr th {\n        vertical-align: top;\n    }\n\n    .dataframe thead th {\n        text-align: right;\n    }\n</style>\n<table border=\"1\" class=\"dataframe\">\n  <thead>\n    <tr style=\"text-align: right;\">\n      <th></th>\n      <th>iso_639_1</th>\n      <th>name</th>\n    </tr>\n  </thead>\n  <tbody>\n    <tr>\n      <th>0</th>\n      <td>en</td>\n      <td>English</td>\n    </tr>\n    <tr>\n      <th>1</th>\n      <td>en</td>\n      <td>English</td>\n    </tr>\n    <tr>\n      <th>2</th>\n      <td>fr</td>\n      <td>Français</td>\n    </tr>\n    <tr>\n      <th>3</th>\n      <td>en</td>\n      <td>English</td>\n    </tr>\n    <tr>\n      <th>4</th>\n      <td>en</td>\n      <td>English</td>\n    </tr>\n    <tr>\n      <th>...</th>\n      <td>...</td>\n      <td>...</td>\n    </tr>\n    <tr>\n      <th>53295</th>\n      <td>en</td>\n      <td>English</td>\n    </tr>\n    <tr>\n      <th>53296</th>\n      <td>fa</td>\n      <td>فارسی</td>\n    </tr>\n    <tr>\n      <th>53297</th>\n      <td>tl</td>\n      <td></td>\n    </tr>\n    <tr>\n      <th>53298</th>\n      <td>en</td>\n      <td>English</td>\n    </tr>\n    <tr>\n      <th>53299</th>\n      <td>en</td>\n      <td>English</td>\n    </tr>\n  </tbody>\n</table>\n<p>53300 rows × 2 columns</p>\n</div>"
     },
     "execution_count": 419,
     "metadata": {},
     "output_type": "execute_result"
    }
   ],
   "source": [
    "df_movies_metadata_spoken_languages, is_nested = parse_json_column(df_movies_metadata['spoken_languages'])\n",
    "print(\"Nested:\", is_nested)\n",
    "df_movies_metadata_spoken_languages"
   ],
   "metadata": {
    "collapsed": false
   }
  },
  {
   "cell_type": "code",
   "execution_count": 420,
   "outputs": [
    {
     "data": {
      "text/plain": "      Column  Missing Count\n0  iso_639_1              0\n1       name              0",
      "text/html": "<div>\n<style scoped>\n    .dataframe tbody tr th:only-of-type {\n        vertical-align: middle;\n    }\n\n    .dataframe tbody tr th {\n        vertical-align: top;\n    }\n\n    .dataframe thead th {\n        text-align: right;\n    }\n</style>\n<table border=\"1\" class=\"dataframe\">\n  <thead>\n    <tr style=\"text-align: right;\">\n      <th></th>\n      <th>Column</th>\n      <th>Missing Count</th>\n    </tr>\n  </thead>\n  <tbody>\n    <tr>\n      <th>0</th>\n      <td>iso_639_1</td>\n      <td>0</td>\n    </tr>\n    <tr>\n      <th>1</th>\n      <td>name</td>\n      <td>0</td>\n    </tr>\n  </tbody>\n</table>\n</div>"
     },
     "execution_count": 420,
     "metadata": {},
     "output_type": "execute_result"
    }
   ],
   "source": [
    "df_movies_metadata_spoken_languages_missing = get_missing_values(df_movies_metadata_spoken_languages)\n",
    "df_movies_metadata_spoken_languages_missing"
   ],
   "metadata": {
    "collapsed": false
   }
  },
  {
   "cell_type": "markdown",
   "source": [
    "## Column status"
   ],
   "metadata": {
    "collapsed": false
   }
  },
  {
   "cell_type": "code",
   "execution_count": 421,
   "outputs": [
    {
     "data": {
      "text/plain": "0        Released\n1        Released\n2        Released\n3        Released\n4        Released\n           ...   \n45461    Released\n45462    Released\n45463    Released\n45464    Released\n45465    Released\nName: status, Length: 45463, dtype: object"
     },
     "execution_count": 421,
     "metadata": {},
     "output_type": "execute_result"
    }
   ],
   "source": [
    "df_movies_metadata_status = df_movies_metadata['status']\n",
    "df_movies_metadata_status"
   ],
   "metadata": {
    "collapsed": false
   }
  },
  {
   "cell_type": "code",
   "execution_count": 512,
   "outputs": [
    {
     "data": {
      "text/plain": "status\n<class 'str'>      45379\n<class 'float'>       87\nName: count, dtype: int64"
     },
     "execution_count": 512,
     "metadata": {},
     "output_type": "execute_result"
    }
   ],
   "source": [
    "type_counts = df_movies_metadata['status'].map(type).value_counts()\n",
    "type_counts"
   ],
   "metadata": {
    "collapsed": false
   }
  },
  {
   "cell_type": "code",
   "execution_count": 422,
   "outputs": [
    {
     "data": {
      "text/plain": "array(['Released', nan, 'Rumored', 'Post Production', 'In Production',\n       'Planned', 'Canceled'], dtype=object)"
     },
     "execution_count": 422,
     "metadata": {},
     "output_type": "execute_result"
    }
   ],
   "source": [
    "unique_status = df_movies_metadata['status'].unique()\n",
    "unique_status"
   ],
   "metadata": {
    "collapsed": false
   }
  },
  {
   "cell_type": "code",
   "execution_count": 423,
   "outputs": [
    {
     "data": {
      "text/plain": "   Column  Missing Count\n0  status             84",
      "text/html": "<div>\n<style scoped>\n    .dataframe tbody tr th:only-of-type {\n        vertical-align: middle;\n    }\n\n    .dataframe tbody tr th {\n        vertical-align: top;\n    }\n\n    .dataframe thead th {\n        text-align: right;\n    }\n</style>\n<table border=\"1\" class=\"dataframe\">\n  <thead>\n    <tr style=\"text-align: right;\">\n      <th></th>\n      <th>Column</th>\n      <th>Missing Count</th>\n    </tr>\n  </thead>\n  <tbody>\n    <tr>\n      <th>0</th>\n      <td>status</td>\n      <td>84</td>\n    </tr>\n  </tbody>\n</table>\n</div>"
     },
     "execution_count": 423,
     "metadata": {},
     "output_type": "execute_result"
    }
   ],
   "source": [
    "df_movies_metadata_status_missing = get_missing_values(df_movies_metadata_status)\n",
    "df_movies_metadata_status_missing"
   ],
   "metadata": {
    "collapsed": false
   }
  },
  {
   "cell_type": "markdown",
   "source": [
    "## Column tagline"
   ],
   "metadata": {
    "collapsed": false
   }
  },
  {
   "cell_type": "code",
   "execution_count": 424,
   "outputs": [
    {
     "data": {
      "text/plain": "0                                                      NaN\n1                Roll the dice and unleash the excitement!\n2        Still Yelling. Still Fighting. Still Ready for...\n3        Friends are the people who let you be yourself...\n4        Just When His World Is Back To Normal... He's ...\n                               ...                        \n45461           Rising and falling between a man and woman\n45462                                                  NaN\n45463                               A deadly game of wits.\n45464                                                  NaN\n45465                                                  NaN\nName: tagline, Length: 45463, dtype: object"
     },
     "execution_count": 424,
     "metadata": {},
     "output_type": "execute_result"
    }
   ],
   "source": [
    "df_movies_metadata_tagline = df_movies_metadata['tagline']\n",
    "df_movies_metadata_tagline"
   ],
   "metadata": {
    "collapsed": false
   }
  },
  {
   "cell_type": "code",
   "execution_count": 425,
   "outputs": [
    {
     "data": {
      "text/plain": "    Column  Missing Count\n0  tagline          25051",
      "text/html": "<div>\n<style scoped>\n    .dataframe tbody tr th:only-of-type {\n        vertical-align: middle;\n    }\n\n    .dataframe tbody tr th {\n        vertical-align: top;\n    }\n\n    .dataframe thead th {\n        text-align: right;\n    }\n</style>\n<table border=\"1\" class=\"dataframe\">\n  <thead>\n    <tr style=\"text-align: right;\">\n      <th></th>\n      <th>Column</th>\n      <th>Missing Count</th>\n    </tr>\n  </thead>\n  <tbody>\n    <tr>\n      <th>0</th>\n      <td>tagline</td>\n      <td>25051</td>\n    </tr>\n  </tbody>\n</table>\n</div>"
     },
     "execution_count": 425,
     "metadata": {},
     "output_type": "execute_result"
    }
   ],
   "source": [
    "df_movies_metadata_tagline_missing = get_missing_values(df_movies_metadata_tagline)\n",
    "df_movies_metadata_tagline_missing"
   ],
   "metadata": {
    "collapsed": false
   }
  },
  {
   "cell_type": "code",
   "execution_count": 513,
   "outputs": [
    {
     "data": {
      "text/plain": "tagline\n<class 'float'>    25054\n<class 'str'>      20412\nName: count, dtype: int64"
     },
     "execution_count": 513,
     "metadata": {},
     "output_type": "execute_result"
    }
   ],
   "source": [
    "type_counts = df_movies_metadata['tagline'].map(type).value_counts()\n",
    "type_counts"
   ],
   "metadata": {
    "collapsed": false
   }
  },
  {
   "cell_type": "markdown",
   "source": [
    "## Column title"
   ],
   "metadata": {
    "collapsed": false
   }
  },
  {
   "cell_type": "code",
   "execution_count": 426,
   "outputs": [
    {
     "data": {
      "text/plain": "0                          Toy Story\n1                            Jumanji\n2                   Grumpier Old Men\n3                  Waiting to Exhale\n4        Father of the Bride Part II\n                    ...             \n45461                         Subdue\n45462            Century of Birthing\n45463                       Betrayal\n45464               Satan Triumphant\n45465                       Queerama\nName: title, Length: 45463, dtype: object"
     },
     "execution_count": 426,
     "metadata": {},
     "output_type": "execute_result"
    }
   ],
   "source": [
    "df_movies_metadata_title = df_movies_metadata['title']\n",
    "df_movies_metadata_title"
   ],
   "metadata": {
    "collapsed": false
   }
  },
  {
   "cell_type": "code",
   "execution_count": 514,
   "outputs": [
    {
     "data": {
      "text/plain": "title\n<class 'str'>      45460\n<class 'float'>        6\nName: count, dtype: int64"
     },
     "execution_count": 514,
     "metadata": {},
     "output_type": "execute_result"
    }
   ],
   "source": [
    "type_counts = df_movies_metadata['title'].map(type).value_counts()\n",
    "type_counts"
   ],
   "metadata": {
    "collapsed": false
   }
  },
  {
   "cell_type": "code",
   "execution_count": 427,
   "outputs": [
    {
     "data": {
      "text/plain": "  Column  Missing Count\n0  title              3",
      "text/html": "<div>\n<style scoped>\n    .dataframe tbody tr th:only-of-type {\n        vertical-align: middle;\n    }\n\n    .dataframe tbody tr th {\n        vertical-align: top;\n    }\n\n    .dataframe thead th {\n        text-align: right;\n    }\n</style>\n<table border=\"1\" class=\"dataframe\">\n  <thead>\n    <tr style=\"text-align: right;\">\n      <th></th>\n      <th>Column</th>\n      <th>Missing Count</th>\n    </tr>\n  </thead>\n  <tbody>\n    <tr>\n      <th>0</th>\n      <td>title</td>\n      <td>3</td>\n    </tr>\n  </tbody>\n</table>\n</div>"
     },
     "execution_count": 427,
     "metadata": {},
     "output_type": "execute_result"
    }
   ],
   "source": [
    "df_movies_metadata_title_missing = get_missing_values(df_movies_metadata_title)\n",
    "df_movies_metadata_title_missing"
   ],
   "metadata": {
    "collapsed": false
   }
  },
  {
   "cell_type": "code",
   "execution_count": 428,
   "outputs": [
    {
     "name": "stdout",
     "output_type": "stream",
     "text": [
      "Duplicated values in title:\n",
      " 3185\n"
     ]
    }
   ],
   "source": [
    "print(f\"Duplicated values in title:\\n {df_movies_metadata['title'].duplicated().sum()}\")"
   ],
   "metadata": {
    "collapsed": false
   }
  },
  {
   "cell_type": "markdown",
   "source": [
    "## Column video"
   ],
   "metadata": {
    "collapsed": false
   }
  },
  {
   "cell_type": "code",
   "execution_count": 429,
   "outputs": [
    {
     "data": {
      "text/plain": "0        False\n1        False\n2        False\n3        False\n4        False\n         ...  \n45461    False\n45462    False\n45463    False\n45464    False\n45465    False\nName: video, Length: 45463, dtype: object"
     },
     "execution_count": 429,
     "metadata": {},
     "output_type": "execute_result"
    }
   ],
   "source": [
    "df_movies_metadata_video = df_movies_metadata['video']\n",
    "df_movies_metadata_video"
   ],
   "metadata": {
    "collapsed": false
   }
  },
  {
   "cell_type": "code",
   "execution_count": 430,
   "outputs": [
    {
     "data": {
      "text/plain": "array([False, True, nan], dtype=object)"
     },
     "execution_count": 430,
     "metadata": {},
     "output_type": "execute_result"
    }
   ],
   "source": [
    "unique = df_movies_metadata['video'].unique()\n",
    "unique"
   ],
   "metadata": {
    "collapsed": false
   }
  },
  {
   "cell_type": "code",
   "execution_count": 515,
   "outputs": [
    {
     "data": {
      "text/plain": "video\n<class 'bool'>     45460\n<class 'float'>        6\nName: count, dtype: int64"
     },
     "execution_count": 515,
     "metadata": {},
     "output_type": "execute_result"
    }
   ],
   "source": [
    "type_counts = df_movies_metadata['video'].map(type).value_counts()\n",
    "type_counts"
   ],
   "metadata": {
    "collapsed": false
   }
  },
  {
   "cell_type": "markdown",
   "source": [
    "## Column vote_average"
   ],
   "metadata": {
    "collapsed": false
   }
  },
  {
   "cell_type": "code",
   "execution_count": 431,
   "outputs": [
    {
     "data": {
      "text/plain": "0        7.7\n1        6.9\n2        6.5\n3        6.1\n4        5.7\n        ... \n45461    4.0\n45462    9.0\n45463    3.8\n45464    0.0\n45465    0.0\nName: vote_average, Length: 45463, dtype: float64"
     },
     "execution_count": 431,
     "metadata": {},
     "output_type": "execute_result"
    }
   ],
   "source": [
    "df_movies_metadata_vote_average = df_movies_metadata['vote_average']\n",
    "df_movies_metadata_vote_average"
   ],
   "metadata": {
    "collapsed": false
   }
  },
  {
   "cell_type": "code",
   "execution_count": 517,
   "outputs": [
    {
     "data": {
      "text/plain": "(0.0, 10.0)"
     },
     "execution_count": 517,
     "metadata": {},
     "output_type": "execute_result"
    }
   ],
   "source": [
    "df_movies_metadata_vote_average.min(), df_movies_metadata_vote_average.max()"
   ],
   "metadata": {
    "collapsed": false
   }
  },
  {
   "cell_type": "code",
   "execution_count": 432,
   "outputs": [
    {
     "data": {
      "text/plain": "         Column  Missing Count\n0  vote_average              3",
      "text/html": "<div>\n<style scoped>\n    .dataframe tbody tr th:only-of-type {\n        vertical-align: middle;\n    }\n\n    .dataframe tbody tr th {\n        vertical-align: top;\n    }\n\n    .dataframe thead th {\n        text-align: right;\n    }\n</style>\n<table border=\"1\" class=\"dataframe\">\n  <thead>\n    <tr style=\"text-align: right;\">\n      <th></th>\n      <th>Column</th>\n      <th>Missing Count</th>\n    </tr>\n  </thead>\n  <tbody>\n    <tr>\n      <th>0</th>\n      <td>vote_average</td>\n      <td>3</td>\n    </tr>\n  </tbody>\n</table>\n</div>"
     },
     "execution_count": 432,
     "metadata": {},
     "output_type": "execute_result"
    }
   ],
   "source": [
    "df_movies_metadata_vote_average_missing = get_missing_values(df_movies_metadata_vote_average)\n",
    "df_movies_metadata_vote_average_missing"
   ],
   "metadata": {
    "collapsed": false
   }
  },
  {
   "cell_type": "code",
   "execution_count": 516,
   "outputs": [
    {
     "data": {
      "text/plain": "vote_average\n<class 'float'>    45466\nName: count, dtype: int64"
     },
     "execution_count": 516,
     "metadata": {},
     "output_type": "execute_result"
    }
   ],
   "source": [
    "type_counts = df_movies_metadata['vote_average'].map(type).value_counts()\n",
    "type_counts"
   ],
   "metadata": {
    "collapsed": false
   }
  },
  {
   "cell_type": "markdown",
   "source": [
    "## Column vote_count"
   ],
   "metadata": {
    "collapsed": false
   }
  },
  {
   "cell_type": "code",
   "execution_count": 433,
   "outputs": [
    {
     "data": {
      "text/plain": "0        5415.0\n1        2413.0\n2          92.0\n3          34.0\n4         173.0\n          ...  \n45461       1.0\n45462       3.0\n45463       6.0\n45464       0.0\n45465       0.0\nName: vote_count, Length: 45463, dtype: float64"
     },
     "execution_count": 433,
     "metadata": {},
     "output_type": "execute_result"
    }
   ],
   "source": [
    "df_movies_metadata_vote_count = df_movies_metadata['vote_count']\n",
    "df_movies_metadata_vote_count"
   ],
   "metadata": {
    "collapsed": false
   }
  },
  {
   "cell_type": "code",
   "execution_count": 434,
   "outputs": [
    {
     "data": {
      "text/plain": "       Column  Missing Count\n0  vote_count              3",
      "text/html": "<div>\n<style scoped>\n    .dataframe tbody tr th:only-of-type {\n        vertical-align: middle;\n    }\n\n    .dataframe tbody tr th {\n        vertical-align: top;\n    }\n\n    .dataframe thead th {\n        text-align: right;\n    }\n</style>\n<table border=\"1\" class=\"dataframe\">\n  <thead>\n    <tr style=\"text-align: right;\">\n      <th></th>\n      <th>Column</th>\n      <th>Missing Count</th>\n    </tr>\n  </thead>\n  <tbody>\n    <tr>\n      <th>0</th>\n      <td>vote_count</td>\n      <td>3</td>\n    </tr>\n  </tbody>\n</table>\n</div>"
     },
     "execution_count": 434,
     "metadata": {},
     "output_type": "execute_result"
    }
   ],
   "source": [
    "df_movies_metadata_vote_count_missing = get_missing_values(df_movies_metadata_vote_count)\n",
    "df_movies_metadata_vote_count_missing"
   ],
   "metadata": {
    "collapsed": false
   }
  },
  {
   "cell_type": "code",
   "execution_count": 518,
   "outputs": [
    {
     "data": {
      "text/plain": "vote_average\n<class 'float'>    45466\nName: count, dtype: int64"
     },
     "execution_count": 518,
     "metadata": {},
     "output_type": "execute_result"
    }
   ],
   "source": [
    "type_counts = df_movies_metadata['vote_average'].map(type).value_counts()\n",
    "type_counts"
   ],
   "metadata": {
    "collapsed": false
   }
  },
  {
   "cell_type": "markdown",
   "source": [
    "---\n",
    "### Dataset: ratings.csv"
   ],
   "metadata": {
    "collapsed": false
   }
  },
  {
   "cell_type": "markdown",
   "source": [
    "##### Data exploration"
   ],
   "metadata": {
    "collapsed": false
   }
  },
  {
   "cell_type": "code",
   "execution_count": 435,
   "outputs": [
    {
     "data": {
      "text/plain": "          userId  movieId  rating   timestamp\n0              1      110     1.0  1425941529\n1              1      147     4.5  1425942435\n2              1      858     5.0  1425941523\n3              1     1221     5.0  1425941546\n4              1     1246     5.0  1425941556\n...          ...      ...     ...         ...\n26024284  270896    58559     5.0  1257031564\n26024285  270896    60069     5.0  1257032032\n26024286  270896    63082     4.5  1257031764\n26024287  270896    64957     4.5  1257033990\n26024288  270896    71878     2.0  1257031858\n\n[26024289 rows x 4 columns]",
      "text/html": "<div>\n<style scoped>\n    .dataframe tbody tr th:only-of-type {\n        vertical-align: middle;\n    }\n\n    .dataframe tbody tr th {\n        vertical-align: top;\n    }\n\n    .dataframe thead th {\n        text-align: right;\n    }\n</style>\n<table border=\"1\" class=\"dataframe\">\n  <thead>\n    <tr style=\"text-align: right;\">\n      <th></th>\n      <th>userId</th>\n      <th>movieId</th>\n      <th>rating</th>\n      <th>timestamp</th>\n    </tr>\n  </thead>\n  <tbody>\n    <tr>\n      <th>0</th>\n      <td>1</td>\n      <td>110</td>\n      <td>1.0</td>\n      <td>1425941529</td>\n    </tr>\n    <tr>\n      <th>1</th>\n      <td>1</td>\n      <td>147</td>\n      <td>4.5</td>\n      <td>1425942435</td>\n    </tr>\n    <tr>\n      <th>2</th>\n      <td>1</td>\n      <td>858</td>\n      <td>5.0</td>\n      <td>1425941523</td>\n    </tr>\n    <tr>\n      <th>3</th>\n      <td>1</td>\n      <td>1221</td>\n      <td>5.0</td>\n      <td>1425941546</td>\n    </tr>\n    <tr>\n      <th>4</th>\n      <td>1</td>\n      <td>1246</td>\n      <td>5.0</td>\n      <td>1425941556</td>\n    </tr>\n    <tr>\n      <th>...</th>\n      <td>...</td>\n      <td>...</td>\n      <td>...</td>\n      <td>...</td>\n    </tr>\n    <tr>\n      <th>26024284</th>\n      <td>270896</td>\n      <td>58559</td>\n      <td>5.0</td>\n      <td>1257031564</td>\n    </tr>\n    <tr>\n      <th>26024285</th>\n      <td>270896</td>\n      <td>60069</td>\n      <td>5.0</td>\n      <td>1257032032</td>\n    </tr>\n    <tr>\n      <th>26024286</th>\n      <td>270896</td>\n      <td>63082</td>\n      <td>4.5</td>\n      <td>1257031764</td>\n    </tr>\n    <tr>\n      <th>26024287</th>\n      <td>270896</td>\n      <td>64957</td>\n      <td>4.5</td>\n      <td>1257033990</td>\n    </tr>\n    <tr>\n      <th>26024288</th>\n      <td>270896</td>\n      <td>71878</td>\n      <td>2.0</td>\n      <td>1257031858</td>\n    </tr>\n  </tbody>\n</table>\n<p>26024289 rows × 4 columns</p>\n</div>"
     },
     "execution_count": 435,
     "metadata": {},
     "output_type": "execute_result"
    }
   ],
   "source": [
    "df_ratings = pd.read_csv(\"movies/ratings.csv\")\n",
    "df_ratings"
   ],
   "metadata": {
    "collapsed": false
   }
  },
  {
   "cell_type": "code",
   "execution_count": 436,
   "outputs": [
    {
     "data": {
      "text/plain": "userId         int64\nmovieId        int64\nrating       float64\ntimestamp      int64\ndtype: object"
     },
     "execution_count": 436,
     "metadata": {},
     "output_type": "execute_result"
    }
   ],
   "source": [
    "# Data types of each column\n",
    "df_ratings.dtypes"
   ],
   "metadata": {
    "collapsed": false
   }
  },
  {
   "cell_type": "markdown",
   "source": [
    "##### Missing values"
   ],
   "metadata": {
    "collapsed": false
   }
  },
  {
   "cell_type": "code",
   "execution_count": 437,
   "outputs": [
    {
     "data": {
      "text/plain": "      Column  Missing Count\n0     userId              0\n1    movieId              0\n2     rating              0\n3  timestamp              0",
      "text/html": "<div>\n<style scoped>\n    .dataframe tbody tr th:only-of-type {\n        vertical-align: middle;\n    }\n\n    .dataframe tbody tr th {\n        vertical-align: top;\n    }\n\n    .dataframe thead th {\n        text-align: right;\n    }\n</style>\n<table border=\"1\" class=\"dataframe\">\n  <thead>\n    <tr style=\"text-align: right;\">\n      <th></th>\n      <th>Column</th>\n      <th>Missing Count</th>\n    </tr>\n  </thead>\n  <tbody>\n    <tr>\n      <th>0</th>\n      <td>userId</td>\n      <td>0</td>\n    </tr>\n    <tr>\n      <th>1</th>\n      <td>movieId</td>\n      <td>0</td>\n    </tr>\n    <tr>\n      <th>2</th>\n      <td>rating</td>\n      <td>0</td>\n    </tr>\n    <tr>\n      <th>3</th>\n      <td>timestamp</td>\n      <td>0</td>\n    </tr>\n  </tbody>\n</table>\n</div>"
     },
     "execution_count": 437,
     "metadata": {},
     "output_type": "execute_result"
    }
   ],
   "source": [
    "# Counting occurrences of missing values\n",
    "missing_values = get_missing_values(df_ratings)\n",
    "missing_values"
   ],
   "metadata": {
    "collapsed": false
   }
  },
  {
   "cell_type": "markdown",
   "source": [
    "##### Duplicated IDs"
   ],
   "metadata": {
    "collapsed": false
   }
  },
  {
   "cell_type": "code",
   "execution_count": 438,
   "outputs": [
    {
     "name": "stdout",
     "output_type": "stream",
     "text": [
      "Duplicated values in userId:\n",
      " 25753393\n",
      "Duplicated values in movieId:\n",
      " 25979174\n"
     ]
    }
   ],
   "source": [
    "relevant_cols = ['userId', 'movieId']\n",
    "for col in  relevant_cols:\n",
    "    print(f\"Duplicated values in {col}:\\n {df_ratings[col].duplicated().sum()}\")"
   ],
   "metadata": {
    "collapsed": false
   }
  },
  {
   "cell_type": "markdown",
   "source": [
    "##### Unique ratings"
   ],
   "metadata": {
    "collapsed": false
   }
  },
  {
   "cell_type": "code",
   "execution_count": 439,
   "outputs": [
    {
     "data": {
      "text/plain": "array([1. , 4.5, 5. , 4. , 3.5, 2.5, 0.5, 3. , 2. , 1.5])"
     },
     "execution_count": 439,
     "metadata": {},
     "output_type": "execute_result"
    }
   ],
   "source": [
    "unique_ratings_values = df_ratings['rating'].unique()\n",
    "unique_ratings_values"
   ],
   "metadata": {
    "collapsed": false
   }
  },
  {
   "cell_type": "code",
   "execution_count": 440,
   "outputs": [
    {
     "name": "stdout",
     "output_type": "stream",
     "text": [
      "Count of unique ratings: 10\n"
     ]
    }
   ],
   "source": [
    "print(\"Count of unique ratings:\", len(unique_ratings_values))"
   ],
   "metadata": {
    "collapsed": false
   }
  },
  {
   "cell_type": "markdown",
   "source": [
    "#### Column timestamp"
   ],
   "metadata": {
    "collapsed": false
   }
  },
  {
   "cell_type": "code",
   "execution_count": 441,
   "outputs": [
    {
     "data": {
      "text/plain": "(789652004, 1501829870)"
     },
     "execution_count": 441,
     "metadata": {},
     "output_type": "execute_result"
    }
   ],
   "source": [
    "df_ratings['timestamp'].min(), df_ratings['timestamp'].max()"
   ],
   "metadata": {
    "collapsed": false
   }
  },
  {
   "cell_type": "code",
   "execution_count": 442,
   "outputs": [
    {
     "data": {
      "text/plain": "<Figure size 600x400 with 1 Axes>",
      "image/png": "[encoded data removed]"
     },
     "metadata": {},
     "output_type": "display_data"
    }
   ],
   "source": [
    "df_ratings_timestamp = pd.DataFrame()\n",
    "df_ratings_timestamp['timestamp'] = pd.to_datetime(df_ratings['timestamp'], unit='s')\n",
    "\n",
    "fig, ax = plt.subplots(figsize=(6,4))\n",
    "ax.hist(df_ratings_timestamp['timestamp'], bins=50)\n",
    "ax.xaxis.set_major_formatter(plt.matplotlib.dates.DateFormatter('%Y-%m'))\n",
    "plt.xlabel('Year-Month')\n",
    "plt.ylabel('Frequency')\n",
    "plt.title('Histogram by Timestamps')\n",
    "plt.xticks(rotation=45)\n",
    "plt.show()"
   ],
   "metadata": {
    "collapsed": false
   }
  },
  {
   "cell_type": "markdown",
   "source": [
    "---\n",
    "### Dataset: ratings_small.csv"
   ],
   "metadata": {
    "collapsed": false
   }
  },
  {
   "cell_type": "markdown",
   "source": [
    "##### Data exploration"
   ],
   "metadata": {
    "collapsed": false
   }
  },
  {
   "cell_type": "code",
   "execution_count": 443,
   "metadata": {
    "collapsed": true
   },
   "outputs": [
    {
     "data": {
      "text/plain": "        userId  movieId  rating   timestamp\n0            1       31     2.5  1260759144\n1            1     1029     3.0  1260759179\n2            1     1061     3.0  1260759182\n3            1     1129     2.0  1260759185\n4            1     1172     4.0  1260759205\n...        ...      ...     ...         ...\n99999      671     6268     2.5  1065579370\n100000     671     6269     4.0  1065149201\n100001     671     6365     4.0  1070940363\n100002     671     6385     2.5  1070979663\n100003     671     6565     3.5  1074784724\n\n[100004 rows x 4 columns]",
      "text/html": "<div>\n<style scoped>\n    .dataframe tbody tr th:only-of-type {\n        vertical-align: middle;\n    }\n\n    .dataframe tbody tr th {\n        vertical-align: top;\n    }\n\n    .dataframe thead th {\n        text-align: right;\n    }\n</style>\n<table border=\"1\" class=\"dataframe\">\n  <thead>\n    <tr style=\"text-align: right;\">\n      <th></th>\n      <th>userId</th>\n      <th>movieId</th>\n      <th>rating</th>\n      <th>timestamp</th>\n    </tr>\n  </thead>\n  <tbody>\n    <tr>\n      <th>0</th>\n      <td>1</td>\n      <td>31</td>\n      <td>2.5</td>\n      <td>1260759144</td>\n    </tr>\n    <tr>\n      <th>1</th>\n      <td>1</td>\n      <td>1029</td>\n      <td>3.0</td>\n      <td>1260759179</td>\n    </tr>\n    <tr>\n      <th>2</th>\n      <td>1</td>\n      <td>1061</td>\n      <td>3.0</td>\n      <td>1260759182</td>\n    </tr>\n    <tr>\n      <th>3</th>\n      <td>1</td>\n      <td>1129</td>\n      <td>2.0</td>\n      <td>1260759185</td>\n    </tr>\n    <tr>\n      <th>4</th>\n      <td>1</td>\n      <td>1172</td>\n      <td>4.0</td>\n      <td>1260759205</td>\n    </tr>\n    <tr>\n      <th>...</th>\n      <td>...</td>\n      <td>...</td>\n      <td>...</td>\n      <td>...</td>\n    </tr>\n    <tr>\n      <th>99999</th>\n      <td>671</td>\n      <td>6268</td>\n      <td>2.5</td>\n      <td>1065579370</td>\n    </tr>\n    <tr>\n      <th>100000</th>\n      <td>671</td>\n      <td>6269</td>\n      <td>4.0</td>\n      <td>1065149201</td>\n    </tr>\n    <tr>\n      <th>100001</th>\n      <td>671</td>\n      <td>6365</td>\n      <td>4.0</td>\n      <td>1070940363</td>\n    </tr>\n    <tr>\n      <th>100002</th>\n      <td>671</td>\n      <td>6385</td>\n      <td>2.5</td>\n      <td>1070979663</td>\n    </tr>\n    <tr>\n      <th>100003</th>\n      <td>671</td>\n      <td>6565</td>\n      <td>3.5</td>\n      <td>1074784724</td>\n    </tr>\n  </tbody>\n</table>\n<p>100004 rows × 4 columns</p>\n</div>"
     },
     "execution_count": 443,
     "metadata": {},
     "output_type": "execute_result"
    }
   ],
   "source": [
    "df_ratings_small = pd.read_csv(\"movies/ratings_small.csv\")\n",
    "df_ratings_small"
   ]
  },
  {
   "cell_type": "code",
   "execution_count": 444,
   "outputs": [
    {
     "data": {
      "text/plain": "userId         int64\nmovieId        int64\nrating       float64\ntimestamp      int64\ndtype: object"
     },
     "execution_count": 444,
     "metadata": {},
     "output_type": "execute_result"
    }
   ],
   "source": [
    "# Data types of each column\n",
    "df_ratings_small.dtypes"
   ],
   "metadata": {
    "collapsed": false
   }
  },
  {
   "cell_type": "markdown",
   "source": [
    "##### Missing values"
   ],
   "metadata": {
    "collapsed": false
   }
  },
  {
   "cell_type": "code",
   "execution_count": 445,
   "outputs": [
    {
     "data": {
      "text/plain": "      Column  Missing Count\n0     userId              0\n1    movieId              0\n2     rating              0\n3  timestamp              0",
      "text/html": "<div>\n<style scoped>\n    .dataframe tbody tr th:only-of-type {\n        vertical-align: middle;\n    }\n\n    .dataframe tbody tr th {\n        vertical-align: top;\n    }\n\n    .dataframe thead th {\n        text-align: right;\n    }\n</style>\n<table border=\"1\" class=\"dataframe\">\n  <thead>\n    <tr style=\"text-align: right;\">\n      <th></th>\n      <th>Column</th>\n      <th>Missing Count</th>\n    </tr>\n  </thead>\n  <tbody>\n    <tr>\n      <th>0</th>\n      <td>userId</td>\n      <td>0</td>\n    </tr>\n    <tr>\n      <th>1</th>\n      <td>movieId</td>\n      <td>0</td>\n    </tr>\n    <tr>\n      <th>2</th>\n      <td>rating</td>\n      <td>0</td>\n    </tr>\n    <tr>\n      <th>3</th>\n      <td>timestamp</td>\n      <td>0</td>\n    </tr>\n  </tbody>\n</table>\n</div>"
     },
     "execution_count": 445,
     "metadata": {},
     "output_type": "execute_result"
    }
   ],
   "source": [
    "# Counting occurrences of missing values\n",
    "missing_values = get_missing_values(df_ratings_small)\n",
    "missing_values"
   ],
   "metadata": {
    "collapsed": false
   }
  },
  {
   "cell_type": "markdown",
   "source": [
    "##### Duplicated IDs"
   ],
   "metadata": {
    "collapsed": false
   }
  },
  {
   "cell_type": "code",
   "execution_count": 446,
   "outputs": [
    {
     "name": "stdout",
     "output_type": "stream",
     "text": [
      "Duplicated values in userId:\n",
      " 99333\n",
      "Duplicated values in movieId:\n",
      " 90938\n"
     ]
    }
   ],
   "source": [
    "relevant_cols = ['userId', 'movieId']\n",
    "for col in  relevant_cols:\n",
    "    print(f\"Duplicated values in {col}:\\n {df_ratings_small[col].duplicated().sum()}\")"
   ],
   "metadata": {
    "collapsed": false
   }
  },
  {
   "cell_type": "markdown",
   "source": [
    "##### Unique ratings"
   ],
   "metadata": {
    "collapsed": false
   }
  },
  {
   "cell_type": "code",
   "execution_count": 447,
   "outputs": [
    {
     "data": {
      "text/plain": "array([2.5, 3. , 2. , 4. , 3.5, 1. , 5. , 4.5, 1.5, 0.5])"
     },
     "execution_count": 447,
     "metadata": {},
     "output_type": "execute_result"
    }
   ],
   "source": [
    "unique_ratings_small_values = df_ratings_small['rating'].unique()\n",
    "unique_ratings_small_values"
   ],
   "metadata": {
    "collapsed": false
   }
  },
  {
   "cell_type": "code",
   "execution_count": 448,
   "outputs": [
    {
     "name": "stdout",
     "output_type": "stream",
     "text": [
      "Count of unique ratings: 10\n"
     ]
    }
   ],
   "source": [
    "print(\"Count of unique ratings:\", len(unique_ratings_small_values))"
   ],
   "metadata": {
    "collapsed": false
   }
  },
  {
   "cell_type": "markdown",
   "source": [
    "##### Verify that all df_links_small is consistent with df_links"
   ],
   "metadata": {
    "collapsed": false
   }
  },
  {
   "cell_type": "code",
   "execution_count": 449,
   "outputs": [
    {
     "data": {
      "text/plain": "False"
     },
     "execution_count": 449,
     "metadata": {},
     "output_type": "execute_result"
    }
   ],
   "source": [
    "verify_subset(df_ratings_small, df_ratings)"
   ],
   "metadata": {
    "collapsed": false
   }
  },
  {
   "cell_type": "code",
   "execution_count": 450,
   "outputs": [
    {
     "data": {
      "text/plain": "        userId  movieId  rating   timestamp\n0            1       31     2.5  1260759144\n1            1     1029     3.0  1260759179\n2            1     1061     3.0  1260759182\n3            1     1129     2.0  1260759185\n4            1     1172     4.0  1260759205\n...        ...      ...     ...         ...\n99999      671     6268     2.5  1065579370\n100000     671     6269     4.0  1065149201\n100001     671     6365     4.0  1070940363\n100002     671     6385     2.5  1070979663\n100003     671     6565     3.5  1074784724\n\n[100004 rows x 4 columns]",
      "text/html": "<div>\n<style scoped>\n    .dataframe tbody tr th:only-of-type {\n        vertical-align: middle;\n    }\n\n    .dataframe tbody tr th {\n        vertical-align: top;\n    }\n\n    .dataframe thead th {\n        text-align: right;\n    }\n</style>\n<table border=\"1\" class=\"dataframe\">\n  <thead>\n    <tr style=\"text-align: right;\">\n      <th></th>\n      <th>userId</th>\n      <th>movieId</th>\n      <th>rating</th>\n      <th>timestamp</th>\n    </tr>\n  </thead>\n  <tbody>\n    <tr>\n      <th>0</th>\n      <td>1</td>\n      <td>31</td>\n      <td>2.5</td>\n      <td>1260759144</td>\n    </tr>\n    <tr>\n      <th>1</th>\n      <td>1</td>\n      <td>1029</td>\n      <td>3.0</td>\n      <td>1260759179</td>\n    </tr>\n    <tr>\n      <th>2</th>\n      <td>1</td>\n      <td>1061</td>\n      <td>3.0</td>\n      <td>1260759182</td>\n    </tr>\n    <tr>\n      <th>3</th>\n      <td>1</td>\n      <td>1129</td>\n      <td>2.0</td>\n      <td>1260759185</td>\n    </tr>\n    <tr>\n      <th>4</th>\n      <td>1</td>\n      <td>1172</td>\n      <td>4.0</td>\n      <td>1260759205</td>\n    </tr>\n    <tr>\n      <th>...</th>\n      <td>...</td>\n      <td>...</td>\n      <td>...</td>\n      <td>...</td>\n    </tr>\n    <tr>\n      <th>99999</th>\n      <td>671</td>\n      <td>6268</td>\n      <td>2.5</td>\n      <td>1065579370</td>\n    </tr>\n    <tr>\n      <th>100000</th>\n      <td>671</td>\n      <td>6269</td>\n      <td>4.0</td>\n      <td>1065149201</td>\n    </tr>\n    <tr>\n      <th>100001</th>\n      <td>671</td>\n      <td>6365</td>\n      <td>4.0</td>\n      <td>1070940363</td>\n    </tr>\n    <tr>\n      <th>100002</th>\n      <td>671</td>\n      <td>6385</td>\n      <td>2.5</td>\n      <td>1070979663</td>\n    </tr>\n    <tr>\n      <th>100003</th>\n      <td>671</td>\n      <td>6565</td>\n      <td>3.5</td>\n      <td>1074784724</td>\n    </tr>\n  </tbody>\n</table>\n<p>100004 rows × 4 columns</p>\n</div>"
     },
     "execution_count": 450,
     "metadata": {},
     "output_type": "execute_result"
    }
   ],
   "source": [
    "df_ratings_small_missing_rows = get_missing_rows(df_ratings_small, df_ratings)\n",
    "df_ratings_small_missing_rows"
   ],
   "metadata": {
    "collapsed": false
   }
  },
  {
   "cell_type": "markdown",
   "source": [
    "#### Column timestamp"
   ],
   "metadata": {
    "collapsed": false
   }
  },
  {
   "cell_type": "code",
   "execution_count": 451,
   "outputs": [
    {
     "data": {
      "text/plain": "(789652009, 1476640644)"
     },
     "execution_count": 451,
     "metadata": {},
     "output_type": "execute_result"
    }
   ],
   "source": [
    "df_ratings_small['timestamp'].min(), df_ratings_small['timestamp'].max()"
   ],
   "metadata": {
    "collapsed": false
   }
  },
  {
   "cell_type": "code",
   "execution_count": 452,
   "outputs": [
    {
     "data": {
      "text/plain": "<Figure size 600x400 with 1 Axes>",
      "image/png": "[encoded data removed]"
     },
     "metadata": {},
     "output_type": "display_data"
    }
   ],
   "source": [
    "df_ratings_small_timestamp = pd.DataFrame()\n",
    "df_ratings_small_timestamp['timestamp'] = pd.to_datetime(df_ratings_small['timestamp'], unit='s')\n",
    "\n",
    "fig, ax = plt.subplots(figsize=(6,4))\n",
    "ax.hist(df_ratings_small_timestamp['timestamp'], bins=50)\n",
    "ax.xaxis.set_major_formatter(plt.matplotlib.dates.DateFormatter('%Y-%m'))\n",
    "plt.xlabel('Year-Month')\n",
    "plt.ylabel('Frequency')\n",
    "plt.title('Histogram by Timestamps')\n",
    "plt.xticks(rotation=45)\n",
    "plt.show()"
   ],
   "metadata": {
    "collapsed": false
   }
  },
  {
   "cell_type": "code",
   "execution_count": 453,
   "outputs": [
    {
     "data": {
      "text/plain": "cast    object\ncrew    object\nid       int64\ndtype: object"
     },
     "execution_count": 453,
     "metadata": {},
     "output_type": "execute_result"
    }
   ],
   "source": [
    "df_credits.dtypes"
   ],
   "metadata": {
    "collapsed": false
   }
  },
  {
   "cell_type": "code",
   "execution_count": 454,
   "outputs": [
    {
     "data": {
      "text/plain": "adult                     object\nbelongs_to_collection     object\nbudget                   float64\ngenres                    object\nhomepage                  object\nid                         Int64\nimdb_id                   object\noriginal_language         object\noriginal_title            object\noverview                  object\npopularity                object\nposter_path               object\nproduction_companies      object\nproduction_countries      object\nrelease_date              object\nrevenue                  float64\nruntime                  float64\nspoken_languages          object\nstatus                    object\ntagline                   object\ntitle                     object\nvideo                     object\nvote_average             float64\nvote_count               float64\ncollection_name           object\ndtype: object"
     },
     "execution_count": 454,
     "metadata": {},
     "output_type": "execute_result"
    }
   ],
   "source": [
    "df_movies_metadata.dtypes"
   ],
   "metadata": {
    "collapsed": false
   }
  },
  {
   "cell_type": "code",
   "execution_count": 455,
   "outputs": [
    {
     "data": {
      "text/plain": "id           int64\nkeywords    object\ndtype: object"
     },
     "execution_count": 455,
     "metadata": {},
     "output_type": "execute_result"
    }
   ],
   "source": [
    "df_keywords.dtypes"
   ],
   "metadata": {
    "collapsed": false
   }
  },
  {
   "cell_type": "code",
   "execution_count": 456,
   "outputs": [],
   "source": [
    "id = 862\n",
    "k = df_credits[df_credits['id']==str(id)]"
   ],
   "metadata": {
    "collapsed": false
   }
  },
  {
   "cell_type": "code",
   "execution_count": 457,
   "outputs": [],
   "source": [
    "l = df_movies_metadata[df_movies_metadata['id']==str(id)]"
   ],
   "metadata": {
    "collapsed": false
   }
  },
  {
   "cell_type": "code",
   "execution_count": 458,
   "outputs": [
    {
     "data": {
      "text/plain": "Empty DataFrame\nColumns: [cast, crew, id]\nIndex: []",
      "text/html": "<div>\n<style scoped>\n    .dataframe tbody tr th:only-of-type {\n        vertical-align: middle;\n    }\n\n    .dataframe tbody tr th {\n        vertical-align: top;\n    }\n\n    .dataframe thead th {\n        text-align: right;\n    }\n</style>\n<table border=\"1\" class=\"dataframe\">\n  <thead>\n    <tr style=\"text-align: right;\">\n      <th></th>\n      <th>cast</th>\n      <th>crew</th>\n      <th>id</th>\n    </tr>\n  </thead>\n  <tbody>\n  </tbody>\n</table>\n</div>"
     },
     "execution_count": 458,
     "metadata": {},
     "output_type": "execute_result"
    }
   ],
   "source": [
    "k"
   ],
   "metadata": {
    "collapsed": false
   }
  },
  {
   "cell_type": "code",
   "execution_count": 459,
   "outputs": [
    {
     "data": {
      "text/plain": "Empty DataFrame\nColumns: [adult, belongs_to_collection, budget, genres, homepage, id, imdb_id, original_language, original_title, overview, popularity, poster_path, production_companies, production_countries, release_date, revenue, runtime, spoken_languages, status, tagline, title, video, vote_average, vote_count, collection_name]\nIndex: []\n\n[0 rows x 25 columns]",
      "text/html": "<div>\n<style scoped>\n    .dataframe tbody tr th:only-of-type {\n        vertical-align: middle;\n    }\n\n    .dataframe tbody tr th {\n        vertical-align: top;\n    }\n\n    .dataframe thead th {\n        text-align: right;\n    }\n</style>\n<table border=\"1\" class=\"dataframe\">\n  <thead>\n    <tr style=\"text-align: right;\">\n      <th></th>\n      <th>adult</th>\n      <th>belongs_to_collection</th>\n      <th>budget</th>\n      <th>genres</th>\n      <th>homepage</th>\n      <th>id</th>\n      <th>imdb_id</th>\n      <th>original_language</th>\n      <th>original_title</th>\n      <th>overview</th>\n      <th>...</th>\n      <th>revenue</th>\n      <th>runtime</th>\n      <th>spoken_languages</th>\n      <th>status</th>\n      <th>tagline</th>\n      <th>title</th>\n      <th>video</th>\n      <th>vote_average</th>\n      <th>vote_count</th>\n      <th>collection_name</th>\n    </tr>\n  </thead>\n  <tbody>\n  </tbody>\n</table>\n<p>0 rows × 25 columns</p>\n</div>"
     },
     "execution_count": 459,
     "metadata": {},
     "output_type": "execute_result"
    }
   ],
   "source": [
    "l"
   ],
   "metadata": {
    "collapsed": false
   }
  },
  {
   "cell_type": "code",
   "execution_count": 459,
   "outputs": [],
   "source": [],
   "metadata": {
    "collapsed": false
   }
  }
 ],
 "metadata": {
  "kernelspec": {
   "display_name": "Python 3",
   "language": "python",
   "name": "python3"
  },
  "language_info": {
   "codemirror_mode": {
    "name": "ipython",
    "version": 2
   },
   "file_extension": ".py",
   "mimetype": "text/x-python",
   "name": "python",
   "nbconvert_exporter": "python",
   "pygments_lexer": "ipython2",
   "version": "2.7.6"
  }
 },
 "nbformat": 4,
 "nbformat_minor": 0
}
