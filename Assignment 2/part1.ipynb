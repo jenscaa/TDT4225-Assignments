{
 "cells": [
  {
   "cell_type": "code",
   "id": "initial_id",
   "metadata": {
    "collapsed": true,
    "ExecuteTime": {
     "end_time": "2025-09-25T13:47:50.138774Z",
     "start_time": "2025-09-25T13:47:50.128468Z"
    }
   },
   "source": [
    "import pandas as pd\n",
    "from pandas import DataFrame\n",
    "import numpy as np\n",
    "import seaborn as sns\n",
    "import matplotlib.pyplot as plt\n",
    "\n"
   ],
   "outputs": [],
   "execution_count": 41
  },
  {
   "metadata": {
    "ExecuteTime": {
     "end_time": "2025-09-25T13:48:40.164421Z",
     "start_time": "2025-09-25T13:47:50.194803Z"
    }
   },
   "cell_type": "code",
   "source": [
    "# Load in chunks if the file is very large\n",
    "df = pd.read_csv(\"porto.csv\")\n",
    "\n",
    "# count missing values in each column\n",
    "missing_counts = df.isna().sum()\n",
    "print(f\"Missing value counts\\n{missing_counts}\")\n",
    "\n",
    "# Count rows where MISSING_DATA is exactly False\n",
    "false_count = (df[\"MISSING_DATA\"] == False).sum()\n",
    "print(f\"\\nNumber of trips where MISSING_DATA is False: {false_count}\")\n",
    "\n",
    "# Count rows where MISSING_DATA is exactly True\n",
    "true_count = (df[\"MISSING_DATA\"] == True).sum()\n",
    "print(f\"\\nNumber of trips where MISSING_DATA is True: {true_count}\")"
   ],
   "id": "88e25059dc1fd16d",
   "outputs": [
    {
     "name": "stdout",
     "output_type": "stream",
     "text": [
      "Missing value counts\n",
      "TRIP_ID               0\n",
      "CALL_TYPE             0\n",
      "ORIGIN_CALL     1345900\n",
      "ORIGIN_STAND     904091\n",
      "TAXI_ID               0\n",
      "TIMESTAMP             0\n",
      "DAY_TYPE              0\n",
      "MISSING_DATA          0\n",
      "POLYLINE              0\n",
      "dtype: int64\n",
      "\n",
      "Number of trips where MISSING_DATA is False: 1710660\n",
      "\n",
      "Number of trips where MISSING_DATA is True: 10\n"
     ]
    }
   ],
   "execution_count": 42
  },
  {
   "metadata": {},
   "cell_type": "markdown",
   "source": "# EDA",
   "id": "98c763776708e3c4"
  },
  {
   "metadata": {},
   "cell_type": "markdown",
   "source": "#### Column: TRIP_ID",
   "id": "cd2b1885fdc3f0c4"
  },
  {
   "metadata": {
    "ExecuteTime": {
     "end_time": "2025-09-25T13:48:41.650339Z",
     "start_time": "2025-09-25T13:48:40.293246Z"
    }
   },
   "cell_type": "code",
   "source": [
    "# Count instances of duplicated trip id\n",
    "duplicate_count = df[\"TRIP_ID\"].duplicated().sum()\n",
    "print(\"Number of duplicate TRIP_ID rows:\", duplicate_count)\n",
    "\n",
    "# Count occurrences of each TRIP_ID\n",
    "trip_id_counts = df[\"TRIP_ID\"].value_counts()\n",
    "\n",
    "# Filter only those with more than 1 occurrence\n",
    "duplicates = trip_id_counts[trip_id_counts > 1]\n",
    "\n",
    "print(\"Duplicated TRIP_IDs and their counts:\")\n",
    "print(duplicates)"
   ],
   "id": "d48f85916979a7bb",
   "outputs": [
    {
     "name": "stdout",
     "output_type": "stream",
     "text": [
      "Number of duplicate TRIP_ID rows: 81\n",
      "Duplicated TRIP_IDs and their counts:\n",
      "TRIP_ID\n",
      "1397172149620000454    3\n",
      "1402085470620000527    2\n",
      "1389002485620000685    2\n",
      "1393869017620000066    2\n",
      "1389782974620000562    2\n",
      "                      ..\n",
      "1400060661620000080    2\n",
      "1394034338620000328    2\n",
      "1373025987620000601    2\n",
      "1394118360620000066    2\n",
      "1373210896620000598    2\n",
      "Name: count, Length: 80, dtype: int64\n"
     ]
    }
   ],
   "execution_count": 43
  },
  {
   "metadata": {},
   "cell_type": "markdown",
   "source": "#### Column: CALL_TYPE",
   "id": "29501f6b596e9126"
  },
  {
   "metadata": {
    "ExecuteTime": {
     "end_time": "2025-09-25T13:48:42.438032Z",
     "start_time": "2025-09-25T13:48:41.727958Z"
    }
   },
   "cell_type": "code",
   "source": [
    "# Get counts of CALL_TYPE\n",
    "call_counts = df[\"CALL_TYPE\"].value_counts().reset_index()\n",
    "call_counts.columns = [\"CALL_TYPE\", \"count\"]\n",
    "\n",
    "# Plot with seaborn barplot\n",
    "plt.figure(figsize=(6,4))\n",
    "sns.barplot(x=\"CALL_TYPE\", y=\"count\", data=call_counts, palette=\"pastel\")\n",
    "\n",
    "plt.title(\"Distribution of CALL_TYPE\")\n",
    "plt.xlabel(\"CALL_TYPE\")\n",
    "plt.ylabel(\"Number of trips\")\n",
    "plt.tight_layout()\n",
    "plt.show()"
   ],
   "id": "ec7f925c76f6dbda",
   "outputs": [
    {
     "name": "stderr",
     "output_type": "stream",
     "text": [
      "C:\\Users\\jensc\\AppData\\Local\\Temp\\ipykernel_32892\\4184915000.py:7: FutureWarning: \n",
      "\n",
      "Passing `palette` without assigning `hue` is deprecated and will be removed in v0.14.0. Assign the `x` variable to `hue` and set `legend=False` for the same effect.\n",
      "\n",
      "  sns.barplot(x=\"CALL_TYPE\", y=\"count\", data=call_counts, palette=\"pastel\")\n"
     ]
    },
    {
     "data": {
      "text/plain": [
       "<Figure size 600x400 with 1 Axes>"
      ],
      "image/png": "[encoded data removed]"
     },
     "metadata": {},
     "output_type": "display_data"
    }
   ],
   "execution_count": 44
  },
  {
   "metadata": {},
   "cell_type": "markdown",
   "source": "#### Column: ORIGIN_CALL",
   "id": "ffc1833c52a5d2ba"
  },
  {
   "metadata": {
    "ExecuteTime": {
     "end_time": "2025-09-25T13:48:42.665838Z",
     "start_time": "2025-09-25T13:48:42.487533Z"
    }
   },
   "cell_type": "code",
   "source": [
    "top5_origin_calls = df[\"ORIGIN_CALL\"].value_counts().head(5)\n",
    "print(\"Top 5 origin_calls:\")\n",
    "print(top5_origin_calls)\n",
    "\n",
    "\n",
    "unique_origin_calls = df[\"ORIGIN_CALL\"].nunique()\n",
    "print(\"Number of different ORIGIN_CALL IDs:\", unique_origin_calls)"
   ],
   "id": "db45ec7eb92a5ddf",
   "outputs": [
    {
     "name": "stdout",
     "output_type": "stream",
     "text": [
      "Top 5 origin_calls:\n",
      "ORIGIN_CALL\n",
      "2002.0     57571\n",
      "63882.0     6406\n",
      "2001.0      2499\n",
      "13168.0     1314\n",
      "6728.0      1115\n",
      "Name: count, dtype: int64\n",
      "Number of different ORIGIN_CALL IDs: 57105\n"
     ]
    }
   ],
   "execution_count": 45
  },
  {
   "metadata": {},
   "cell_type": "markdown",
   "source": "#### Column: ORIGIN_STAND",
   "id": "fbe64f0751ee13af"
  },
  {
   "metadata": {
    "ExecuteTime": {
     "end_time": "2025-09-25T13:48:42.898992Z",
     "start_time": "2025-09-25T13:48:42.746434Z"
    }
   },
   "cell_type": "code",
   "source": [
    "top5_origin_stand = df[\"ORIGIN_STAND\"].value_counts().head(5)\n",
    "print(\"Top 5 origin_stand:\")\n",
    "print(top5_origin_stand)\n",
    "\n",
    "unique_origin_calls = df[\"ORIGIN_STAND\"].nunique()\n",
    "print(\"Number of different ORIGIN_STAND IDs:\", unique_origin_calls)"
   ],
   "id": "ebe1853f63fdd74",
   "outputs": [
    {
     "name": "stdout",
     "output_type": "stream",
     "text": [
      "Top 5 origin_stand:\n",
      "ORIGIN_STAND\n",
      "15.0    80241\n",
      "57.0    50882\n",
      "9.0     34818\n",
      "33.0    34128\n",
      "23.0    33344\n",
      "Name: count, dtype: int64\n",
      "Number of different ORIGIN_STAND IDs: 63\n"
     ]
    }
   ],
   "execution_count": 46
  },
  {
   "metadata": {},
   "cell_type": "markdown",
   "source": "#### Column: TAXI_ID",
   "id": "8a43160282129a23"
  },
  {
   "metadata": {
    "ExecuteTime": {
     "end_time": "2025-09-25T13:48:43.035565Z",
     "start_time": "2025-09-25T13:48:42.949542Z"
    }
   },
   "cell_type": "code",
   "source": [
    "top5_taxis = df[\"TAXI_ID\"].value_counts().head(5)\n",
    "print(\"Top 5 taxis with most trips:\")\n",
    "print(top5_taxis)\n",
    "\n",
    "num_unique_taxis = df[\"TAXI_ID\"].nunique()\n",
    "print(\"\\nTotal number of unique taxis:\", num_unique_taxis)"
   ],
   "id": "fc37c28a647b2b84",
   "outputs": [
    {
     "name": "stdout",
     "output_type": "stream",
     "text": [
      "Top 5 taxis with most trips:\n",
      "TAXI_ID\n",
      "20000080    10746\n",
      "20000403     9238\n",
      "20000066     8449\n",
      "20000364     7821\n",
      "20000483     7729\n",
      "Name: count, dtype: int64\n",
      "\n",
      "Total number of unique taxis: 448\n"
     ]
    }
   ],
   "execution_count": 47
  },
  {
   "metadata": {},
   "cell_type": "markdown",
   "source": "#### Column: TIMESTAMP\n",
   "id": "ebece1184d282bd0"
  },
  {
   "metadata": {},
   "cell_type": "markdown",
   "source": "#### Column: DAY_TYPE",
   "id": "f68ab3822fcceb43"
  },
  {
   "metadata": {
    "ExecuteTime": {
     "end_time": "2025-09-25T13:48:43.681766Z",
     "start_time": "2025-09-25T13:48:43.114583Z"
    }
   },
   "cell_type": "code",
   "source": [
    "day_counts = df[\"DAY_TYPE\"].value_counts().reset_index()\n",
    "day_counts.columns = [\"DAY_TYPE\", \"count\"]\n",
    "\n",
    "plt.figure(figsize=(6,4))\n",
    "sns.barplot(x=\"DAY_TYPE\", y=\"count\", data=day_counts, palette=\"muted\")\n",
    "plt.title(\"Distribution of DAY_TYPE\")\n",
    "plt.xlabel(\"DAY_TYPE\")\n",
    "plt.ylabel(\"Number of trips\")\n",
    "plt.tight_layout()\n",
    "plt.show()"
   ],
   "id": "6cc2c5b566b7c93a",
   "outputs": [
    {
     "name": "stderr",
     "output_type": "stream",
     "text": [
      "C:\\Users\\jensc\\AppData\\Local\\Temp\\ipykernel_32892\\3375176248.py:5: FutureWarning: \n",
      "\n",
      "Passing `palette` without assigning `hue` is deprecated and will be removed in v0.14.0. Assign the `x` variable to `hue` and set `legend=False` for the same effect.\n",
      "\n",
      "  sns.barplot(x=\"DAY_TYPE\", y=\"count\", data=day_counts, palette=\"muted\")\n"
     ]
    },
    {
     "data": {
      "text/plain": [
       "<Figure size 600x400 with 1 Axes>"
      ],
      "image/png": "[encoded data removed]"
     },
     "metadata": {},
     "output_type": "display_data"
    }
   ],
   "execution_count": 48
  },
  {
   "metadata": {},
   "cell_type": "markdown",
   "source": "#### Column: MISSING_DATA",
   "id": "3cc4bfdfff21a12f"
  },
  {
   "metadata": {},
   "cell_type": "markdown",
   "source": "#### Column: POLYLINE",
   "id": "1b0a56ef4addb9b9"
  },
  {
   "metadata": {
    "ExecuteTime": {
     "end_time": "2025-09-25T13:51:24.214650Z",
     "start_time": "2025-09-25T13:48:43.767878Z"
    }
   },
   "cell_type": "code",
   "source": [
    "import json\n",
    "\n",
    "\n",
    "\n",
    "def parse_poly(s):\n",
    "    try:\n",
    "        return json.loads(s)\n",
    "    except Exception:\n",
    "        return []\n",
    "    \n",
    "df[\"POLYLINE\"] = df[\"POLYLINE\"].apply(parse_poly)\n",
    "df[\"NUM_POINTS\"] = df[\"POLYLINE\"].apply(len)\n",
    "\n",
    "# Find min and max\n",
    "min_points = df[\"NUM_POINTS\"].min()\n",
    "max_points = df[\"NUM_POINTS\"].max()\n",
    "print(\"Minimum number of polyline points:\", min_points)\n",
    "print(\"Maximum number of polyline points:\", max_points)\n",
    "\n",
    "plt.figure(figsize=(8,5))\n",
    "sns.histplot(df[\"NUM_POINTS\"], bins=50, color=\"steelblue\")\n",
    "plt.title(\"Distribution of Trip Lengths (# of GPS points)\")\n",
    "plt.xlabel(\"Number of GPS points per trip\")\n",
    "plt.ylabel(\"Number of trips\")\n",
    "plt.tight_layout()\n",
    "plt.show()"
   ],
   "id": "e3d733cb222beb8a",
   "outputs": [
    {
     "name": "stdout",
     "output_type": "stream",
     "text": [
      "Minimum number of polyline points: 0\n",
      "Maximum number of polyline points: 3881\n"
     ]
    },
    {
     "data": {
      "text/plain": [
       "<Figure size 800x500 with 1 Axes>"
      ],
      "image/png": "[encoded data removed]"
     },
     "metadata": {},
     "output_type": "display_data"
    }
   ],
   "execution_count": 49
  },
  {
   "metadata": {
    "ExecuteTime": {
     "end_time": "2025-09-25T13:51:24.355317Z",
     "start_time": "2025-09-25T13:51:24.347184Z"
    }
   },
   "cell_type": "code",
   "source": "",
   "id": "504a1a13b787c600",
   "outputs": [],
   "execution_count": null
  }
 ],
 "metadata": {
  "kernelspec": {
   "display_name": "Python 3",
   "language": "python",
   "name": "python3"
  },
  "language_info": {
   "codemirror_mode": {
    "name": "ipython",
    "version": 2
   },
   "file_extension": ".py",
   "mimetype": "text/x-python",
   "name": "python",
   "nbconvert_exporter": "python",
   "pygments_lexer": "ipython2",
   "version": "2.7.6"
  }
 },
 "nbformat": 4,
 "nbformat_minor": 5
}
