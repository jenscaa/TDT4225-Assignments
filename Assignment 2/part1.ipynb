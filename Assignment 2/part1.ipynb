{
 "cells": [
  {
   "metadata": {},
   "cell_type": "markdown",
   "source": "# Part 1: Exploratory Data Analysis",
   "id": "98c763776708e3c4"
  },
  {
   "metadata": {
    "collapsed": true,
    "ExecuteTime": {
     "end_time": "2025-10-06T08:07:57.650742Z",
     "start_time": "2025-10-06T08:07:57.645764Z"
    }
   },
   "cell_type": "code",
   "source": [
    "# Imports\n",
    "import pandas as pd\n",
    "from pandas import DataFrame\n",
    "import numpy as np\n",
    "import seaborn as sns\n",
    "import matplotlib.pyplot as plt"
   ],
   "id": "initial_id",
   "outputs": [],
   "execution_count": 3
  },
  {
   "metadata": {},
   "cell_type": "markdown",
   "source": "",
   "id": "177bc993b01d553f"
  },
  {
   "metadata": {},
   "cell_type": "markdown",
   "source": "### Data exploration",
   "id": "79abaefe45bc6ade"
  },
  {
   "metadata": {
    "ExecuteTime": {
     "end_time": "2025-10-06T08:08:28.236490Z",
     "start_time": "2025-10-06T08:07:59.857845Z"
    }
   },
   "cell_type": "code",
   "source": [
    "df = pd.read_csv(\"porto.csv\")\n",
    "\n",
    "# Display first few rows\n",
    "df.T"
   ],
   "id": "8bb00719018f3e1c",
   "outputs": [
    {
     "data": {
      "text/plain": [
       "                                                        0        \\\n",
       "TRIP_ID                                     1372636858620000589   \n",
       "CALL_TYPE                                                     C   \n",
       "ORIGIN_CALL                                                 NaN   \n",
       "ORIGIN_STAND                                                NaN   \n",
       "TAXI_ID                                                20000589   \n",
       "TIMESTAMP                                            1372636858   \n",
       "DAY_TYPE                                                      A   \n",
       "MISSING_DATA                                              False   \n",
       "POLYLINE      [[-8.618643,41.141412],[-8.618499,41.141376],[...   \n",
       "\n",
       "                                                        1        \\\n",
       "TRIP_ID                                     1372637303620000596   \n",
       "CALL_TYPE                                                     B   \n",
       "ORIGIN_CALL                                                 NaN   \n",
       "ORIGIN_STAND                                                7.0   \n",
       "TAXI_ID                                                20000596   \n",
       "TIMESTAMP                                            1372637303   \n",
       "DAY_TYPE                                                      A   \n",
       "MISSING_DATA                                              False   \n",
       "POLYLINE      [[-8.639847,41.159826],[-8.640351,41.159871],[...   \n",
       "\n",
       "                                                        2        \\\n",
       "TRIP_ID                                     1372636951620000320   \n",
       "CALL_TYPE                                                     C   \n",
       "ORIGIN_CALL                                                 NaN   \n",
       "ORIGIN_STAND                                                NaN   \n",
       "TAXI_ID                                                20000320   \n",
       "TIMESTAMP                                            1372636951   \n",
       "DAY_TYPE                                                      A   \n",
       "MISSING_DATA                                              False   \n",
       "POLYLINE      [[-8.612964,41.140359],[-8.613378,41.14035],[-...   \n",
       "\n",
       "                                                        3        \\\n",
       "TRIP_ID                                     1372636854620000520   \n",
       "CALL_TYPE                                                     C   \n",
       "ORIGIN_CALL                                                 NaN   \n",
       "ORIGIN_STAND                                                NaN   \n",
       "TAXI_ID                                                20000520   \n",
       "TIMESTAMP                                            1372636854   \n",
       "DAY_TYPE                                                      A   \n",
       "MISSING_DATA                                              False   \n",
       "POLYLINE      [[-8.574678,41.151951],[-8.574705,41.151942],[...   \n",
       "\n",
       "                                                        4        \\\n",
       "TRIP_ID                                     1372637091620000337   \n",
       "CALL_TYPE                                                     C   \n",
       "ORIGIN_CALL                                                 NaN   \n",
       "ORIGIN_STAND                                                NaN   \n",
       "TAXI_ID                                                20000337   \n",
       "TIMESTAMP                                            1372637091   \n",
       "DAY_TYPE                                                      A   \n",
       "MISSING_DATA                                              False   \n",
       "POLYLINE      [[-8.645994,41.18049],[-8.645949,41.180517],[-...   \n",
       "\n",
       "                                                        5        \\\n",
       "TRIP_ID                                     1372636965620000231   \n",
       "CALL_TYPE                                                     C   \n",
       "ORIGIN_CALL                                                 NaN   \n",
       "ORIGIN_STAND                                                NaN   \n",
       "TAXI_ID                                                20000231   \n",
       "TIMESTAMP                                            1372636965   \n",
       "DAY_TYPE                                                      A   \n",
       "MISSING_DATA                                              False   \n",
       "POLYLINE      [[-8.615502,41.140674],[-8.614854,41.140926],[...   \n",
       "\n",
       "                                                        6        \\\n",
       "TRIP_ID                                     1372637210620000456   \n",
       "CALL_TYPE                                                     C   \n",
       "ORIGIN_CALL                                                 NaN   \n",
       "ORIGIN_STAND                                                NaN   \n",
       "TAXI_ID                                                20000456   \n",
       "TIMESTAMP                                            1372637210   \n",
       "DAY_TYPE                                                      A   \n",
       "MISSING_DATA                                              False   \n",
       "POLYLINE      [[-8.57952,41.145948],[-8.580942,41.145039],[-...   \n",
       "\n",
       "                                                        7        \\\n",
       "TRIP_ID                                     1372637299620000011   \n",
       "CALL_TYPE                                                     C   \n",
       "ORIGIN_CALL                                                 NaN   \n",
       "ORIGIN_STAND                                                NaN   \n",
       "TAXI_ID                                                20000011   \n",
       "TIMESTAMP                                            1372637299   \n",
       "DAY_TYPE                                                      A   \n",
       "MISSING_DATA                                              False   \n",
       "POLYLINE      [[-8.617563,41.146182],[-8.617527,41.145849],[...   \n",
       "\n",
       "                                                        8        \\\n",
       "TRIP_ID                                     1372637274620000403   \n",
       "CALL_TYPE                                                     C   \n",
       "ORIGIN_CALL                                                 NaN   \n",
       "ORIGIN_STAND                                                NaN   \n",
       "TAXI_ID                                                20000403   \n",
       "TIMESTAMP                                            1372637274   \n",
       "DAY_TYPE                                                      A   \n",
       "MISSING_DATA                                              False   \n",
       "POLYLINE      [[-8.611794,41.140557],[-8.611785,41.140575],[...   \n",
       "\n",
       "                                                        9        ...  \\\n",
       "TRIP_ID                                     1372637905620000320  ...   \n",
       "CALL_TYPE                                                     C  ...   \n",
       "ORIGIN_CALL                                                 NaN  ...   \n",
       "ORIGIN_STAND                                                NaN  ...   \n",
       "TAXI_ID                                                20000320  ...   \n",
       "TIMESTAMP                                            1372637905  ...   \n",
       "DAY_TYPE                                                      A  ...   \n",
       "MISSING_DATA                                              False  ...   \n",
       "POLYLINE      [[-8.615907,41.140557],[-8.614449,41.141088],[...  ...   \n",
       "\n",
       "                             1710660  \\\n",
       "TRIP_ID          1384165182620000170   \n",
       "CALL_TYPE                          C   \n",
       "ORIGIN_CALL                      NaN   \n",
       "ORIGIN_STAND                     NaN   \n",
       "TAXI_ID                     20000170   \n",
       "TIMESTAMP                 1384165182   \n",
       "DAY_TYPE                           A   \n",
       "MISSING_DATA                   False   \n",
       "POLYLINE      [[-8.643303,41.13648]]   \n",
       "\n",
       "                                                        1710661  \\\n",
       "TRIP_ID                                     1404164723620000332   \n",
       "CALL_TYPE                                                     B   \n",
       "ORIGIN_CALL                                                 NaN   \n",
       "ORIGIN_STAND                                               15.0   \n",
       "TAXI_ID                                                20000332   \n",
       "TIMESTAMP                                            1404164723   \n",
       "DAY_TYPE                                                      A   \n",
       "MISSING_DATA                                              False   \n",
       "POLYLINE      [[-8.585703,41.148567],[-8.585739,41.148855],[...   \n",
       "\n",
       "                                                        1710662  \\\n",
       "TRIP_ID                                     1404155105620000121   \n",
       "CALL_TYPE                                                     B   \n",
       "ORIGIN_CALL                                                 NaN   \n",
       "ORIGIN_STAND                                                9.0   \n",
       "TAXI_ID                                                20000121   \n",
       "TIMESTAMP                                            1404155105   \n",
       "DAY_TYPE                                                      A   \n",
       "MISSING_DATA                                              False   \n",
       "POLYLINE      [[-8.606385,41.144742],[-8.606466,41.144742],[...   \n",
       "\n",
       "                                                        1710663  \\\n",
       "TRIP_ID                                     1388660427620000585   \n",
       "CALL_TYPE                                                     C   \n",
       "ORIGIN_CALL                                                 NaN   \n",
       "ORIGIN_STAND                                                NaN   \n",
       "TAXI_ID                                                20000585   \n",
       "TIMESTAMP                                            1388660427   \n",
       "DAY_TYPE                                                      A   \n",
       "MISSING_DATA                                              False   \n",
       "POLYLINE      [[-8.60697,41.162283],[-8.60697,41.16231],[-8....   \n",
       "\n",
       "                          1710664  \\\n",
       "TRIP_ID       1390403767620000911   \n",
       "CALL_TYPE                       C   \n",
       "ORIGIN_CALL                   NaN   \n",
       "ORIGIN_STAND                  NaN   \n",
       "TAXI_ID                  20000911   \n",
       "TIMESTAMP              1390403767   \n",
       "DAY_TYPE                        A   \n",
       "MISSING_DATA                False   \n",
       "POLYLINE                       []   \n",
       "\n",
       "                                                        1710665  \\\n",
       "TRIP_ID                                     1404171463620000698   \n",
       "CALL_TYPE                                                     C   \n",
       "ORIGIN_CALL                                                 NaN   \n",
       "ORIGIN_STAND                                                NaN   \n",
       "TAXI_ID                                                20000698   \n",
       "TIMESTAMP                                            1404171463   \n",
       "DAY_TYPE                                                      A   \n",
       "MISSING_DATA                                              False   \n",
       "POLYLINE      [[-8.612469,41.14602],[-8.612487,41.145993],[-...   \n",
       "\n",
       "                                                        1710666  \\\n",
       "TRIP_ID                                     1404171367620000670   \n",
       "CALL_TYPE                                                     C   \n",
       "ORIGIN_CALL                                                 NaN   \n",
       "ORIGIN_STAND                                                NaN   \n",
       "TAXI_ID                                                20000670   \n",
       "TIMESTAMP                                            1404171367   \n",
       "DAY_TYPE                                                      A   \n",
       "MISSING_DATA                                              False   \n",
       "POLYLINE      [[-8.610138,41.140845],[-8.610174,41.140935],[...   \n",
       "\n",
       "                          1710667  \\\n",
       "TRIP_ID       1388745716620000264   \n",
       "CALL_TYPE                       C   \n",
       "ORIGIN_CALL                   NaN   \n",
       "ORIGIN_STAND                  NaN   \n",
       "TAXI_ID                  20000264   \n",
       "TIMESTAMP              1388745716   \n",
       "DAY_TYPE                        A   \n",
       "MISSING_DATA                False   \n",
       "POLYLINE                       []   \n",
       "\n",
       "                                                        1710668  \\\n",
       "TRIP_ID                                     1404141826620000248   \n",
       "CALL_TYPE                                                     B   \n",
       "ORIGIN_CALL                                                 NaN   \n",
       "ORIGIN_STAND                                               12.0   \n",
       "TAXI_ID                                                20000248   \n",
       "TIMESTAMP                                            1404141826   \n",
       "DAY_TYPE                                                      A   \n",
       "MISSING_DATA                                              False   \n",
       "POLYLINE      [[-8.630712,41.154885],[-8.63073,41.154813],[-...   \n",
       "\n",
       "                                                        1710669  \n",
       "TRIP_ID                                     1404157147620000079  \n",
       "CALL_TYPE                                                     B  \n",
       "ORIGIN_CALL                                                 NaN  \n",
       "ORIGIN_STAND                                               34.0  \n",
       "TAXI_ID                                                20000079  \n",
       "TIMESTAMP                                            1404157147  \n",
       "DAY_TYPE                                                      A  \n",
       "MISSING_DATA                                              False  \n",
       "POLYLINE      [[-8.615538,41.140629],[-8.615421,41.140746],[...  \n",
       "\n",
       "[9 rows x 1710670 columns]"
      ],
      "text/html": [
       "<div>\n",
       "<style scoped>\n",
       "    .dataframe tbody tr th:only-of-type {\n",
       "        vertical-align: middle;\n",
       "    }\n",
       "\n",
       "    .dataframe tbody tr th {\n",
       "        vertical-align: top;\n",
       "    }\n",
       "\n",
       "    .dataframe thead th {\n",
       "        text-align: right;\n",
       "    }\n",
       "</style>\n",
       "<table border=\"1\" class=\"dataframe\">\n",
       "  <thead>\n",
       "    <tr style=\"text-align: right;\">\n",
       "      <th></th>\n",
       "      <th>0</th>\n",
       "      <th>1</th>\n",
       "      <th>2</th>\n",
       "      <th>3</th>\n",
       "      <th>4</th>\n",
       "      <th>5</th>\n",
       "      <th>6</th>\n",
       "      <th>7</th>\n",
       "      <th>8</th>\n",
       "      <th>9</th>\n",
       "      <th>...</th>\n",
       "      <th>1710660</th>\n",
       "      <th>1710661</th>\n",
       "      <th>1710662</th>\n",
       "      <th>1710663</th>\n",
       "      <th>1710664</th>\n",
       "      <th>1710665</th>\n",
       "      <th>1710666</th>\n",
       "      <th>1710667</th>\n",
       "      <th>1710668</th>\n",
       "      <th>1710669</th>\n",
       "    </tr>\n",
       "  </thead>\n",
       "  <tbody>\n",
       "    <tr>\n",
       "      <th>TRIP_ID</th>\n",
       "      <td>1372636858620000589</td>\n",
       "      <td>1372637303620000596</td>\n",
       "      <td>1372636951620000320</td>\n",
       "      <td>1372636854620000520</td>\n",
       "      <td>1372637091620000337</td>\n",
       "      <td>1372636965620000231</td>\n",
       "      <td>1372637210620000456</td>\n",
       "      <td>1372637299620000011</td>\n",
       "      <td>1372637274620000403</td>\n",
       "      <td>1372637905620000320</td>\n",
       "      <td>...</td>\n",
       "      <td>1384165182620000170</td>\n",
       "      <td>1404164723620000332</td>\n",
       "      <td>1404155105620000121</td>\n",
       "      <td>1388660427620000585</td>\n",
       "      <td>1390403767620000911</td>\n",
       "      <td>1404171463620000698</td>\n",
       "      <td>1404171367620000670</td>\n",
       "      <td>1388745716620000264</td>\n",
       "      <td>1404141826620000248</td>\n",
       "      <td>1404157147620000079</td>\n",
       "    </tr>\n",
       "    <tr>\n",
       "      <th>CALL_TYPE</th>\n",
       "      <td>C</td>\n",
       "      <td>B</td>\n",
       "      <td>C</td>\n",
       "      <td>C</td>\n",
       "      <td>C</td>\n",
       "      <td>C</td>\n",
       "      <td>C</td>\n",
       "      <td>C</td>\n",
       "      <td>C</td>\n",
       "      <td>C</td>\n",
       "      <td>...</td>\n",
       "      <td>C</td>\n",
       "      <td>B</td>\n",
       "      <td>B</td>\n",
       "      <td>C</td>\n",
       "      <td>C</td>\n",
       "      <td>C</td>\n",
       "      <td>C</td>\n",
       "      <td>C</td>\n",
       "      <td>B</td>\n",
       "      <td>B</td>\n",
       "    </tr>\n",
       "    <tr>\n",
       "      <th>ORIGIN_CALL</th>\n",
       "      <td>NaN</td>\n",
       "      <td>NaN</td>\n",
       "      <td>NaN</td>\n",
       "      <td>NaN</td>\n",
       "      <td>NaN</td>\n",
       "      <td>NaN</td>\n",
       "      <td>NaN</td>\n",
       "      <td>NaN</td>\n",
       "      <td>NaN</td>\n",
       "      <td>NaN</td>\n",
       "      <td>...</td>\n",
       "      <td>NaN</td>\n",
       "      <td>NaN</td>\n",
       "      <td>NaN</td>\n",
       "      <td>NaN</td>\n",
       "      <td>NaN</td>\n",
       "      <td>NaN</td>\n",
       "      <td>NaN</td>\n",
       "      <td>NaN</td>\n",
       "      <td>NaN</td>\n",
       "      <td>NaN</td>\n",
       "    </tr>\n",
       "    <tr>\n",
       "      <th>ORIGIN_STAND</th>\n",
       "      <td>NaN</td>\n",
       "      <td>7.0</td>\n",
       "      <td>NaN</td>\n",
       "      <td>NaN</td>\n",
       "      <td>NaN</td>\n",
       "      <td>NaN</td>\n",
       "      <td>NaN</td>\n",
       "      <td>NaN</td>\n",
       "      <td>NaN</td>\n",
       "      <td>NaN</td>\n",
       "      <td>...</td>\n",
       "      <td>NaN</td>\n",
       "      <td>15.0</td>\n",
       "      <td>9.0</td>\n",
       "      <td>NaN</td>\n",
       "      <td>NaN</td>\n",
       "      <td>NaN</td>\n",
       "      <td>NaN</td>\n",
       "      <td>NaN</td>\n",
       "      <td>12.0</td>\n",
       "      <td>34.0</td>\n",
       "    </tr>\n",
       "    <tr>\n",
       "      <th>TAXI_ID</th>\n",
       "      <td>20000589</td>\n",
       "      <td>20000596</td>\n",
       "      <td>20000320</td>\n",
       "      <td>20000520</td>\n",
       "      <td>20000337</td>\n",
       "      <td>20000231</td>\n",
       "      <td>20000456</td>\n",
       "      <td>20000011</td>\n",
       "      <td>20000403</td>\n",
       "      <td>20000320</td>\n",
       "      <td>...</td>\n",
       "      <td>20000170</td>\n",
       "      <td>20000332</td>\n",
       "      <td>20000121</td>\n",
       "      <td>20000585</td>\n",
       "      <td>20000911</td>\n",
       "      <td>20000698</td>\n",
       "      <td>20000670</td>\n",
       "      <td>20000264</td>\n",
       "      <td>20000248</td>\n",
       "      <td>20000079</td>\n",
       "    </tr>\n",
       "    <tr>\n",
       "      <th>TIMESTAMP</th>\n",
       "      <td>1372636858</td>\n",
       "      <td>1372637303</td>\n",
       "      <td>1372636951</td>\n",
       "      <td>1372636854</td>\n",
       "      <td>1372637091</td>\n",
       "      <td>1372636965</td>\n",
       "      <td>1372637210</td>\n",
       "      <td>1372637299</td>\n",
       "      <td>1372637274</td>\n",
       "      <td>1372637905</td>\n",
       "      <td>...</td>\n",
       "      <td>1384165182</td>\n",
       "      <td>1404164723</td>\n",
       "      <td>1404155105</td>\n",
       "      <td>1388660427</td>\n",
       "      <td>1390403767</td>\n",
       "      <td>1404171463</td>\n",
       "      <td>1404171367</td>\n",
       "      <td>1388745716</td>\n",
       "      <td>1404141826</td>\n",
       "      <td>1404157147</td>\n",
       "    </tr>\n",
       "    <tr>\n",
       "      <th>DAY_TYPE</th>\n",
       "      <td>A</td>\n",
       "      <td>A</td>\n",
       "      <td>A</td>\n",
       "      <td>A</td>\n",
       "      <td>A</td>\n",
       "      <td>A</td>\n",
       "      <td>A</td>\n",
       "      <td>A</td>\n",
       "      <td>A</td>\n",
       "      <td>A</td>\n",
       "      <td>...</td>\n",
       "      <td>A</td>\n",
       "      <td>A</td>\n",
       "      <td>A</td>\n",
       "      <td>A</td>\n",
       "      <td>A</td>\n",
       "      <td>A</td>\n",
       "      <td>A</td>\n",
       "      <td>A</td>\n",
       "      <td>A</td>\n",
       "      <td>A</td>\n",
       "    </tr>\n",
       "    <tr>\n",
       "      <th>MISSING_DATA</th>\n",
       "      <td>False</td>\n",
       "      <td>False</td>\n",
       "      <td>False</td>\n",
       "      <td>False</td>\n",
       "      <td>False</td>\n",
       "      <td>False</td>\n",
       "      <td>False</td>\n",
       "      <td>False</td>\n",
       "      <td>False</td>\n",
       "      <td>False</td>\n",
       "      <td>...</td>\n",
       "      <td>False</td>\n",
       "      <td>False</td>\n",
       "      <td>False</td>\n",
       "      <td>False</td>\n",
       "      <td>False</td>\n",
       "      <td>False</td>\n",
       "      <td>False</td>\n",
       "      <td>False</td>\n",
       "      <td>False</td>\n",
       "      <td>False</td>\n",
       "    </tr>\n",
       "    <tr>\n",
       "      <th>POLYLINE</th>\n",
       "      <td>[[-8.618643,41.141412],[-8.618499,41.141376],[...</td>\n",
       "      <td>[[-8.639847,41.159826],[-8.640351,41.159871],[...</td>\n",
       "      <td>[[-8.612964,41.140359],[-8.613378,41.14035],[-...</td>\n",
       "      <td>[[-8.574678,41.151951],[-8.574705,41.151942],[...</td>\n",
       "      <td>[[-8.645994,41.18049],[-8.645949,41.180517],[-...</td>\n",
       "      <td>[[-8.615502,41.140674],[-8.614854,41.140926],[...</td>\n",
       "      <td>[[-8.57952,41.145948],[-8.580942,41.145039],[-...</td>\n",
       "      <td>[[-8.617563,41.146182],[-8.617527,41.145849],[...</td>\n",
       "      <td>[[-8.611794,41.140557],[-8.611785,41.140575],[...</td>\n",
       "      <td>[[-8.615907,41.140557],[-8.614449,41.141088],[...</td>\n",
       "      <td>...</td>\n",
       "      <td>[[-8.643303,41.13648]]</td>\n",
       "      <td>[[-8.585703,41.148567],[-8.585739,41.148855],[...</td>\n",
       "      <td>[[-8.606385,41.144742],[-8.606466,41.144742],[...</td>\n",
       "      <td>[[-8.60697,41.162283],[-8.60697,41.16231],[-8....</td>\n",
       "      <td>[]</td>\n",
       "      <td>[[-8.612469,41.14602],[-8.612487,41.145993],[-...</td>\n",
       "      <td>[[-8.610138,41.140845],[-8.610174,41.140935],[...</td>\n",
       "      <td>[]</td>\n",
       "      <td>[[-8.630712,41.154885],[-8.63073,41.154813],[-...</td>\n",
       "      <td>[[-8.615538,41.140629],[-8.615421,41.140746],[...</td>\n",
       "    </tr>\n",
       "  </tbody>\n",
       "</table>\n",
       "<p>9 rows × 1710670 columns</p>\n",
       "</div>"
      ]
     },
     "execution_count": 4,
     "metadata": {},
     "output_type": "execute_result"
    }
   ],
   "execution_count": 4
  },
  {
   "metadata": {
    "ExecuteTime": {
     "end_time": "2025-10-06T08:08:51.552012Z",
     "start_time": "2025-10-06T08:08:50.928181Z"
    }
   },
   "cell_type": "code",
   "source": [
    "# Summary statistics\n",
    "df.describe()"
   ],
   "id": "a229783fcf96811a",
   "outputs": [
    {
     "data": {
      "text/plain": [
       "            TRIP_ID    ORIGIN_CALL   ORIGIN_STAND       TAXI_ID     TIMESTAMP\n",
       "count  1.710670e+06  364770.000000  806579.000000  1.710670e+06  1.710670e+06\n",
       "mean   1.388622e+18   24490.363018      30.272381  2.000035e+07  1.388622e+09\n",
       "std    9.180944e+15   19624.290043      17.747840  2.112405e+02  9.180944e+06\n",
       "min    1.372637e+18    2001.000000       1.000000  2.000000e+07  1.372637e+09\n",
       "25%    1.380731e+18    6593.000000      15.000000  2.000017e+07  1.380731e+09\n",
       "50%    1.388493e+18   18755.000000      27.000000  2.000034e+07  1.388493e+09\n",
       "75%    1.396750e+18   40808.000000      49.000000  2.000052e+07  1.396750e+09\n",
       "max    1.404173e+18   63884.000000      63.000000  2.000098e+07  1.404173e+09"
      ],
      "text/html": [
       "<div>\n",
       "<style scoped>\n",
       "    .dataframe tbody tr th:only-of-type {\n",
       "        vertical-align: middle;\n",
       "    }\n",
       "\n",
       "    .dataframe tbody tr th {\n",
       "        vertical-align: top;\n",
       "    }\n",
       "\n",
       "    .dataframe thead th {\n",
       "        text-align: right;\n",
       "    }\n",
       "</style>\n",
       "<table border=\"1\" class=\"dataframe\">\n",
       "  <thead>\n",
       "    <tr style=\"text-align: right;\">\n",
       "      <th></th>\n",
       "      <th>TRIP_ID</th>\n",
       "      <th>ORIGIN_CALL</th>\n",
       "      <th>ORIGIN_STAND</th>\n",
       "      <th>TAXI_ID</th>\n",
       "      <th>TIMESTAMP</th>\n",
       "    </tr>\n",
       "  </thead>\n",
       "  <tbody>\n",
       "    <tr>\n",
       "      <th>count</th>\n",
       "      <td>1.710670e+06</td>\n",
       "      <td>364770.000000</td>\n",
       "      <td>806579.000000</td>\n",
       "      <td>1.710670e+06</td>\n",
       "      <td>1.710670e+06</td>\n",
       "    </tr>\n",
       "    <tr>\n",
       "      <th>mean</th>\n",
       "      <td>1.388622e+18</td>\n",
       "      <td>24490.363018</td>\n",
       "      <td>30.272381</td>\n",
       "      <td>2.000035e+07</td>\n",
       "      <td>1.388622e+09</td>\n",
       "    </tr>\n",
       "    <tr>\n",
       "      <th>std</th>\n",
       "      <td>9.180944e+15</td>\n",
       "      <td>19624.290043</td>\n",
       "      <td>17.747840</td>\n",
       "      <td>2.112405e+02</td>\n",
       "      <td>9.180944e+06</td>\n",
       "    </tr>\n",
       "    <tr>\n",
       "      <th>min</th>\n",
       "      <td>1.372637e+18</td>\n",
       "      <td>2001.000000</td>\n",
       "      <td>1.000000</td>\n",
       "      <td>2.000000e+07</td>\n",
       "      <td>1.372637e+09</td>\n",
       "    </tr>\n",
       "    <tr>\n",
       "      <th>25%</th>\n",
       "      <td>1.380731e+18</td>\n",
       "      <td>6593.000000</td>\n",
       "      <td>15.000000</td>\n",
       "      <td>2.000017e+07</td>\n",
       "      <td>1.380731e+09</td>\n",
       "    </tr>\n",
       "    <tr>\n",
       "      <th>50%</th>\n",
       "      <td>1.388493e+18</td>\n",
       "      <td>18755.000000</td>\n",
       "      <td>27.000000</td>\n",
       "      <td>2.000034e+07</td>\n",
       "      <td>1.388493e+09</td>\n",
       "    </tr>\n",
       "    <tr>\n",
       "      <th>75%</th>\n",
       "      <td>1.396750e+18</td>\n",
       "      <td>40808.000000</td>\n",
       "      <td>49.000000</td>\n",
       "      <td>2.000052e+07</td>\n",
       "      <td>1.396750e+09</td>\n",
       "    </tr>\n",
       "    <tr>\n",
       "      <th>max</th>\n",
       "      <td>1.404173e+18</td>\n",
       "      <td>63884.000000</td>\n",
       "      <td>63.000000</td>\n",
       "      <td>2.000098e+07</td>\n",
       "      <td>1.404173e+09</td>\n",
       "    </tr>\n",
       "  </tbody>\n",
       "</table>\n",
       "</div>"
      ]
     },
     "execution_count": 5,
     "metadata": {},
     "output_type": "execute_result"
    }
   ],
   "execution_count": 5
  },
  {
   "metadata": {
    "ExecuteTime": {
     "end_time": "2025-10-06T08:08:51.708386Z",
     "start_time": "2025-10-06T08:08:51.696467Z"
    }
   },
   "cell_type": "code",
   "source": [
    "# Data types of each column\n",
    "df.dtypes"
   ],
   "id": "e42614be9628c202",
   "outputs": [
    {
     "data": {
      "text/plain": [
       "TRIP_ID           int64\n",
       "CALL_TYPE        object\n",
       "ORIGIN_CALL     float64\n",
       "ORIGIN_STAND    float64\n",
       "TAXI_ID           int64\n",
       "TIMESTAMP         int64\n",
       "DAY_TYPE         object\n",
       "MISSING_DATA       bool\n",
       "POLYLINE         object\n",
       "dtype: object"
      ]
     },
     "execution_count": 6,
     "metadata": {},
     "output_type": "execute_result"
    }
   ],
   "execution_count": 6
  },
  {
   "metadata": {},
   "cell_type": "markdown",
   "source": "### Missing values",
   "id": "749b5de8d816319e"
  },
  {
   "metadata": {
    "ExecuteTime": {
     "end_time": "2025-10-02T13:28:36.585149Z",
     "start_time": "2025-10-02T13:28:36.077726Z"
    }
   },
   "cell_type": "code",
   "source": [
    "missing_values = df.isnull().sum()\n",
    "\n",
    "# Convert to DataFrame for nicer view\n",
    "missing_df = pd.DataFrame({\n",
    "    \"Column\": missing_values.index,\n",
    "    \"Missing Count\": missing_values.values\n",
    "})\n",
    "\n",
    "missing_df"
   ],
   "id": "359a350322a00216",
   "outputs": [
    {
     "data": {
      "text/plain": [
       "         Column  Missing Count\n",
       "0       TRIP_ID              0\n",
       "1     CALL_TYPE              0\n",
       "2   ORIGIN_CALL        1345900\n",
       "3  ORIGIN_STAND         904091\n",
       "4       TAXI_ID              0\n",
       "5     TIMESTAMP              0\n",
       "6      DAY_TYPE              0\n",
       "7  MISSING_DATA              0\n",
       "8      POLYLINE              0"
      ],
      "text/html": [
       "<div>\n",
       "<style scoped>\n",
       "    .dataframe tbody tr th:only-of-type {\n",
       "        vertical-align: middle;\n",
       "    }\n",
       "\n",
       "    .dataframe tbody tr th {\n",
       "        vertical-align: top;\n",
       "    }\n",
       "\n",
       "    .dataframe thead th {\n",
       "        text-align: right;\n",
       "    }\n",
       "</style>\n",
       "<table border=\"1\" class=\"dataframe\">\n",
       "  <thead>\n",
       "    <tr style=\"text-align: right;\">\n",
       "      <th></th>\n",
       "      <th>Column</th>\n",
       "      <th>Missing Count</th>\n",
       "    </tr>\n",
       "  </thead>\n",
       "  <tbody>\n",
       "    <tr>\n",
       "      <th>0</th>\n",
       "      <td>TRIP_ID</td>\n",
       "      <td>0</td>\n",
       "    </tr>\n",
       "    <tr>\n",
       "      <th>1</th>\n",
       "      <td>CALL_TYPE</td>\n",
       "      <td>0</td>\n",
       "    </tr>\n",
       "    <tr>\n",
       "      <th>2</th>\n",
       "      <td>ORIGIN_CALL</td>\n",
       "      <td>1345900</td>\n",
       "    </tr>\n",
       "    <tr>\n",
       "      <th>3</th>\n",
       "      <td>ORIGIN_STAND</td>\n",
       "      <td>904091</td>\n",
       "    </tr>\n",
       "    <tr>\n",
       "      <th>4</th>\n",
       "      <td>TAXI_ID</td>\n",
       "      <td>0</td>\n",
       "    </tr>\n",
       "    <tr>\n",
       "      <th>5</th>\n",
       "      <td>TIMESTAMP</td>\n",
       "      <td>0</td>\n",
       "    </tr>\n",
       "    <tr>\n",
       "      <th>6</th>\n",
       "      <td>DAY_TYPE</td>\n",
       "      <td>0</td>\n",
       "    </tr>\n",
       "    <tr>\n",
       "      <th>7</th>\n",
       "      <td>MISSING_DATA</td>\n",
       "      <td>0</td>\n",
       "    </tr>\n",
       "    <tr>\n",
       "      <th>8</th>\n",
       "      <td>POLYLINE</td>\n",
       "      <td>0</td>\n",
       "    </tr>\n",
       "  </tbody>\n",
       "</table>\n",
       "</div>"
      ]
     },
     "execution_count": 5,
     "metadata": {},
     "output_type": "execute_result"
    }
   ],
   "execution_count": 5
  },
  {
   "metadata": {
    "ExecuteTime": {
     "end_time": "2025-10-06T15:39:49.629947Z",
     "start_time": "2025-10-06T15:39:49.186911Z"
    }
   },
   "cell_type": "code",
   "outputs": [
    {
     "name": "stdout",
     "output_type": "stream",
     "text": [
      "Number of instances where column ORIGIN_CALL is missing when CALL_TYPE == A: 0\n",
      "Number of instances where column ORIGIN_STAND is missing when CALL_TYPE == B: 11302\n"
     ]
    }
   ],
   "execution_count": 48,
   "source": [
    "df_ct = df.loc[df[\"CALL_TYPE\"] == \"A\", [\"CALL_TYPE\", \"ORIGIN_CALL\"]]\n",
    "df_cs = df.loc[df[\"CALL_TYPE\"] == \"B\", [\"CALL_TYPE\", \"ORIGIN_STAND\"]]\n",
    "\n",
    "print(f'Number of instances where column ORIGIN_CALL is missing when CALL_TYPE == A: {df_ct[\"ORIGIN_CALL\"].isnull().sum()}')\n",
    "print(f'Number of instances where column ORIGIN_STAND is missing when CALL_TYPE == B: {df_cs[\"ORIGIN_STAND\"].isnull().sum()}')\n"
   ],
   "id": "3ac99f2fae646a54"
  },
  {
   "metadata": {},
   "cell_type": "markdown",
   "source": "### Outliers with Z-score > 3",
   "id": "45dcc6c1f51848e3"
  },
  {
   "metadata": {
    "ExecuteTime": {
     "end_time": "2025-10-06T16:46:27.027781Z",
     "start_time": "2025-10-06T16:46:26.282723Z"
    }
   },
   "cell_type": "code",
   "source": [
    "z_score_threshold = 3\n",
    "\n",
    "numeric_cols = df.select_dtypes(include=[\"int64\", \"float64\"]).columns\n",
    "total_rows = len(df)\n",
    "results = []\n",
    "\n",
    "for col in numeric_cols:\n",
    "    z_scores = (df[col] - df[col].mean()) / df[col].std()\n",
    "    count = (np.abs(z_scores) > z_score_threshold).sum()\n",
    "    percent = 100 * count / total_rows\n",
    "    results.append({\"Column\": col, \"Outlier Count\": count, \"Outlier %\": round(percent, 2)})\n",
    "\n",
    "outlier_df = pd.DataFrame(results)\n",
    "outlier_df"
   ],
   "id": "14477c691edf615c",
   "outputs": [
    {
     "data": {
      "text/plain": [
       "         Column  Outlier Count  Outlier %\n",
       "0       TRIP_ID              0        0.0\n",
       "1   ORIGIN_CALL              0        0.0\n",
       "2  ORIGIN_STAND              0        0.0\n",
       "3       TAXI_ID              0        0.0\n",
       "4     TIMESTAMP              0        0.0"
      ],
      "text/html": [
       "<div>\n",
       "<style scoped>\n",
       "    .dataframe tbody tr th:only-of-type {\n",
       "        vertical-align: middle;\n",
       "    }\n",
       "\n",
       "    .dataframe tbody tr th {\n",
       "        vertical-align: top;\n",
       "    }\n",
       "\n",
       "    .dataframe thead th {\n",
       "        text-align: right;\n",
       "    }\n",
       "</style>\n",
       "<table border=\"1\" class=\"dataframe\">\n",
       "  <thead>\n",
       "    <tr style=\"text-align: right;\">\n",
       "      <th></th>\n",
       "      <th>Column</th>\n",
       "      <th>Outlier Count</th>\n",
       "      <th>Outlier %</th>\n",
       "    </tr>\n",
       "  </thead>\n",
       "  <tbody>\n",
       "    <tr>\n",
       "      <th>0</th>\n",
       "      <td>TRIP_ID</td>\n",
       "      <td>0</td>\n",
       "      <td>0.0</td>\n",
       "    </tr>\n",
       "    <tr>\n",
       "      <th>1</th>\n",
       "      <td>ORIGIN_CALL</td>\n",
       "      <td>0</td>\n",
       "      <td>0.0</td>\n",
       "    </tr>\n",
       "    <tr>\n",
       "      <th>2</th>\n",
       "      <td>ORIGIN_STAND</td>\n",
       "      <td>0</td>\n",
       "      <td>0.0</td>\n",
       "    </tr>\n",
       "    <tr>\n",
       "      <th>3</th>\n",
       "      <td>TAXI_ID</td>\n",
       "      <td>0</td>\n",
       "      <td>0.0</td>\n",
       "    </tr>\n",
       "    <tr>\n",
       "      <th>4</th>\n",
       "      <td>TIMESTAMP</td>\n",
       "      <td>0</td>\n",
       "      <td>0.0</td>\n",
       "    </tr>\n",
       "  </tbody>\n",
       "</table>\n",
       "</div>"
      ]
     },
     "execution_count": 72,
     "metadata": {},
     "output_type": "execute_result"
    }
   ],
   "execution_count": 72
  },
  {
   "metadata": {},
   "cell_type": "markdown",
   "source": "### Unique values",
   "id": "50feb5f973911cb"
  },
  {
   "metadata": {
    "ExecuteTime": {
     "end_time": "2025-10-02T13:28:37.765047Z",
     "start_time": "2025-10-02T13:28:37.582474Z"
    }
   },
   "cell_type": "code",
   "outputs": [
    {
     "name": "stdout",
     "output_type": "stream",
     "text": [
      "CALL_TYPE: ['C' 'B' 'A']\n",
      "DAY_TYPE: ['A']\n"
     ]
    }
   ],
   "execution_count": 8,
   "source": [
    "relevant_cols = ['CALL_TYPE', 'DAY_TYPE']\n",
    "\n",
    "for col in relevant_cols:\n",
    "    print(f\"{col}: {df[col].unique()}\")"
   ],
   "id": "203d1ccedef11a81"
  },
  {
   "metadata": {},
   "cell_type": "markdown",
   "source": "#### Column: TRIP_ID",
   "id": "cd2b1885fdc3f0c4"
  },
  {
   "metadata": {
    "ExecuteTime": {
     "end_time": "2025-10-06T10:03:02.494845Z",
     "start_time": "2025-10-06T10:03:01.398997Z"
    }
   },
   "cell_type": "code",
   "outputs": [
    {
     "name": "stdout",
     "output_type": "stream",
     "text": [
      "Number of duplicate TRIP_ID rows: 81\n",
      "Duplicated TRIP_IDs and their counts:\n"
     ]
    },
    {
     "data": {
      "text/plain": [
       "TRIP_ID\n",
       "1397172149620000454    3\n",
       "1402085470620000527    2\n",
       "1389002485620000685    2\n",
       "1393869017620000066    2\n",
       "1389782974620000562    2\n",
       "                      ..\n",
       "1400060661620000080    2\n",
       "1394034338620000328    2\n",
       "1373025987620000601    2\n",
       "1394118360620000066    2\n",
       "1373210896620000598    2\n",
       "Name: count, Length: 80, dtype: int64"
      ]
     },
     "execution_count": 9,
     "metadata": {},
     "output_type": "execute_result"
    }
   ],
   "execution_count": 9,
   "source": [
    "# Count instances of duplicated trip id\n",
    "duplicate_count = df[\"TRIP_ID\"].duplicated().sum()\n",
    "print(\"Number of duplicate TRIP_ID rows:\", duplicate_count)\n",
    "\n",
    "# Count occurrences of each TRIP_ID\n",
    "trip_id_counts = df[\"TRIP_ID\"].value_counts()\n",
    "\n",
    "# Filter only those with more than 1 occurrence\n",
    "duplicates = trip_id_counts[trip_id_counts > 1]\n",
    "\n",
    "print(\"Duplicated TRIP_IDs and their counts:\")\n",
    "duplicates"
   ],
   "id": "d48f85916979a7bb"
  },
  {
   "metadata": {},
   "cell_type": "markdown",
   "source": "#### Column: CALL_TYPE",
   "id": "29501f6b596e9126"
  },
  {
   "metadata": {
    "ExecuteTime": {
     "end_time": "2025-10-06T14:32:56.312540Z",
     "start_time": "2025-10-06T14:32:55.891393Z"
    }
   },
   "cell_type": "code",
   "outputs": [
    {
     "data": {
      "text/plain": [
       "<Figure size 600x400 with 1 Axes>"
      ],
      "image/png": "[encoded data removed]"
     },
     "metadata": {},
     "output_type": "display_data"
    }
   ],
   "execution_count": 29,
   "source": [
    "# Get counts of CALL_TYPE\n",
    "call_counts = df[\"CALL_TYPE\"].value_counts().reset_index()\n",
    "call_counts.columns = [\"CALL_TYPE\", \"count\"]\n",
    "\n",
    "call_counts = call_counts.sort_values(\"CALL_TYPE\")\n",
    "\n",
    "# Plot with seaborn barplot\n",
    "plt.figure(figsize=(6,4))\n",
    "sns.barplot(x=\"CALL_TYPE\", y=\"count\", data=call_counts)\n",
    "plt.title(\"Distribution of CALL_TYPE\")\n",
    "plt.xlabel(\"CALL_TYPE\")\n",
    "plt.ylabel(\"Number of trips\")\n",
    "plt.tight_layout()\n",
    "plt.show()\n",
    "\n"
   ],
   "id": "ec7f925c76f6dbda"
  },
  {
   "metadata": {
    "ExecuteTime": {
     "end_time": "2025-10-06T14:27:32.238624Z",
     "start_time": "2025-10-06T14:27:32.226702Z"
    }
   },
   "cell_type": "code",
   "outputs": [
    {
     "data": {
      "text/plain": [
       "  CALL_TYPE   count\n",
       "0         B  817881\n",
       "1         C  528019\n",
       "2         A  364770"
      ],
      "text/html": [
       "<div>\n",
       "<style scoped>\n",
       "    .dataframe tbody tr th:only-of-type {\n",
       "        vertical-align: middle;\n",
       "    }\n",
       "\n",
       "    .dataframe tbody tr th {\n",
       "        vertical-align: top;\n",
       "    }\n",
       "\n",
       "    .dataframe thead th {\n",
       "        text-align: right;\n",
       "    }\n",
       "</style>\n",
       "<table border=\"1\" class=\"dataframe\">\n",
       "  <thead>\n",
       "    <tr style=\"text-align: right;\">\n",
       "      <th></th>\n",
       "      <th>CALL_TYPE</th>\n",
       "      <th>count</th>\n",
       "    </tr>\n",
       "  </thead>\n",
       "  <tbody>\n",
       "    <tr>\n",
       "      <th>0</th>\n",
       "      <td>B</td>\n",
       "      <td>817881</td>\n",
       "    </tr>\n",
       "    <tr>\n",
       "      <th>1</th>\n",
       "      <td>C</td>\n",
       "      <td>528019</td>\n",
       "    </tr>\n",
       "    <tr>\n",
       "      <th>2</th>\n",
       "      <td>A</td>\n",
       "      <td>364770</td>\n",
       "    </tr>\n",
       "  </tbody>\n",
       "</table>\n",
       "</div>"
      ]
     },
     "execution_count": 25,
     "metadata": {},
     "output_type": "execute_result"
    }
   ],
   "execution_count": 25,
   "source": "call_counts",
   "id": "f8d83503c64edfa3"
  },
  {
   "metadata": {
    "ExecuteTime": {
     "end_time": "2025-10-06T15:38:10.275292Z",
     "start_time": "2025-10-06T15:38:10.036412Z"
    }
   },
   "cell_type": "code",
   "source": "",
   "id": "1485280fecf08e7e",
   "outputs": [
    {
     "name": "stdout",
     "output_type": "stream",
     "text": [
      "Number of rows with CALL_TYPE == B: 817881\n",
      "NUmber of instances where column ORIGIN_STAND is missing when CALL_TYPE == B: 11302\n"
     ]
    }
   ],
   "execution_count": 46
  },
  {
   "metadata": {},
   "cell_type": "markdown",
   "source": "#### Column: ORIGIN_CALL",
   "id": "ffc1833c52a5d2ba"
  },
  {
   "metadata": {
    "ExecuteTime": {
     "end_time": "2025-10-06T14:46:14.560287Z",
     "start_time": "2025-10-06T14:46:14.477450Z"
    }
   },
   "cell_type": "code",
   "source": [
    "top5_origin_calls = df[\"ORIGIN_CALL\"].value_counts()\n",
    "print(\"Top 5 origin_calls:\")\n",
    "top5_origin_calls"
   ],
   "id": "db45ec7eb92a5ddf",
   "outputs": [
    {
     "name": "stdout",
     "output_type": "stream",
     "text": [
      "Top 5 origin_calls:\n"
     ]
    },
    {
     "data": {
      "text/plain": [
       "ORIGIN_CALL\n",
       "2002.0     57571\n",
       "63882.0     6406\n",
       "2001.0      2499\n",
       "13168.0     1314\n",
       "6728.0      1115\n",
       "           ...  \n",
       "23600.0        1\n",
       "37142.0        1\n",
       "7028.0         1\n",
       "49288.0        1\n",
       "34164.0        1\n",
       "Name: count, Length: 57105, dtype: int64"
      ]
     },
     "execution_count": 30,
     "metadata": {},
     "output_type": "execute_result"
    }
   ],
   "execution_count": 30
  },
  {
   "metadata": {
    "ExecuteTime": {
     "end_time": "2025-10-06T14:47:37.979956Z",
     "start_time": "2025-10-06T14:47:37.918057Z"
    }
   },
   "cell_type": "code",
   "source": [
    "unique_origin_calls = df[\"ORIGIN_CALL\"].nunique()\n",
    "print(\"Number of different ORIGIN_CALL IDs:\", unique_origin_calls)"
   ],
   "id": "2bd0240a4391b989",
   "outputs": [
    {
     "name": "stdout",
     "output_type": "stream",
     "text": [
      "Number of different ORIGIN_CALL IDs: 57105\n"
     ]
    }
   ],
   "execution_count": 31
  },
  {
   "metadata": {},
   "cell_type": "markdown",
   "source": "#### Column: ORIGIN_STAND",
   "id": "fbe64f0751ee13af"
  },
  {
   "metadata": {
    "ExecuteTime": {
     "end_time": "2025-10-06T15:07:23.893986Z",
     "start_time": "2025-10-06T15:07:23.849599Z"
    }
   },
   "cell_type": "code",
   "source": [
    "top5_origin_stand = df[\"ORIGIN_STAND\"].value_counts()\n",
    "print(\"Top 5 origin_stand:\")\n",
    "top5_origin_stand"
   ],
   "id": "ebe1853f63fdd74",
   "outputs": [
    {
     "name": "stdout",
     "output_type": "stream",
     "text": [
      "Top 5 origin_stand:\n"
     ]
    },
    {
     "data": {
      "text/plain": [
       "ORIGIN_STAND\n",
       "15.0    80241\n",
       "57.0    50882\n",
       "9.0     34818\n",
       "33.0    34128\n",
       "23.0    33344\n",
       "        ...  \n",
       "41.0      506\n",
       "43.0      493\n",
       "8.0       381\n",
       "5.0        53\n",
       "48.0        7\n",
       "Name: count, Length: 63, dtype: int64"
      ]
     },
     "execution_count": 35,
     "metadata": {},
     "output_type": "execute_result"
    }
   ],
   "execution_count": 35
  },
  {
   "metadata": {
    "ExecuteTime": {
     "end_time": "2025-10-06T14:56:23.048905Z",
     "start_time": "2025-10-06T14:56:23.006940Z"
    }
   },
   "cell_type": "code",
   "source": [
    "unique_origin_calls = df[\"ORIGIN_STAND\"].nunique()\n",
    "print(\"Number of different ORIGIN_STAND IDs:\", unique_origin_calls)"
   ],
   "id": "1f24a45800f1f9f5",
   "outputs": [
    {
     "name": "stdout",
     "output_type": "stream",
     "text": [
      "Number of different ORIGIN_STAND IDs: 63\n"
     ]
    }
   ],
   "execution_count": 34
  },
  {
   "metadata": {},
   "cell_type": "markdown",
   "source": "#### Column: TAXI_ID",
   "id": "8a43160282129a23"
  },
  {
   "metadata": {
    "ExecuteTime": {
     "end_time": "2025-10-06T18:19:15.421419Z",
     "start_time": "2025-10-06T18:19:15.388176Z"
    }
   },
   "cell_type": "code",
   "source": [
    "top5_taxis = df[\"TAXI_ID\"].value_counts()\n",
    "print(\"Top 5 taxis with most trips:\")\n",
    "top5_taxis"
   ],
   "id": "fc37c28a647b2b84",
   "outputs": [
    {
     "name": "stdout",
     "output_type": "stream",
     "text": [
      "Top 5 taxis with most trips:\n"
     ]
    },
    {
     "data": {
      "text/plain": [
       "TAXI_ID\n",
       "20000080    10746\n",
       "20000403     9238\n",
       "20000066     8449\n",
       "20000364     7821\n",
       "20000483     7729\n",
       "            ...  \n",
       "20000264        2\n",
       "20000911        2\n",
       "20000940        1\n",
       "20000970        1\n",
       "20000931        1\n",
       "Name: count, Length: 448, dtype: int64"
      ]
     },
     "execution_count": 83,
     "metadata": {},
     "output_type": "execute_result"
    }
   ],
   "execution_count": 83
  },
  {
   "metadata": {
    "ExecuteTime": {
     "end_time": "2025-10-06T18:11:02.188469Z",
     "start_time": "2025-10-06T18:11:02.159289Z"
    }
   },
   "cell_type": "code",
   "source": [
    "num_unique_taxis = df[\"TAXI_ID\"].nunique()\n",
    "print(\"\\nTotal number of unique taxis:\", num_unique_taxis)"
   ],
   "id": "5e86b91f42f7a52e",
   "outputs": [
    {
     "name": "stdout",
     "output_type": "stream",
     "text": [
      "\n",
      "Total number of unique taxis: 448\n"
     ]
    }
   ],
   "execution_count": 81
  },
  {
   "metadata": {},
   "cell_type": "markdown",
   "source": "#### Column: TIMESTAMP\n",
   "id": "ebece1184d282bd0"
  },
  {
   "metadata": {
    "ExecuteTime": {
     "end_time": "2025-10-06T16:43:24.275866Z",
     "start_time": "2025-10-06T16:43:24.061923Z"
    }
   },
   "cell_type": "code",
   "source": [
    "df_timestamp = df\n",
    "df_timestamp['timestamp2'] = pd.to_datetime(df['TIMESTAMP'], unit='s')"
   ],
   "id": "75f4cc4bbfb3c92b",
   "outputs": [],
   "execution_count": 68
  },
  {
   "metadata": {
    "ExecuteTime": {
     "end_time": "2025-10-06T16:43:25.591461Z",
     "start_time": "2025-10-06T16:43:25.580453Z"
    }
   },
   "cell_type": "code",
   "source": "df['TIMESTAMP'].min(), df['TIMESTAMP'].max()\n",
   "id": "3e3615c42f0667ce",
   "outputs": [
    {
     "data": {
      "text/plain": [
       "(1372636853, 1404172796)"
      ]
     },
     "execution_count": 69,
     "metadata": {},
     "output_type": "execute_result"
    }
   ],
   "execution_count": 69
  },
  {
   "metadata": {
    "ExecuteTime": {
     "end_time": "2025-10-06T16:43:28.068128Z",
     "start_time": "2025-10-06T16:43:27.385077Z"
    }
   },
   "cell_type": "code",
   "source": [
    "fig, ax = plt.subplots(figsize=(6,4))\n",
    "ax.hist(df_timestamp['timestamp2'], bins=50)\n",
    "ax.xaxis.set_major_formatter(plt.matplotlib.dates.DateFormatter('%Y-%m'))\n",
    "plt.xlabel('Year-Month')\n",
    "plt.ylabel('Frequency')\n",
    "plt.title('Histogram by Timestamps')\n",
    "plt.xticks(rotation=45)\n",
    "plt.show()"
   ],
   "id": "64f83089b13523f3",
   "outputs": [
    {
     "data": {
      "text/plain": [
       "<Figure size 600x400 with 1 Axes>"
      ],
      "image/png": "[encoded data removed]"
     },
     "metadata": {},
     "output_type": "display_data"
    }
   ],
   "execution_count": 70
  },
  {
   "metadata": {
    "ExecuteTime": {
     "end_time": "2025-10-06T16:01:41.224162Z",
     "start_time": "2025-10-06T16:01:41.212700Z"
    }
   },
   "cell_type": "code",
   "source": "df.loc[df[\"TIMESTAMP\"] == 0, \"TIMESTAMP\"].sum()\n",
   "id": "467b32d2ae59899b",
   "outputs": [
    {
     "data": {
      "text/plain": [
       "0"
      ]
     },
     "execution_count": 52,
     "metadata": {},
     "output_type": "execute_result"
    }
   ],
   "execution_count": 52
  },
  {
   "metadata": {},
   "cell_type": "markdown",
   "source": "#### Column: DAY_TYPE",
   "id": "f68ab3822fcceb43"
  },
  {
   "metadata": {
    "ExecuteTime": {
     "end_time": "2025-10-06T16:49:40.760474Z",
     "start_time": "2025-10-06T16:49:36.927626Z"
    }
   },
   "cell_type": "code",
   "source": [
    "total_rows\n",
    "day_type_a_rows = df.loc[df[\"DAY_TYPE\"] == \"A\"].shape[0]\n",
    "\n",
    "\n",
    "print(f'Number of total rows: {total_rows}')\n",
    "print(f'Number of rows where DAY_TYPE == A: {day_type_a_rows}')"
   ],
   "id": "730c46234003a137",
   "outputs": [
    {
     "name": "stdout",
     "output_type": "stream",
     "text": [
      "Number of total rows: 1710670\n",
      "Number of rows where DAY_TYPE == A: 1710670\n"
     ]
    }
   ],
   "execution_count": 78
  },
  {
   "metadata": {},
   "cell_type": "markdown",
   "source": "#### Column: MISSING_DATA",
   "id": "3cc4bfdfff21a12f"
  },
  {
   "metadata": {
    "ExecuteTime": {
     "end_time": "2025-10-06T18:07:36.648987Z",
     "start_time": "2025-10-06T18:07:36.632617Z"
    }
   },
   "cell_type": "code",
   "source": [
    "# Count rows where MISSING_DATA is exactly False\n",
    "false_count = (df[\"MISSING_DATA\"] == False).sum()\n",
    "print(f\"Number of trips where MISSING_DATA is False: {false_count}\")\n",
    "\n",
    "# Count rows where MISSING_DATA is exactly True\n",
    "true_count = (df[\"MISSING_DATA\"] == True).sum()\n",
    "print(f\"Number of trips where MISSING_DATA is True: {true_count}\")"
   ],
   "id": "451a1ab15242bac0",
   "outputs": [
    {
     "name": "stdout",
     "output_type": "stream",
     "text": [
      "Number of trips where MISSING_DATA is False: 1710660\n",
      "Number of trips where MISSING_DATA is True: 10\n"
     ]
    }
   ],
   "execution_count": 80
  },
  {
   "metadata": {},
   "cell_type": "markdown",
   "source": "#### Column: POLYLINE",
   "id": "1b0a56ef4addb9b9"
  },
  {
   "metadata": {
    "ExecuteTime": {
     "end_time": "2025-10-06T19:24:46.815473Z",
     "start_time": "2025-10-06T19:22:45.057170Z"
    }
   },
   "cell_type": "code",
   "source": [
    "import json\n",
    "\n",
    "def parse_poly(s):\n",
    "    try:\n",
    "        return json.loads(s)\n",
    "    except Exception:\n",
    "        return []\n",
    "    \n",
    "df[\"POLYLINE\"] = df[\"POLYLINE\"].apply(parse_poly)\n",
    "df[\"NUM_POINTS\"] = df[\"POLYLINE\"].apply(len)"
   ],
   "id": "e3d733cb222beb8a",
   "outputs": [
    {
     "name": "stdout",
     "output_type": "stream",
     "text": [
      "Minimum number of polyline points: 0\n",
      "Maximum number of polyline points: 3881\n"
     ]
    },
    {
     "data": {
      "text/plain": [
       "<Figure size 800x500 with 1 Axes>"
      ],
      "image/png": "[encoded data removed]"
     },
     "metadata": {},
     "output_type": "display_data"
    }
   ],
   "execution_count": 84
  },
  {
   "metadata": {},
   "cell_type": "code",
   "outputs": [],
   "execution_count": null,
   "source": [
    "# Find min and max\n",
    "min_points = df[\"NUM_POINTS\"].min()\n",
    "max_points = df[\"NUM_POINTS\"].max()\n",
    "print(\"Minimum number of polyline points:\", min_points)\n",
    "print(\"Maximum number of polyline points:\", max_points)"
   ],
   "id": "c2ba0d6d76874c20"
  },
  {
   "metadata": {},
   "cell_type": "code",
   "outputs": [],
   "execution_count": null,
   "source": [
    "plt.figure(figsize=(8,5))\n",
    "sns.histplot(df[\"NUM_POINTS\"], bins=50, color=\"steelblue\")\n",
    "plt.title(\"Distribution of Trip Lengths (# of GPS points)\")\n",
    "plt.xlabel(\"Number of GPS points per trip\")\n",
    "plt.ylabel(\"Number of trips\")\n",
    "plt.tight_layout()\n",
    "plt.show()"
   ],
   "id": "b7379848074065cc"
  },
  {
   "metadata": {
    "ExecuteTime": {
     "end_time": "2025-10-06T19:34:58.447772Z",
     "start_time": "2025-10-06T19:34:54.320573Z"
    }
   },
   "cell_type": "code",
   "source": [
    "col = \"NUM_POINTS\"\n",
    "z_score_threshold = 3  # adjust as needed\n",
    "\n",
    "fig, ax = plt.subplots(figsize=(8, 5))\n",
    "\n",
    "# Compute Z-scores\n",
    "z_scores = (df[col] - df[col].mean()) / df[col].std()\n",
    "\n",
    "# Identify outliers\n",
    "outliers = df[np.abs(z_scores) > z_score_threshold][col]\n",
    "\n",
    "# Base boxplot\n",
    "sns.boxplot(x=df[col], ax=ax, color=\"steelblue\")\n",
    "\n",
    "# Overlay outliers as red points\n",
    "if not outliers.empty:\n",
    "    y = np.ones(len(outliers))\n",
    "    ax.scatter(outliers, y, color=\"red\", zorder=5, label=f\"Z > {z_score_threshold}\", s=20)\n",
    "\n",
    "# Titles and labels\n",
    "ax.set_title(\"Boxplot of Trip Lengths (# of GPS points)\")\n",
    "ax.set_xlabel(\"Number of GPS points per trip\")\n",
    "ax.set_ylabel(\"\")\n",
    "ax.legend()\n",
    "\n",
    "plt.tight_layout()\n",
    "plt.show()"
   ],
   "id": "c65e6b83d55c9a10",
   "outputs": [
    {
     "data": {
      "text/plain": [
       "<Figure size 800x500 with 1 Axes>"
      ],
      "image/png": "[encoded data removed]"
     },
     "metadata": {},
     "output_type": "display_data"
    }
   ],
   "execution_count": 86
  },
  {
   "metadata": {
    "ExecuteTime": {
     "end_time": "2025-10-06T20:05:04.607391Z",
     "start_time": "2025-10-06T20:05:02.450223Z"
    }
   },
   "cell_type": "code",
   "source": [
    "plt.figure(figsize=(8,5))\n",
    "sns.histplot(\n",
    "    df.loc[(df[\"MISSING_DATA\"]==False) & (df[\"NUM_POINTS\"].between(0,300)), \"NUM_POINTS\"],\n",
    "    bins=50,\n",
    "    color=\"steelblue\"\n",
    ")\n",
    "plt.title(\"Distribution of Trip Lengths (# of GPS points)\")\n",
    "plt.xlabel(\"Number of GPS points per trip\")\n",
    "plt.ylabel(\"Number of trips\")\n",
    "plt.tight_layout()\n",
    "plt.show()\n"
   ],
   "id": "9c7fbfd5a4a234d4",
   "outputs": [
    {
     "data": {
      "text/plain": [
       "<Figure size 800x500 with 1 Axes>"
      ],
      "image/png": "[encoded data removed]"
     },
     "metadata": {},
     "output_type": "display_data"
    }
   ],
   "execution_count": 87
  },
  {
   "metadata": {
    "ExecuteTime": {
     "end_time": "2025-10-02T13:32:26.598279Z",
     "start_time": "2025-10-02T13:32:24.077848Z"
    }
   },
   "cell_type": "code",
   "source": [
    "plt.figure(figsize=(8,5))\n",
    "sns.histplot(df[\"NUM_POINTS\"].where(df[\"MISSING_DATA\"]==False), bins=50, color=\"steelblue\")\n",
    "plt.title(\"Distribution of Trip Lengths (# of GPS points)\")\n",
    "plt.xlabel(\"Number of GPS points per trip\")\n",
    "plt.ylabel(\"Number of trips\")\n",
    "plt.tight_layout()\n",
    "plt.show()"
   ],
   "id": "504a1a13b787c600",
   "outputs": [
    {
     "data": {
      "text/plain": [
       "<Figure size 800x500 with 1 Axes>"
      ],
      "image/png": "[encoded data removed]"
     },
     "metadata": {},
     "output_type": "display_data"
    }
   ],
   "execution_count": 20
  },
  {
   "metadata": {
    "ExecuteTime": {
     "end_time": "2025-10-02T13:32:06.723358Z",
     "start_time": "2025-10-02T13:32:04.503388Z"
    }
   },
   "cell_type": "code",
   "source": [
    "plt.figure(figsize=(8,5))\n",
    "sns.histplot(df[\"NUM_POINTS\"].where(df[\"MISSING_DATA\"]==True), bins=50, color=\"steelblue\")\n",
    "plt.title(\"Distribution of Trip Lengths (# of GPS points)\")\n",
    "plt.xlabel(\"Number of GPS points per trip\")\n",
    "plt.ylabel(\"Number of trips\")\n",
    "plt.tight_layout()\n",
    "plt.show()"
   ],
   "id": "c4bb2bd8abde814b",
   "outputs": [
    {
     "data": {
      "text/plain": [
       "<Figure size 800x500 with 1 Axes>"
      ],
      "image/png": "[encoded data removed]"
     },
     "metadata": {},
     "output_type": "display_data"
    }
   ],
   "execution_count": 19
  },
  {
   "metadata": {
    "ExecuteTime": {
     "end_time": "2025-10-06T20:58:14.121298Z",
     "start_time": "2025-10-06T20:58:14.104277Z"
    }
   },
   "cell_type": "code",
   "source": [
    "df_filtered = df[df[\"MISSING_DATA\"] == True]\n",
    "df_filtered[['TRIP_ID', 'NUM_POINTS']]"
   ],
   "id": "bff98c9a410e5291",
   "outputs": [
    {
     "data": {
      "text/plain": [
       "                     TRIP_ID  NUM_POINTS\n",
       "105621   1374554455620000625          43\n",
       "171397   1375863510620000454           1\n",
       "299137   1378544246620000057          11\n",
       "457486   1381233613620000387         483\n",
       "738466   1386346894620000904         285\n",
       "782321   1387137779620000640          51\n",
       "848552   1388351478620000678          27\n",
       "932391   1390005983620000640          14\n",
       "1275934  1396631707620000163           1\n",
       "1432196  1399405185620000508          53"
      ],
      "text/html": [
       "<div>\n",
       "<style scoped>\n",
       "    .dataframe tbody tr th:only-of-type {\n",
       "        vertical-align: middle;\n",
       "    }\n",
       "\n",
       "    .dataframe tbody tr th {\n",
       "        vertical-align: top;\n",
       "    }\n",
       "\n",
       "    .dataframe thead th {\n",
       "        text-align: right;\n",
       "    }\n",
       "</style>\n",
       "<table border=\"1\" class=\"dataframe\">\n",
       "  <thead>\n",
       "    <tr style=\"text-align: right;\">\n",
       "      <th></th>\n",
       "      <th>TRIP_ID</th>\n",
       "      <th>NUM_POINTS</th>\n",
       "    </tr>\n",
       "  </thead>\n",
       "  <tbody>\n",
       "    <tr>\n",
       "      <th>105621</th>\n",
       "      <td>1374554455620000625</td>\n",
       "      <td>43</td>\n",
       "    </tr>\n",
       "    <tr>\n",
       "      <th>171397</th>\n",
       "      <td>1375863510620000454</td>\n",
       "      <td>1</td>\n",
       "    </tr>\n",
       "    <tr>\n",
       "      <th>299137</th>\n",
       "      <td>1378544246620000057</td>\n",
       "      <td>11</td>\n",
       "    </tr>\n",
       "    <tr>\n",
       "      <th>457486</th>\n",
       "      <td>1381233613620000387</td>\n",
       "      <td>483</td>\n",
       "    </tr>\n",
       "    <tr>\n",
       "      <th>738466</th>\n",
       "      <td>1386346894620000904</td>\n",
       "      <td>285</td>\n",
       "    </tr>\n",
       "    <tr>\n",
       "      <th>782321</th>\n",
       "      <td>1387137779620000640</td>\n",
       "      <td>51</td>\n",
       "    </tr>\n",
       "    <tr>\n",
       "      <th>848552</th>\n",
       "      <td>1388351478620000678</td>\n",
       "      <td>27</td>\n",
       "    </tr>\n",
       "    <tr>\n",
       "      <th>932391</th>\n",
       "      <td>1390005983620000640</td>\n",
       "      <td>14</td>\n",
       "    </tr>\n",
       "    <tr>\n",
       "      <th>1275934</th>\n",
       "      <td>1396631707620000163</td>\n",
       "      <td>1</td>\n",
       "    </tr>\n",
       "    <tr>\n",
       "      <th>1432196</th>\n",
       "      <td>1399405185620000508</td>\n",
       "      <td>53</td>\n",
       "    </tr>\n",
       "  </tbody>\n",
       "</table>\n",
       "</div>"
      ]
     },
     "execution_count": 91,
     "metadata": {},
     "output_type": "execute_result"
    }
   ],
   "execution_count": 91
  },
  {
   "metadata": {
    "ExecuteTime": {
     "end_time": "2025-10-06T21:29:14.913768Z",
     "start_time": "2025-10-06T21:29:14.789018Z"
    }
   },
   "cell_type": "code",
   "source": "df_filtered",
   "id": "e7f2f20befcd7f1c",
   "outputs": [
    {
     "data": {
      "text/plain": [
       "                     TRIP_ID CALL_TYPE  ORIGIN_CALL  ORIGIN_STAND   TAXI_ID  \\\n",
       "105621   1374554455620000625         B          NaN          23.0  20000625   \n",
       "171397   1375863510620000454         B          NaN          62.0  20000454   \n",
       "299137   1378544246620000057         B          NaN          55.0  20000057   \n",
       "457486   1381233613620000387         C          NaN           NaN  20000387   \n",
       "738466   1386346894620000904         C          NaN           NaN  20000904   \n",
       "782321   1387137779620000640         C          NaN           NaN  20000640   \n",
       "848552   1388351478620000678         A       9738.0           NaN  20000678   \n",
       "932391   1390005983620000640         C          NaN           NaN  20000640   \n",
       "1275934  1396631707620000163         C          NaN           NaN  20000163   \n",
       "1432196  1399405185620000508         C          NaN           NaN  20000508   \n",
       "\n",
       "          TIMESTAMP DAY_TYPE  MISSING_DATA  \\\n",
       "105621   1374554455        A          True   \n",
       "171397   1375863510        A          True   \n",
       "299137   1378544246        A          True   \n",
       "457486   1381233613        A          True   \n",
       "738466   1386346894        A          True   \n",
       "782321   1387137779        A          True   \n",
       "848552   1388351478        A          True   \n",
       "932391   1390005983        A          True   \n",
       "1275934  1396631707        A          True   \n",
       "1432196  1399405185        A          True   \n",
       "\n",
       "                                                  POLYLINE  \\\n",
       "105621   [[-8.612559, 41.145975], [-8.612577, 41.145975...   \n",
       "171397                            [[-0.205893, 41.010282]]   \n",
       "299137   [[-8.569719, 41.166135], [-8.567928, 41.166477...   \n",
       "457486   [[-8.626347, 41.153436], [-8.626275, 41.152905...   \n",
       "738466   [[-8.652816, 40.636575], [-8.652807, 40.636566...   \n",
       "782321   [[-8.604558, 41.161941], [-8.604477, 41.162013...   \n",
       "848552   [[-8.609697, 41.160276], [-8.609571, 41.16033]...   \n",
       "932391   [[-8.604792, 41.16123], [-8.604801, 41.161167]...   \n",
       "1275934                          [[-10.634022, 43.834248]]   \n",
       "1432196  [[-8.620011, 41.14683], [-8.619957, 41.146659]...   \n",
       "\n",
       "                 timestamp2  year  month  day  hour    weekday  NUM_POINTS  \n",
       "105621  2013-07-23 04:40:55  2013      7   23     4    Tuesday          43  \n",
       "171397  2013-08-07 08:18:30  2013      8    7     8  Wednesday           1  \n",
       "299137  2013-09-07 08:57:26  2013      9    7     8   Saturday          11  \n",
       "457486  2013-10-08 12:00:13  2013     10    8    12    Tuesday         483  \n",
       "738466  2013-12-06 16:21:34  2013     12    6    16     Friday         285  \n",
       "782321  2013-12-15 20:02:59  2013     12   15    20     Sunday          51  \n",
       "848552  2013-12-29 21:11:18  2013     12   29    21     Sunday          27  \n",
       "932391  2014-01-18 00:46:23  2014      1   18     0   Saturday          14  \n",
       "1275934 2014-04-04 17:15:07  2014      4    4    17     Friday           1  \n",
       "1432196 2014-05-06 19:39:45  2014      5    6    19    Tuesday          53  "
      ],
      "text/html": [
       "<div>\n",
       "<style scoped>\n",
       "    .dataframe tbody tr th:only-of-type {\n",
       "        vertical-align: middle;\n",
       "    }\n",
       "\n",
       "    .dataframe tbody tr th {\n",
       "        vertical-align: top;\n",
       "    }\n",
       "\n",
       "    .dataframe thead th {\n",
       "        text-align: right;\n",
       "    }\n",
       "</style>\n",
       "<table border=\"1\" class=\"dataframe\">\n",
       "  <thead>\n",
       "    <tr style=\"text-align: right;\">\n",
       "      <th></th>\n",
       "      <th>TRIP_ID</th>\n",
       "      <th>CALL_TYPE</th>\n",
       "      <th>ORIGIN_CALL</th>\n",
       "      <th>ORIGIN_STAND</th>\n",
       "      <th>TAXI_ID</th>\n",
       "      <th>TIMESTAMP</th>\n",
       "      <th>DAY_TYPE</th>\n",
       "      <th>MISSING_DATA</th>\n",
       "      <th>POLYLINE</th>\n",
       "      <th>timestamp2</th>\n",
       "      <th>year</th>\n",
       "      <th>month</th>\n",
       "      <th>day</th>\n",
       "      <th>hour</th>\n",
       "      <th>weekday</th>\n",
       "      <th>NUM_POINTS</th>\n",
       "    </tr>\n",
       "  </thead>\n",
       "  <tbody>\n",
       "    <tr>\n",
       "      <th>105621</th>\n",
       "      <td>1374554455620000625</td>\n",
       "      <td>B</td>\n",
       "      <td>NaN</td>\n",
       "      <td>23.0</td>\n",
       "      <td>20000625</td>\n",
       "      <td>1374554455</td>\n",
       "      <td>A</td>\n",
       "      <td>True</td>\n",
       "      <td>[[-8.612559, 41.145975], [-8.612577, 41.145975...</td>\n",
       "      <td>2013-07-23 04:40:55</td>\n",
       "      <td>2013</td>\n",
       "      <td>7</td>\n",
       "      <td>23</td>\n",
       "      <td>4</td>\n",
       "      <td>Tuesday</td>\n",
       "      <td>43</td>\n",
       "    </tr>\n",
       "    <tr>\n",
       "      <th>171397</th>\n",
       "      <td>1375863510620000454</td>\n",
       "      <td>B</td>\n",
       "      <td>NaN</td>\n",
       "      <td>62.0</td>\n",
       "      <td>20000454</td>\n",
       "      <td>1375863510</td>\n",
       "      <td>A</td>\n",
       "      <td>True</td>\n",
       "      <td>[[-0.205893, 41.010282]]</td>\n",
       "      <td>2013-08-07 08:18:30</td>\n",
       "      <td>2013</td>\n",
       "      <td>8</td>\n",
       "      <td>7</td>\n",
       "      <td>8</td>\n",
       "      <td>Wednesday</td>\n",
       "      <td>1</td>\n",
       "    </tr>\n",
       "    <tr>\n",
       "      <th>299137</th>\n",
       "      <td>1378544246620000057</td>\n",
       "      <td>B</td>\n",
       "      <td>NaN</td>\n",
       "      <td>55.0</td>\n",
       "      <td>20000057</td>\n",
       "      <td>1378544246</td>\n",
       "      <td>A</td>\n",
       "      <td>True</td>\n",
       "      <td>[[-8.569719, 41.166135], [-8.567928, 41.166477...</td>\n",
       "      <td>2013-09-07 08:57:26</td>\n",
       "      <td>2013</td>\n",
       "      <td>9</td>\n",
       "      <td>7</td>\n",
       "      <td>8</td>\n",
       "      <td>Saturday</td>\n",
       "      <td>11</td>\n",
       "    </tr>\n",
       "    <tr>\n",
       "      <th>457486</th>\n",
       "      <td>1381233613620000387</td>\n",
       "      <td>C</td>\n",
       "      <td>NaN</td>\n",
       "      <td>NaN</td>\n",
       "      <td>20000387</td>\n",
       "      <td>1381233613</td>\n",
       "      <td>A</td>\n",
       "      <td>True</td>\n",
       "      <td>[[-8.626347, 41.153436], [-8.626275, 41.152905...</td>\n",
       "      <td>2013-10-08 12:00:13</td>\n",
       "      <td>2013</td>\n",
       "      <td>10</td>\n",
       "      <td>8</td>\n",
       "      <td>12</td>\n",
       "      <td>Tuesday</td>\n",
       "      <td>483</td>\n",
       "    </tr>\n",
       "    <tr>\n",
       "      <th>738466</th>\n",
       "      <td>1386346894620000904</td>\n",
       "      <td>C</td>\n",
       "      <td>NaN</td>\n",
       "      <td>NaN</td>\n",
       "      <td>20000904</td>\n",
       "      <td>1386346894</td>\n",
       "      <td>A</td>\n",
       "      <td>True</td>\n",
       "      <td>[[-8.652816, 40.636575], [-8.652807, 40.636566...</td>\n",
       "      <td>2013-12-06 16:21:34</td>\n",
       "      <td>2013</td>\n",
       "      <td>12</td>\n",
       "      <td>6</td>\n",
       "      <td>16</td>\n",
       "      <td>Friday</td>\n",
       "      <td>285</td>\n",
       "    </tr>\n",
       "    <tr>\n",
       "      <th>782321</th>\n",
       "      <td>1387137779620000640</td>\n",
       "      <td>C</td>\n",
       "      <td>NaN</td>\n",
       "      <td>NaN</td>\n",
       "      <td>20000640</td>\n",
       "      <td>1387137779</td>\n",
       "      <td>A</td>\n",
       "      <td>True</td>\n",
       "      <td>[[-8.604558, 41.161941], [-8.604477, 41.162013...</td>\n",
       "      <td>2013-12-15 20:02:59</td>\n",
       "      <td>2013</td>\n",
       "      <td>12</td>\n",
       "      <td>15</td>\n",
       "      <td>20</td>\n",
       "      <td>Sunday</td>\n",
       "      <td>51</td>\n",
       "    </tr>\n",
       "    <tr>\n",
       "      <th>848552</th>\n",
       "      <td>1388351478620000678</td>\n",
       "      <td>A</td>\n",
       "      <td>9738.0</td>\n",
       "      <td>NaN</td>\n",
       "      <td>20000678</td>\n",
       "      <td>1388351478</td>\n",
       "      <td>A</td>\n",
       "      <td>True</td>\n",
       "      <td>[[-8.609697, 41.160276], [-8.609571, 41.16033]...</td>\n",
       "      <td>2013-12-29 21:11:18</td>\n",
       "      <td>2013</td>\n",
       "      <td>12</td>\n",
       "      <td>29</td>\n",
       "      <td>21</td>\n",
       "      <td>Sunday</td>\n",
       "      <td>27</td>\n",
       "    </tr>\n",
       "    <tr>\n",
       "      <th>932391</th>\n",
       "      <td>1390005983620000640</td>\n",
       "      <td>C</td>\n",
       "      <td>NaN</td>\n",
       "      <td>NaN</td>\n",
       "      <td>20000640</td>\n",
       "      <td>1390005983</td>\n",
       "      <td>A</td>\n",
       "      <td>True</td>\n",
       "      <td>[[-8.604792, 41.16123], [-8.604801, 41.161167]...</td>\n",
       "      <td>2014-01-18 00:46:23</td>\n",
       "      <td>2014</td>\n",
       "      <td>1</td>\n",
       "      <td>18</td>\n",
       "      <td>0</td>\n",
       "      <td>Saturday</td>\n",
       "      <td>14</td>\n",
       "    </tr>\n",
       "    <tr>\n",
       "      <th>1275934</th>\n",
       "      <td>1396631707620000163</td>\n",
       "      <td>C</td>\n",
       "      <td>NaN</td>\n",
       "      <td>NaN</td>\n",
       "      <td>20000163</td>\n",
       "      <td>1396631707</td>\n",
       "      <td>A</td>\n",
       "      <td>True</td>\n",
       "      <td>[[-10.634022, 43.834248]]</td>\n",
       "      <td>2014-04-04 17:15:07</td>\n",
       "      <td>2014</td>\n",
       "      <td>4</td>\n",
       "      <td>4</td>\n",
       "      <td>17</td>\n",
       "      <td>Friday</td>\n",
       "      <td>1</td>\n",
       "    </tr>\n",
       "    <tr>\n",
       "      <th>1432196</th>\n",
       "      <td>1399405185620000508</td>\n",
       "      <td>C</td>\n",
       "      <td>NaN</td>\n",
       "      <td>NaN</td>\n",
       "      <td>20000508</td>\n",
       "      <td>1399405185</td>\n",
       "      <td>A</td>\n",
       "      <td>True</td>\n",
       "      <td>[[-8.620011, 41.14683], [-8.619957, 41.146659]...</td>\n",
       "      <td>2014-05-06 19:39:45</td>\n",
       "      <td>2014</td>\n",
       "      <td>5</td>\n",
       "      <td>6</td>\n",
       "      <td>19</td>\n",
       "      <td>Tuesday</td>\n",
       "      <td>53</td>\n",
       "    </tr>\n",
       "  </tbody>\n",
       "</table>\n",
       "</div>"
      ]
     },
     "execution_count": 92,
     "metadata": {},
     "output_type": "execute_result"
    }
   ],
   "execution_count": 92
  },
  {
   "metadata": {
    "ExecuteTime": {
     "end_time": "2025-10-02T15:18:44.495426Z",
     "start_time": "2025-10-02T15:18:44.454769Z"
    }
   },
   "cell_type": "code",
   "source": [
    "import pandas as pd\n",
    "import os\n",
    "\n",
    "# Create an output folder for the CSVs\n",
    "output_dir = \"gpsviz_files\"\n",
    "os.makedirs(output_dir, exist_ok=True)\n",
    "\n",
    "# Filter only rows with missing data\n",
    "missing_rows = df[df[\"MISSING_DATA\"] == True]\n",
    "\n",
    "for idx, row in missing_rows.iterrows():\n",
    "    coords = row[\"POLYLINE\"]   # already parsed list of [lon, lat]\n",
    "\n",
    "    # Convert into DataFrame with correct columns\n",
    "    coords_df = pd.DataFrame(coords, columns=[\"longitude\", \"latitude\"])\n",
    "\n",
    "    trip_name = f\"trip_{idx}\"\n",
    "\n",
    "    # Save to CSV\n",
    "    file_path = os.path.join(output_dir, f\"{trip_name}.csv\")\n",
    "    coords_df.to_csv(file_path, index=False)\n",
    "\n",
    "    print(f\"Saved {file_path}\")"
   ],
   "id": "b21b24f8b48f679f",
   "outputs": [
    {
     "name": "stdout",
     "output_type": "stream",
     "text": [
      "Saved gpsviz_files\\trip_105621.csv\n",
      "Saved gpsviz_files\\trip_171397.csv\n",
      "Saved gpsviz_files\\trip_299137.csv\n",
      "Saved gpsviz_files\\trip_457486.csv\n",
      "Saved gpsviz_files\\trip_738466.csv\n",
      "Saved gpsviz_files\\trip_782321.csv\n",
      "Saved gpsviz_files\\trip_848552.csv\n",
      "Saved gpsviz_files\\trip_932391.csv\n",
      "Saved gpsviz_files\\trip_1275934.csv\n",
      "Saved gpsviz_files\\trip_1432196.csv\n"
     ]
    }
   ],
   "execution_count": 29
  },
  {
   "metadata": {
    "ExecuteTime": {
     "end_time": "2025-10-02T15:17:48.140065Z",
     "start_time": "2025-10-02T15:17:48.063093Z"
    }
   },
   "cell_type": "code",
   "source": [
    "import pandas as pd\n",
    "import os\n",
    "\n",
    "# Create an output folder for the CSVs\n",
    "output_dir = \"gpsviz_files\"\n",
    "os.makedirs(output_dir, exist_ok=True)\n",
    "\n",
    "# Filter only rows with missing data\n",
    "missing_rows = df[df[\"MISSING_DATA\"] == True]\n",
    "\n",
    "for idx, row in missing_rows.iterrows():\n",
    "    coords = row[\"POLYLINE\"]   # already parsed list of [lon, lat]\n",
    "\n",
    "    if not coords:\n",
    "        continue\n",
    "\n",
    "    # Convert coords to DataFrame (lon, lat -> then reorder)\n",
    "    coords_df = pd.DataFrame(coords, columns=[\"longitude\", \"latitude\"])\n",
    "\n",
    "    # Add name and desc\n",
    "    coords_df.insert(0, \"name\", \"\")\n",
    "    coords_df.insert(1, \"desc\", \"\")\n",
    "\n",
    "    # Mark start and end\n",
    "    coords_df.loc[coords_df.index[0], \"name\"] = \"start\"\n",
    "    coords_df.loc[coords_df.index[-1], \"name\"] = \"end\"\n",
    "\n",
    "    # Reorder columns to name, desc, latitude, longitude\n",
    "    coords_df = coords_df[[\"name\", \"desc\", \"latitude\", \"longitude\"]]\n",
    "\n",
    "    # Trip name\n",
    "    trip_name = f\"trip_{idx}\"\n",
    "\n",
    "    # Save to CSV\n",
    "    file_path = os.path.join(output_dir, f\"{trip_name}.csv\")\n",
    "    coords_df.to_csv(file_path, index=False)\n",
    "\n",
    "    print(f\"Saved {file_path}\")\n"
   ],
   "id": "a2026362ebf5d3ff",
   "outputs": [
    {
     "name": "stdout",
     "output_type": "stream",
     "text": [
      "Saved gpsviz_files\\trip_105621.csv\n",
      "Saved gpsviz_files\\trip_171397.csv\n",
      "Saved gpsviz_files\\trip_299137.csv\n",
      "Saved gpsviz_files\\trip_457486.csv\n",
      "Saved gpsviz_files\\trip_738466.csv\n",
      "Saved gpsviz_files\\trip_782321.csv\n",
      "Saved gpsviz_files\\trip_848552.csv\n",
      "Saved gpsviz_files\\trip_932391.csv\n",
      "Saved gpsviz_files\\trip_1275934.csv\n",
      "Saved gpsviz_files\\trip_1432196.csv\n"
     ]
    }
   ],
   "execution_count": 28
  }
 ],
 "metadata": {
  "kernelspec": {
   "display_name": "Python 3",
   "language": "python",
   "name": "python3"
  },
  "language_info": {
   "codemirror_mode": {
    "name": "ipython",
    "version": 2
   },
   "file_extension": ".py",
   "mimetype": "text/x-python",
   "name": "python",
   "nbconvert_exporter": "python",
   "pygments_lexer": "ipython2",
   "version": "2.7.6"
  }
 },
 "nbformat": 4,
 "nbformat_minor": 5
}
