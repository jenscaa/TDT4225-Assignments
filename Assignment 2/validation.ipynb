{
 "cells": [
  {
   "cell_type": "code",
   "id": "initial_id",
   "metadata": {
    "collapsed": true,
    "ExecuteTime": {
     "end_time": "2025-09-30T09:42:14.282859Z",
     "start_time": "2025-09-30T09:23:53.218700Z"
    }
   },
   "source": [
    "import pandas as pd\n",
    "import ast\n",
    "\n",
    "\n",
    "# Load dataset\n",
    "df = pd.read_csv(\"porto.csv\")\n",
    "\n",
    "# Parse POLYLINE (string to Python list)\n",
    "df[\"POLYLINE\"] = df[\"POLYLINE\"].apply(ast.literal_eval)"
   ],
   "outputs": [],
   "execution_count": 3
  },
  {
   "metadata": {
    "ExecuteTime": {
     "end_time": "2025-09-30T09:42:18.806815Z",
     "start_time": "2025-09-30T09:42:17.886040Z"
    }
   },
   "cell_type": "code",
   "source": [
    "# 1. How many taxis, trips, and total GPS points are there?\n",
    "num_taxis = df[\"TAXI_ID\"].nunique()\n",
    "num_trips = len(df)\n",
    "total_points = df[\"POLYLINE\"].apply(len).sum()\n",
    "\n",
    "print(\"Number of taxis:\", num_taxis)\n",
    "print(\"Number of trips:\", num_trips)\n",
    "print(\"Total GPS points:\", total_points)"
   ],
   "id": "91bd6157db085cd6",
   "outputs": [
    {
     "name": "stdout",
     "output_type": "stream",
     "text": [
      "Number of taxis: 448\n",
      "Number of trips: 1710670\n",
      "Total GPS points: 83409386\n"
     ]
    }
   ],
   "execution_count": 4
  },
  {
   "metadata": {
    "ExecuteTime": {
     "end_time": "2025-09-30T09:42:18.833819Z",
     "start_time": "2025-09-30T09:42:18.827348Z"
    }
   },
   "cell_type": "code",
   "source": [
    "# 2. What is the average number of trips per taxi?\n",
    "avg_trips_per_taxi = num_trips / num_taxis\n",
    "print(\"Average trips per taxi:\", avg_trips_per_taxi)"
   ],
   "id": "741ec12392229209",
   "outputs": [
    {
     "name": "stdout",
     "output_type": "stream",
     "text": [
      "Average trips per taxi: 3818.4598214285716\n"
     ]
    }
   ],
   "execution_count": 5
  },
  {
   "metadata": {
    "ExecuteTime": {
     "end_time": "2025-09-30T09:42:18.913804Z",
     "start_time": "2025-09-30T09:42:18.859223Z"
    }
   },
   "cell_type": "code",
   "source": [
    "# 3. List the top 20 taxis with the most trips\n",
    "top_20_taxis = (\n",
    "    df.groupby(\"TAXI_ID\")[\"TRIP_ID\"]\n",
    "    .count()\n",
    "    .sort_values(ascending=False)\n",
    "    .head(20)\n",
    ")\n",
    "\n",
    "print(\"Top 20 taxis with most trips:\")\n",
    "print(top_20_taxis)"
   ],
   "id": "c2ed354c476e2dcf",
   "outputs": [
    {
     "name": "stdout",
     "output_type": "stream",
     "text": [
      "Top 20 taxis with most trips:\n",
      "TAXI_ID\n",
      "20000080    10746\n",
      "20000403     9238\n",
      "20000066     8449\n",
      "20000364     7821\n",
      "20000483     7729\n",
      "20000129     7609\n",
      "20000307     7498\n",
      "20000621     7276\n",
      "20000089     7267\n",
      "20000424     7176\n",
      "20000492     7171\n",
      "20000529     6937\n",
      "20000616     6924\n",
      "20000678     6538\n",
      "20000372     6535\n",
      "20000304     6505\n",
      "20000042     6467\n",
      "20000325     6460\n",
      "20000179     6430\n",
      "20000235     6410\n",
      "Name: TRIP_ID, dtype: int64\n"
     ]
    }
   ],
   "execution_count": 6
  }
 ],
 "metadata": {
  "kernelspec": {
   "display_name": "Python 3",
   "language": "python",
   "name": "python3"
  },
  "language_info": {
   "codemirror_mode": {
    "name": "ipython",
    "version": 2
   },
   "file_extension": ".py",
   "mimetype": "text/x-python",
   "name": "python",
   "nbconvert_exporter": "python",
   "pygments_lexer": "ipython2",
   "version": "2.7.6"
  }
 },
 "nbformat": 4,
 "nbformat_minor": 5
}
